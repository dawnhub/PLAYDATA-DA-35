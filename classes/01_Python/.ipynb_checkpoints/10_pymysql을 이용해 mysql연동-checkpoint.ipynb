{
 "cells": [
  {
   "cell_type": "markdown",
   "id": "a2f58681",
   "metadata": {},
   "source": [
    "# pymysql\n",
    "\n",
    "-   파이썬에서 MySQL, MariaDB DBMS와 연동하는 다양한 함수를 제공하는 모듈\n",
    "-   Python [DB API 2.0](http://www.python.org/dev/peps/pep-0249) 표준을 따른다.\n",
    "-   https://github.com/PyMySQL/PyMySQL/\n",
    "-   https://pymysql.readthedocs.io/en/latest/\n"
   ]
  },
  {
   "cell_type": "markdown",
   "id": "43cccb80",
   "metadata": {},
   "source": [
    "# 설치\n",
    "\n",
    "-   조건\n",
    "    -   python version 3.6 이상\n",
    "    -   mysql version 5.6 이상\n",
    "-   설치\n",
    "    -   `pip install pymysql`\n",
    "    -   `conda install -c conda-forge pymysql`\n"
   ]
  },
  {
   "cell_type": "code",
   "execution_count": null,
   "id": "16ddb3ec",
   "metadata": {},
   "outputs": [],
   "source": []
  },
  {
   "cell_type": "markdown",
   "id": "7572463d",
   "metadata": {},
   "source": [
    "# 기본 작성 절차\n",
    "\n",
    "1. Database 연결\n",
    "    ```python\n",
    "       connection =  pymysql.connect(host=\"DBMS 서버 ip\",\n",
    "                                     port=\"port번호\",\n",
    "                                     user=\"계정명\",\n",
    "                                     password=\"비밀번호\",\n",
    "                                     db=\"연결할데이터베이스이름\",\n",
    "                                     charset='utf8')\n",
    "    ```\n",
    "    - port 번호 기본값: 3306\n",
    "2. Connection을 이용해 Cursor 생성\n",
    "    - Cursor: 연결된 Database에 sql문을 전송하고 select결과 조회 기능을 제공하는 객체\n",
    "    ```python\n",
    "        cursor = connection.cursor()\n",
    "    ```\n",
    "3. Cusror를 이용해 SQL문 전송\n",
    "    ```python\n",
    "        cursor.execute(\"sql문\")\n",
    "    ```\n",
    "4. 연결 닫기\n",
    "    - cursor, connection 연결을 닫는다.\n",
    "    - with문을 이용할 수 있다.\n",
    "    ```python\n",
    "    cursor.close()\n",
    "    connection.close()\n",
    "    ```\n"
   ]
  },
  {
   "cell_type": "markdown",
   "id": "3262b127",
   "metadata": {},
   "source": [
    "# 예제\n",
    "\n",
    "## 테이블 생성\n"
   ]
  },
  {
   "cell_type": "code",
   "execution_count": 13,
   "id": "a8a1f263",
   "metadata": {},
   "outputs": [
    {
     "name": "stdout",
     "output_type": "stream",
     "text": [
      "<class 'pymysql.connections.Connection'>\n"
     ]
    },
    {
     "ename": "OperationalError",
     "evalue": "(1050, \"Table 'customer' already exists\")",
     "output_type": "error",
     "traceback": [
      "\u001b[1;31m---------------------------------------------------------------------------\u001b[0m",
      "\u001b[1;31mOperationalError\u001b[0m                          Traceback (most recent call last)",
      "Cell \u001b[1;32mIn[13], line 33\u001b[0m\n\u001b[0;32m     29\u001b[0m     cursor \u001b[38;5;241m=\u001b[39m conn\u001b[38;5;241m.\u001b[39mcursor()\n\u001b[0;32m     32\u001b[0m     \u001b[38;5;66;03m#3. SQL 문 전송 + 처리결과 받기\u001b[39;00m\n\u001b[1;32m---> 33\u001b[0m     result \u001b[38;5;241m=\u001b[39m \u001b[43mcursor\u001b[49m\u001b[38;5;241;43m.\u001b[39;49m\u001b[43mexecute\u001b[49m\u001b[43m(\u001b[49m\u001b[43mcreate_sql\u001b[49m\u001b[43m)\u001b[49m\n\u001b[0;32m     34\u001b[0m     \u001b[38;5;28mprint\u001b[39m(result)\n\u001b[0;32m     35\u001b[0m \u001b[38;5;28;01mfinally\u001b[39;00m:\n\u001b[0;32m     36\u001b[0m     \u001b[38;5;66;03m#4. 연결 닫기\u001b[39;00m\n",
      "File \u001b[1;32mC:\\classes\\01_python\\env\\Lib\\site-packages\\pymysql\\cursors.py:153\u001b[0m, in \u001b[0;36mCursor.execute\u001b[1;34m(self, query, args)\u001b[0m\n\u001b[0;32m    149\u001b[0m     \u001b[38;5;28;01mpass\u001b[39;00m\n\u001b[0;32m    151\u001b[0m query \u001b[38;5;241m=\u001b[39m \u001b[38;5;28mself\u001b[39m\u001b[38;5;241m.\u001b[39mmogrify(query, args)\n\u001b[1;32m--> 153\u001b[0m result \u001b[38;5;241m=\u001b[39m \u001b[38;5;28;43mself\u001b[39;49m\u001b[38;5;241;43m.\u001b[39;49m\u001b[43m_query\u001b[49m\u001b[43m(\u001b[49m\u001b[43mquery\u001b[49m\u001b[43m)\u001b[49m\n\u001b[0;32m    154\u001b[0m \u001b[38;5;28mself\u001b[39m\u001b[38;5;241m.\u001b[39m_executed \u001b[38;5;241m=\u001b[39m query\n\u001b[0;32m    155\u001b[0m \u001b[38;5;28;01mreturn\u001b[39;00m result\n",
      "File \u001b[1;32mC:\\classes\\01_python\\env\\Lib\\site-packages\\pymysql\\cursors.py:322\u001b[0m, in \u001b[0;36mCursor._query\u001b[1;34m(self, q)\u001b[0m\n\u001b[0;32m    320\u001b[0m conn \u001b[38;5;241m=\u001b[39m \u001b[38;5;28mself\u001b[39m\u001b[38;5;241m.\u001b[39m_get_db()\n\u001b[0;32m    321\u001b[0m \u001b[38;5;28mself\u001b[39m\u001b[38;5;241m.\u001b[39m_clear_result()\n\u001b[1;32m--> 322\u001b[0m \u001b[43mconn\u001b[49m\u001b[38;5;241;43m.\u001b[39;49m\u001b[43mquery\u001b[49m\u001b[43m(\u001b[49m\u001b[43mq\u001b[49m\u001b[43m)\u001b[49m\n\u001b[0;32m    323\u001b[0m \u001b[38;5;28mself\u001b[39m\u001b[38;5;241m.\u001b[39m_do_get_result()\n\u001b[0;32m    324\u001b[0m \u001b[38;5;28;01mreturn\u001b[39;00m \u001b[38;5;28mself\u001b[39m\u001b[38;5;241m.\u001b[39mrowcount\n",
      "File \u001b[1;32mC:\\classes\\01_python\\env\\Lib\\site-packages\\pymysql\\connections.py:558\u001b[0m, in \u001b[0;36mConnection.query\u001b[1;34m(self, sql, unbuffered)\u001b[0m\n\u001b[0;32m    556\u001b[0m     sql \u001b[38;5;241m=\u001b[39m sql\u001b[38;5;241m.\u001b[39mencode(\u001b[38;5;28mself\u001b[39m\u001b[38;5;241m.\u001b[39mencoding, \u001b[38;5;124m\"\u001b[39m\u001b[38;5;124msurrogateescape\u001b[39m\u001b[38;5;124m\"\u001b[39m)\n\u001b[0;32m    557\u001b[0m \u001b[38;5;28mself\u001b[39m\u001b[38;5;241m.\u001b[39m_execute_command(COMMAND\u001b[38;5;241m.\u001b[39mCOM_QUERY, sql)\n\u001b[1;32m--> 558\u001b[0m \u001b[38;5;28mself\u001b[39m\u001b[38;5;241m.\u001b[39m_affected_rows \u001b[38;5;241m=\u001b[39m \u001b[38;5;28;43mself\u001b[39;49m\u001b[38;5;241;43m.\u001b[39;49m\u001b[43m_read_query_result\u001b[49m\u001b[43m(\u001b[49m\u001b[43munbuffered\u001b[49m\u001b[38;5;241;43m=\u001b[39;49m\u001b[43munbuffered\u001b[49m\u001b[43m)\u001b[49m\n\u001b[0;32m    559\u001b[0m \u001b[38;5;28;01mreturn\u001b[39;00m \u001b[38;5;28mself\u001b[39m\u001b[38;5;241m.\u001b[39m_affected_rows\n",
      "File \u001b[1;32mC:\\classes\\01_python\\env\\Lib\\site-packages\\pymysql\\connections.py:822\u001b[0m, in \u001b[0;36mConnection._read_query_result\u001b[1;34m(self, unbuffered)\u001b[0m\n\u001b[0;32m    820\u001b[0m \u001b[38;5;28;01melse\u001b[39;00m:\n\u001b[0;32m    821\u001b[0m     result \u001b[38;5;241m=\u001b[39m MySQLResult(\u001b[38;5;28mself\u001b[39m)\n\u001b[1;32m--> 822\u001b[0m     \u001b[43mresult\u001b[49m\u001b[38;5;241;43m.\u001b[39;49m\u001b[43mread\u001b[49m\u001b[43m(\u001b[49m\u001b[43m)\u001b[49m\n\u001b[0;32m    823\u001b[0m \u001b[38;5;28mself\u001b[39m\u001b[38;5;241m.\u001b[39m_result \u001b[38;5;241m=\u001b[39m result\n\u001b[0;32m    824\u001b[0m \u001b[38;5;28;01mif\u001b[39;00m result\u001b[38;5;241m.\u001b[39mserver_status \u001b[38;5;129;01mis\u001b[39;00m \u001b[38;5;129;01mnot\u001b[39;00m \u001b[38;5;28;01mNone\u001b[39;00m:\n",
      "File \u001b[1;32mC:\\classes\\01_python\\env\\Lib\\site-packages\\pymysql\\connections.py:1200\u001b[0m, in \u001b[0;36mMySQLResult.read\u001b[1;34m(self)\u001b[0m\n\u001b[0;32m   1198\u001b[0m \u001b[38;5;28;01mdef\u001b[39;00m \u001b[38;5;21mread\u001b[39m(\u001b[38;5;28mself\u001b[39m):\n\u001b[0;32m   1199\u001b[0m     \u001b[38;5;28;01mtry\u001b[39;00m:\n\u001b[1;32m-> 1200\u001b[0m         first_packet \u001b[38;5;241m=\u001b[39m \u001b[38;5;28;43mself\u001b[39;49m\u001b[38;5;241;43m.\u001b[39;49m\u001b[43mconnection\u001b[49m\u001b[38;5;241;43m.\u001b[39;49m\u001b[43m_read_packet\u001b[49m\u001b[43m(\u001b[49m\u001b[43m)\u001b[49m\n\u001b[0;32m   1202\u001b[0m         \u001b[38;5;28;01mif\u001b[39;00m first_packet\u001b[38;5;241m.\u001b[39mis_ok_packet():\n\u001b[0;32m   1203\u001b[0m             \u001b[38;5;28mself\u001b[39m\u001b[38;5;241m.\u001b[39m_read_ok_packet(first_packet)\n",
      "File \u001b[1;32mC:\\classes\\01_python\\env\\Lib\\site-packages\\pymysql\\connections.py:772\u001b[0m, in \u001b[0;36mConnection._read_packet\u001b[1;34m(self, packet_type)\u001b[0m\n\u001b[0;32m    770\u001b[0m     \u001b[38;5;28;01mif\u001b[39;00m \u001b[38;5;28mself\u001b[39m\u001b[38;5;241m.\u001b[39m_result \u001b[38;5;129;01mis\u001b[39;00m \u001b[38;5;129;01mnot\u001b[39;00m \u001b[38;5;28;01mNone\u001b[39;00m \u001b[38;5;129;01mand\u001b[39;00m \u001b[38;5;28mself\u001b[39m\u001b[38;5;241m.\u001b[39m_result\u001b[38;5;241m.\u001b[39munbuffered_active \u001b[38;5;129;01mis\u001b[39;00m \u001b[38;5;28;01mTrue\u001b[39;00m:\n\u001b[0;32m    771\u001b[0m         \u001b[38;5;28mself\u001b[39m\u001b[38;5;241m.\u001b[39m_result\u001b[38;5;241m.\u001b[39munbuffered_active \u001b[38;5;241m=\u001b[39m \u001b[38;5;28;01mFalse\u001b[39;00m\n\u001b[1;32m--> 772\u001b[0m     \u001b[43mpacket\u001b[49m\u001b[38;5;241;43m.\u001b[39;49m\u001b[43mraise_for_error\u001b[49m\u001b[43m(\u001b[49m\u001b[43m)\u001b[49m\n\u001b[0;32m    773\u001b[0m \u001b[38;5;28;01mreturn\u001b[39;00m packet\n",
      "File \u001b[1;32mC:\\classes\\01_python\\env\\Lib\\site-packages\\pymysql\\protocol.py:221\u001b[0m, in \u001b[0;36mMysqlPacket.raise_for_error\u001b[1;34m(self)\u001b[0m\n\u001b[0;32m    219\u001b[0m \u001b[38;5;28;01mif\u001b[39;00m DEBUG:\n\u001b[0;32m    220\u001b[0m     \u001b[38;5;28mprint\u001b[39m(\u001b[38;5;124m\"\u001b[39m\u001b[38;5;124merrno =\u001b[39m\u001b[38;5;124m\"\u001b[39m, errno)\n\u001b[1;32m--> 221\u001b[0m \u001b[43merr\u001b[49m\u001b[38;5;241;43m.\u001b[39;49m\u001b[43mraise_mysql_exception\u001b[49m\u001b[43m(\u001b[49m\u001b[38;5;28;43mself\u001b[39;49m\u001b[38;5;241;43m.\u001b[39;49m\u001b[43m_data\u001b[49m\u001b[43m)\u001b[49m\n",
      "File \u001b[1;32mC:\\classes\\01_python\\env\\Lib\\site-packages\\pymysql\\err.py:143\u001b[0m, in \u001b[0;36mraise_mysql_exception\u001b[1;34m(data)\u001b[0m\n\u001b[0;32m    141\u001b[0m \u001b[38;5;28;01mif\u001b[39;00m errorclass \u001b[38;5;129;01mis\u001b[39;00m \u001b[38;5;28;01mNone\u001b[39;00m:\n\u001b[0;32m    142\u001b[0m     errorclass \u001b[38;5;241m=\u001b[39m InternalError \u001b[38;5;28;01mif\u001b[39;00m errno \u001b[38;5;241m<\u001b[39m \u001b[38;5;241m1000\u001b[39m \u001b[38;5;28;01melse\u001b[39;00m OperationalError\n\u001b[1;32m--> 143\u001b[0m \u001b[38;5;28;01mraise\u001b[39;00m errorclass(errno, errval)\n",
      "\u001b[1;31mOperationalError\u001b[0m: (1050, \"Table 'customer' already exists\")"
     ]
    }
   ],
   "source": [
    "create_sql = '''\n",
    "create table customer(\n",
    "id int auto_increment primary key,\n",
    "name varchar(20) not null,\n",
    "email varchar(50) not null unique,\n",
    "tall decimal(5,2),\n",
    "birthday date,\n",
    "created_at datetime not null\n",
    ")\n",
    "'''\n",
    "\n",
    "import pymysql\n",
    "\n",
    "try:\n",
    "    conn = None\n",
    "    #1. Database와 연결\n",
    "    conn = pymysql.connect(\n",
    "                    host='127.0.0.1', #IP str\n",
    "                    port=3306,       #port번호 int\n",
    "                    user='playdata',  # str              \n",
    "                    password='1111', # str\n",
    "                    db = 'mydb' #str \n",
    "        )\n",
    "    \n",
    "    print(type(conn))\n",
    "    \n",
    "    #2.connection을 사용해서 cursor instance 생성\n",
    "    # cursor : sql 처리를 하는 기능을 제공 (sql 전송, 처리 결과를 받을 때 까지를 관리)\n",
    "    cursor = conn.cursor()\n",
    "    \n",
    "    \n",
    "    #3. SQL 문 전송 + 처리결과 받기\n",
    "    result = cursor.execute(create_sql)\n",
    "    print(result)\n",
    "finally:\n",
    "    #4. 연결 닫기\n",
    "    if conn:\n",
    "        cursor.close() # 커서먼저\n",
    "        conn.close()"
   ]
  },
  {
   "cell_type": "markdown",
   "id": "59b4e786",
   "metadata": {},
   "source": [
    "## DML\n",
    "\n",
    "### insert\n"
   ]
  },
  {
   "cell_type": "code",
   "execution_count": 31,
   "id": "61deab37",
   "metadata": {},
   "outputs": [
    {
     "name": "stdout",
     "output_type": "stream",
     "text": [
      "1\n"
     ]
    }
   ],
   "source": [
    "sql = '''insert into customer (name, email, tall, birthday, created_at) \\\n",
    "values(\n",
    "'이순신',\n",
    "'lee@naver.com',\n",
    "185.23,\n",
    "'2000-09-20',\n",
    "curdate()\n",
    ")'''\n",
    "\n",
    "\n",
    "# manual commit이 default. DML 커밋 필요\n",
    "# try\n",
    "\n",
    "with pymysql.connect(host='127.0.0.1', port=3306, user='playdata', password='1111', db = 'mydb') as conn:\n",
    "    with conn.cursor() as cursor:\n",
    "        result = cursor.execute(sql)\n",
    "        print(result)\n",
    "        conn.commit()\n"
   ]
  },
  {
   "cell_type": "code",
   "execution_count": null,
   "id": "c78ebebd",
   "metadata": {},
   "outputs": [],
   "source": []
  },
  {
   "cell_type": "markdown",
   "id": "c1d9de83",
   "metadata": {
    "ExecuteTime": {
     "end_time": "2022-04-19T06:23:30.323879Z",
     "start_time": "2022-04-19T06:23:30.304888Z"
    }
   },
   "source": [
    "### Parameterized Query\n",
    "\n",
    "-   Parameterized Query\n",
    "    -   SQL 문에서 컬럼 값이 들어가는 자리에 값대신 `%s` placeholder를 사용한뒤 execute()에서 placeholder에 넣을 값을 list나 tuple로 제공한다.\n",
    "    -   query문을 쉽게 작성할 수 있는 장점이 있다.\n"
   ]
  },
  {
   "cell_type": "code",
   "execution_count": 89,
   "id": "5c060325",
   "metadata": {},
   "outputs": [],
   "source": [
    "insert_sql = \"\"\"insert into customer (name, email, tall, birthday, created_at) \\\n",
    "values (%s, %s, %s, %s, now())\"\"\"\n",
    "\n",
    "# with pymysql.connect(host='127.0.0.1', port=3306, user='playdata', password='1111', db = 'mydb') as conn:\n",
    "#     with conn.cursor() as cursor:\n",
    "#         result = cursor.execute(insert_sql, ['유관순', 'a', 213.00, '2011-02-04'])\n",
    "#         print(result)\n",
    "#         conn.commit()\n"
   ]
  },
  {
   "cell_type": "code",
   "execution_count": null,
   "id": "7dbc54a9",
   "metadata": {},
   "outputs": [],
   "source": []
  },
  {
   "cell_type": "markdown",
   "id": "37335b7b",
   "metadata": {},
   "source": [
    "### Parameterized Query를 이용해 여러개 행 insert\n",
    "\n",
    "#### for문 사용\n"
   ]
  },
  {
   "cell_type": "code",
   "execution_count": 93,
   "id": "0fc2331b",
   "metadata": {},
   "outputs": [
    {
     "name": "stdout",
     "output_type": "stream",
     "text": [
      "1\n",
      "1\n",
      "1\n"
     ]
    }
   ],
   "source": [
    "from datetime import date, datetime\n",
    "\n",
    "datas = [\n",
    "    [\"name1\", \"ab2c1@abc.com\", 165, date(2000, 1, 12), datetime.now()],\n",
    "    [\"name2\", \"de2f1@abc.com\", 175, date(1995, 12, 20), datetime.now()],\n",
    "    [\"name3\", \"gh2i1@abc.com\", 185, date(1988, 7, 21), datetime.now()],\n",
    "]\n",
    "insert_sql = \"\"\"insert into customer (name, email, tall, birthday, created_at) \\\n",
    "values (%s, %s, %s, %s, %s)\"\"\"\n",
    "\n",
    "with pymysql.connect(host='127.0.0.1', port=3306, user='playdata', password='1111', db = 'mydb') as conn:\n",
    "    with conn.cursor() as cursor:\n",
    "        for data in datas:\n",
    "            result = cursor.execute(insert_sql, data)\n",
    "            print(result)\n",
    "            conn.commit()"
   ]
  },
  {
   "cell_type": "code",
   "execution_count": null,
   "id": "cd598d70",
   "metadata": {},
   "outputs": [],
   "source": []
  },
  {
   "cell_type": "markdown",
   "id": "7322f3bb",
   "metadata": {},
   "source": [
    "#### executemany() 사용\n",
    "\n",
    "-   insert할 값들을 가진 리스트를 넣어 한번에 여러 행을 insert한다.\n"
   ]
  },
  {
   "cell_type": "code",
   "execution_count": 95,
   "id": "f72beeb1",
   "metadata": {},
   "outputs": [
    {
     "name": "stdout",
     "output_type": "stream",
     "text": [
      "3\n"
     ]
    }
   ],
   "source": [
    "from datetime import datetime, date\n",
    "\n",
    "datas = [\n",
    "    [\"이름1\", \"ab2c22@a.com\", 165, date(2000, 1, 12), datetime.now()],\n",
    "    [\"이름2\", \"de22f2@a.com\", 175, date(1995, 12, 20), datetime.now()],\n",
    "    [\"이름1\", \"ghi222@a.com\", 185, date(1988, 7, 21), datetime.now()],\n",
    "]\n",
    "insert_sql = \"insert into customer (name, email, tall, birthday, created_at) \\\n",
    "values (%s, %s, %s, %s, %s)\"\n",
    "\n",
    "\n",
    "with pymysql.connect(host='127.0.0.1', port=3306, user='playdata', password='1111', db = 'mydb') as conn:\n",
    "    with conn.cursor() as cursor:\n",
    "        result = cursor.executemany(insert_sql, datas)\n",
    "        print(result)\n",
    "        conn.commit()\n"
   ]
  },
  {
   "cell_type": "code",
   "execution_count": null,
   "id": "2792bae6",
   "metadata": {},
   "outputs": [],
   "source": []
  },
  {
   "cell_type": "code",
   "execution_count": null,
   "id": "0f66c3cb",
   "metadata": {},
   "outputs": [],
   "source": []
  },
  {
   "cell_type": "markdown",
   "id": "d78f4253",
   "metadata": {},
   "source": [
    "### update/delete\n",
    "\n",
    "-   코딩 절차는 insert 와 동일\n"
   ]
  },
  {
   "cell_type": "code",
   "execution_count": 99,
   "id": "5f056266",
   "metadata": {},
   "outputs": [
    {
     "name": "stdin",
     "output_type": "stream",
     "text": [
      "변경할 키:  190\n",
      "변경할 고객 ID:  3\n"
     ]
    },
    {
     "name": "stdout",
     "output_type": "stream",
     "text": [
      "0\n"
     ]
    }
   ],
   "source": [
    "update_sql = \"\"\"update customer set tall=%s where id =%s\"\"\"\n",
    "f = float(input(\"변경할 키: \"))\n",
    "cust_id = int(input(\"변경할 고객 ID: \"))\n",
    "\n",
    "with pymysql.connect(host='127.0.0.1', port=3306, user='playdata', password='1111', db = 'mydb') as conn:\n",
    "    with conn.cursor() as cursor:\n",
    "        result = cursor.execute(update_sql, [f, cust_id])\n",
    "        print(result)\n",
    "        conn.commit()"
   ]
  },
  {
   "cell_type": "code",
   "execution_count": 100,
   "id": "55cc6af5",
   "metadata": {},
   "outputs": [
    {
     "name": "stdin",
     "output_type": "stream",
     "text": [
      "삭제기준키:  179\n"
     ]
    },
    {
     "name": "stdout",
     "output_type": "stream",
     "text": [
      "7\n"
     ]
    }
   ],
   "source": [
    "delete_sql = \"delete from customer where tall > %s\"\n",
    "\n",
    "tall = float(input(\"삭제기준키: \"))\n",
    "\n",
    "with pymysql.connect(host='127.0.0.1', port=3306, user='playdata', password='1111', db = 'mydb') as conn:\n",
    "    with conn.cursor() as cursor:\n",
    "        result = cursor.execute(delete_sql, tall)\n",
    "        print(result)\n",
    "        conn.commit()"
   ]
  },
  {
   "cell_type": "code",
   "execution_count": null,
   "id": "ea34cdb7",
   "metadata": {},
   "outputs": [],
   "source": []
  },
  {
   "cell_type": "markdown",
   "id": "096891b8",
   "metadata": {},
   "source": [
    "## select (DQL - Data Query Language)\n",
    "\n",
    "-   조회결과 조회\n",
    "    -   cursor.execute(\"select문\") 실행 후 cursor의 결과 조회 메소드(fetch메소드)를 이용해 결과를 받는다.\n",
    "-   fetch메소드\n",
    "    -   **fetchall()**\n",
    "        -   조회한 모든 행을을 반환\n",
    "    -   **fetchmany(size=개수)**\n",
    "        -   지정한 size개수 만큼 반환\n",
    "    -   **fetchone()**\n",
    "        -   조회결과 중 첫번째 행만 반환\n",
    "        -   주로 pk 동등 조건으로 조회한 경우 사용\n"
   ]
  },
  {
   "cell_type": "markdown",
   "id": "524f4cb8",
   "metadata": {},
   "source": [
    "### fetchall()\n"
   ]
  },
  {
   "cell_type": "code",
   "execution_count": 104,
   "id": "93a06bf2",
   "metadata": {},
   "outputs": [
    {
     "name": "stdout",
     "output_type": "stream",
     "text": [
      "(12, 'name1', 'abc1@abc.com', Decimal('165.00'), datetime.date(2000, 1, 12), datetime.datetime(2024, 3, 22, 16, 7, 41))\n",
      "(13, 'name2', 'def1@abc.com', Decimal('175.00'), datetime.date(1995, 12, 20), datetime.datetime(2024, 3, 22, 16, 7, 41))\n",
      "(15, '이름1', 'abc2@a.com', Decimal('165.00'), datetime.date(2000, 1, 12), datetime.datetime(2024, 3, 22, 16, 9))\n",
      "(16, '이름2', 'def2@a.com', Decimal('175.00'), datetime.date(1995, 12, 20), datetime.datetime(2024, 3, 22, 16, 9))\n",
      "(22, 'name1', 'ab2c1@abc.com', Decimal('165.00'), datetime.date(2000, 1, 12), datetime.datetime(2024, 3, 22, 16, 11, 15))\n",
      "(23, 'name2', 'de2f1@abc.com', Decimal('175.00'), datetime.date(1995, 12, 20), datetime.datetime(2024, 3, 22, 16, 11, 15))\n",
      "(25, '이름1', 'abc22@a.com', Decimal('165.00'), datetime.date(2000, 1, 12), datetime.datetime(2024, 3, 22, 16, 11, 21))\n",
      "(26, '이름2', 'de2f2@a.com', Decimal('175.00'), datetime.date(1995, 12, 20), datetime.datetime(2024, 3, 22, 16, 11, 21))\n",
      "(28, '이름1', 'ab2c22@a.com', Decimal('165.00'), datetime.date(2000, 1, 12), datetime.datetime(2024, 3, 22, 16, 12, 1))\n",
      "(29, '이름2', 'de22f2@a.com', Decimal('175.00'), datetime.date(1995, 12, 20), datetime.datetime(2024, 3, 22, 16, 12, 1))\n"
     ]
    }
   ],
   "source": [
    "sql = 'select * from customer'\n",
    "\n",
    "\n",
    "with pymysql.connect(host='127.0.0.1', port=3306, user='playdata', password='1111', db = 'mydb') as conn:\n",
    "    with conn.cursor() as cursor:\n",
    "        result = cursor.execute(sql)\n",
    "        conn.commit()\n",
    "        t = cursor.fetchall()\n",
    "        for c in t:\n",
    "            print(c)\n",
    "\n"
   ]
  },
  {
   "cell_type": "code",
   "execution_count": 107,
   "id": "cebb65c0",
   "metadata": {},
   "outputs": [
    {
     "name": "stdout",
     "output_type": "stream",
     "text": [
      "{'id': 12, 'name': 'name1', 'email': 'abc1@abc.com', 'tall': Decimal('165.00'), 'birthday': datetime.date(2000, 1, 12), 'created_at': datetime.datetime(2024, 3, 22, 16, 7, 41)}\n",
      "{'id': 13, 'name': 'name2', 'email': 'def1@abc.com', 'tall': Decimal('175.00'), 'birthday': datetime.date(1995, 12, 20), 'created_at': datetime.datetime(2024, 3, 22, 16, 7, 41)}\n",
      "{'id': 15, 'name': '이름1', 'email': 'abc2@a.com', 'tall': Decimal('165.00'), 'birthday': datetime.date(2000, 1, 12), 'created_at': datetime.datetime(2024, 3, 22, 16, 9)}\n",
      "{'id': 16, 'name': '이름2', 'email': 'def2@a.com', 'tall': Decimal('175.00'), 'birthday': datetime.date(1995, 12, 20), 'created_at': datetime.datetime(2024, 3, 22, 16, 9)}\n",
      "{'id': 22, 'name': 'name1', 'email': 'ab2c1@abc.com', 'tall': Decimal('165.00'), 'birthday': datetime.date(2000, 1, 12), 'created_at': datetime.datetime(2024, 3, 22, 16, 11, 15)}\n",
      "{'id': 23, 'name': 'name2', 'email': 'de2f1@abc.com', 'tall': Decimal('175.00'), 'birthday': datetime.date(1995, 12, 20), 'created_at': datetime.datetime(2024, 3, 22, 16, 11, 15)}\n",
      "{'id': 25, 'name': '이름1', 'email': 'abc22@a.com', 'tall': Decimal('165.00'), 'birthday': datetime.date(2000, 1, 12), 'created_at': datetime.datetime(2024, 3, 22, 16, 11, 21)}\n",
      "{'id': 26, 'name': '이름2', 'email': 'de2f2@a.com', 'tall': Decimal('175.00'), 'birthday': datetime.date(1995, 12, 20), 'created_at': datetime.datetime(2024, 3, 22, 16, 11, 21)}\n",
      "{'id': 28, 'name': '이름1', 'email': 'ab2c22@a.com', 'tall': Decimal('165.00'), 'birthday': datetime.date(2000, 1, 12), 'created_at': datetime.datetime(2024, 3, 22, 16, 12, 1)}\n",
      "{'id': 29, 'name': '이름2', 'email': 'de22f2@a.com', 'tall': Decimal('175.00'), 'birthday': datetime.date(1995, 12, 20), 'created_at': datetime.datetime(2024, 3, 22, 16, 12, 1)}\n"
     ]
    }
   ],
   "source": [
    "with pymysql.connect(host='127.0.0.1', port=3306, user='playdata', password='1111', db = 'mydb', cursorclass=pymysql.cursors.DictCursor) as conn:\n",
    "    with conn.cursor() as cursor:\n",
    "        result = cursor.execute(sql)\n",
    "        conn.commit()\n",
    "        t = cursor.fetchall()\n",
    "        for c in t:\n",
    "            print(c)\n"
   ]
  },
  {
   "cell_type": "code",
   "execution_count": null,
   "id": "82a62b01",
   "metadata": {},
   "outputs": [],
   "source": []
  },
  {
   "cell_type": "markdown",
   "id": "b3a9867d",
   "metadata": {},
   "source": [
    "### fetchone()\n"
   ]
  },
  {
   "cell_type": "code",
   "execution_count": null,
   "id": "97500b7b",
   "metadata": {},
   "outputs": [],
   "source": []
  },
  {
   "cell_type": "code",
   "execution_count": null,
   "id": "b0eaf81d",
   "metadata": {},
   "outputs": [],
   "source": []
  },
  {
   "cell_type": "markdown",
   "id": "cc8054bc",
   "metadata": {},
   "source": [
    "### fetchmany()\n"
   ]
  },
  {
   "cell_type": "code",
   "execution_count": null,
   "id": "7d72f49c",
   "metadata": {},
   "outputs": [],
   "source": []
  },
  {
   "cell_type": "code",
   "execution_count": null,
   "id": "50fffed5",
   "metadata": {},
   "outputs": [],
   "source": []
  },
  {
   "cell_type": "markdown",
   "id": "fca900bd",
   "metadata": {},
   "source": [
    "### cursor 는 iterable 타입\n",
    "\n",
    "-   for문에 select 실행한 cursor를 사용하면 조회결과를 한 행씩 조회할 수 있다.\n"
   ]
  },
  {
   "cell_type": "code",
   "execution_count": null,
   "id": "8332ff67",
   "metadata": {},
   "outputs": [],
   "source": []
  },
  {
   "cell_type": "markdown",
   "id": "32433b68",
   "metadata": {},
   "source": [
    "# TODO\n",
    "\n",
    "다음 함수들을 구현하시오.  \n",
    "각 함수들은 member 테이블과 관련해서 CRUD를 처리하는 함수들 입니다.\n",
    "\n",
    "1. name, email, tall, birthday를 매개변수로 받아서 insert하는 함수. (id는 자동증가, created_at은 실행시점의 일시가 insert되도록 한다.)\n",
    "2. id, name, email, tall, birthday를 매개변수로 받아서 id의 member의 나머지 정보를 update하는 함수. (created_at은 update하지 않는다.)\n",
    "3. id를 매개변수로 받아서 그 member 를 삭제하는 함수.\n",
    "4. 이름을 매개변수로 받아서 그 이름의 member를 삭제하는 함수.\n",
    "5. id를 매개변수로 받아서 그 id의 회원 정보를 조회하여 반환하는 함수.\n",
    "6. name을 매개변수로 받아서 그 이름이 들어간 회원의 정보를 조회하여 반환하는 함수.\n",
    "7. birthday를 매개변수로 받아서 그 생일의 회원의 정보를 조회하여 반환하는 함수.\n",
    "8. tall 값을 두개 받아서 그 범위의 tall인 회원들의 정보를 조회하여 반환하는 함수.\n",
    "\n",
    "-   insert, update, delete 는 적용된 행의 개수를 반환한다.\n",
    "-   select 처리 함수는 조회결과를 반환한다.\n"
   ]
  },
  {
   "cell_type": "code",
   "execution_count": 126,
   "id": "c4a7d74f-e82a-4d9b-962e-15330264a4a1",
   "metadata": {},
   "outputs": [],
   "source": [
    "def cursor_connect(*args):\n",
    "    print(args)\n",
    "    with pymysql.connect(host='127.0.0.1', port=3306, user='playdata', password='1111', db = 'mydb') as conn:\n",
    "        with conn.cursor() as cursor:\n",
    "            result = cursor.execute(*args)\n",
    "            conn.commit()\n",
    "            print(\"결과: \", result)\n",
    "            if 'select' in args[0]: \n",
    "                t = cursor.fetchall()\n",
    "                for c in t:\n",
    "                    print(c)\n",
    "\n",
    "def parameters(*args):\n",
    "    rl = []\n",
    "    for a in args:\n",
    "        rl.append(input(a))\n",
    "    return rl"
   ]
  },
  {
   "cell_type": "code",
   "execution_count": null,
   "id": "0a7dc7dd-ffe6-409d-a363-205b70213923",
   "metadata": {},
   "outputs": [],
   "source": [
    "sql_1 = \"\"\"insert into customer (name, email, tall, birthday, created_at) values (%s,%s,%s,%s,%s)\"\"\"\n",
    "t = parameters('name','email','tall','birthday')\n",
    "t.append(datetime.now())\n",
    "cursor_connect(sql_1,t)"
   ]
  },
  {
   "cell_type": "code",
   "execution_count": null,
   "id": "67331372-2506-4798-8d89-21f65018e4d1",
   "metadata": {},
   "outputs": [],
   "source": [
    "id_num=input('수정할 아이디')\n",
    "t = parameters('name','email','tall','birthday')\n",
    "sql_2 = \"\"\"update customer set name=%s, email=%s, tall=%s, birthday=%s where id=\"\"\"+id_num\n",
    "cursor_connect(sql_2,t)"
   ]
  },
  {
   "cell_type": "code",
   "execution_count": null,
   "id": "151ef12a-301c-4ca6-9af7-5446e814c429",
   "metadata": {},
   "outputs": [],
   "source": [
    "id_num=input('삭제할 아이디') \n",
    "sql_3 = 'delete from customer where id='+id_num\n",
    "cursor_connect(sql_3)"
   ]
  },
  {
   "cell_type": "code",
   "execution_count": 156,
   "id": "64210644-dfe1-4022-90a0-bc78de1a7893",
   "metadata": {},
   "outputs": [
    {
     "name": "stdin",
     "output_type": "stream",
     "text": [
      "조회할 아이디 12\n"
     ]
    },
    {
     "name": "stdout",
     "output_type": "stream",
     "text": [
      "('select * from customer where id=12',)\n",
      "결과:  1\n",
      "(12, 'name1', 'abc1@abc.com', Decimal('165.00'), datetime.date(2000, 1, 12), datetime.datetime(2024, 3, 22, 16, 7, 41))\n"
     ]
    }
   ],
   "source": [
    "id_num=input('조회할 아이디') \n",
    "sql_4 = 'select * from customer where id='+id_num\n",
    "cursor_connect(sql_4)"
   ]
  },
  {
   "cell_type": "markdown",
   "id": "769990dc",
   "metadata": {},
   "source": [
    "# TODO\n",
    "\n",
    "-   hr database의 emp 테이블의 데이터를 다루는 함수들을 구현\n",
    "\n",
    "1. 직원 정보들(emp의 컬럼들)을 매개변수로 받아 insert 하는 함수\n",
    "\n",
    "2. 수정할 직원 정보들을 매개변수로 받아 받은 emp_id의 직원의 나머지 컬럼값들을 수정하는 함수\n",
    "\n",
    "3. emp_id를 매개변수로 받아 그 직원을 삭제하는 함수\n",
    "\n",
    "4. job을 매개변수로 받아 그 업무를 하는 직원들을 삭제하는 함수\n",
    "\n",
    "5. 전체 직원정보를 모두 조회해서 반환하는 함수\n",
    "\n",
    "6. emp_id를 매개변수로 받아 그 직원 정보를 조회해서 반환하는 함수\n",
    "\n",
    "7. dept_name을 매개변수로 받아서 그 부서에 소속된 직원들의 정보를 조회해서 반환하는 함수\n",
    "\n",
    "8. salary 범위를 매개변수로 받아 그 범위의 salary를 받는 직원들의 정보를 조회해서 반환하는 함수\n",
    "\n",
    "9. emp_id를 매개변수로 받아서 그 직원의 커미션이 얼마인지를(salary \\* comm_pct) 조회해 반환하는 함수\n",
    "\n",
    "10. dept_name을 매개변수로 받아서 부서별 급여 통계정보(합계, 최대, 최소, 평균, 표준편차)를 반환하는 함수\n"
   ]
  },
  {
   "cell_type": "code",
   "execution_count": null,
   "id": "f311ff14-780f-4ba6-8eb5-9915481348a6",
   "metadata": {},
   "outputs": [],
   "source": []
  }
 ],
 "metadata": {
  "kernelspec": {
   "display_name": "Python 3 (ipykernel)",
   "language": "python",
   "name": "python3"
  },
  "language_info": {
   "codemirror_mode": {
    "name": "ipython",
    "version": 3
   },
   "file_extension": ".py",
   "mimetype": "text/x-python",
   "name": "python",
   "nbconvert_exporter": "python",
   "pygments_lexer": "ipython3",
   "version": "3.11.8"
  },
  "toc": {
   "base_numbering": 1,
   "nav_menu": {},
   "number_sections": false,
   "sideBar": true,
   "skip_h1_title": false,
   "title_cell": "Table of Contents",
   "title_sidebar": "Contents",
   "toc_cell": false,
   "toc_position": {},
   "toc_section_display": true,
   "toc_window_display": false
  },
  "varInspector": {
   "cols": {
    "lenName": 16,
    "lenType": 16,
    "lenVar": 40
   },
   "kernels_config": {
    "python": {
     "delete_cmd_postfix": "",
     "delete_cmd_prefix": "del ",
     "library": "var_list.py",
     "varRefreshCmd": "print(var_dic_list())"
    },
    "r": {
     "delete_cmd_postfix": ") ",
     "delete_cmd_prefix": "rm(",
     "library": "var_list.r",
     "varRefreshCmd": "cat(var_dic_list()) "
    }
   },
   "types_to_exclude": [
    "module",
    "function",
    "builtin_function_or_method",
    "instance",
    "_Feature"
   ],
   "window_display": false
  }
 },
 "nbformat": 4,
 "nbformat_minor": 5
}
