{
 "cells": [
  {
   "cell_type": "markdown",
   "id": "a2f58681",
   "metadata": {},
   "source": [
    "# pymysql\n",
    "\n",
    "-   파이썬에서 MySQL, MariaDB DBMS와 연동하는 다양한 함수를 제공하는 모듈\n",
    "-   Python [DB API 2.0](http://www.python.org/dev/peps/pep-0249) 표준을 따른다.\n",
    "-   https://github.com/PyMySQL/PyMySQL/\n",
    "-   https://pymysql.readthedocs.io/en/latest/\n"
   ]
  },
  {
   "cell_type": "markdown",
   "id": "43cccb80",
   "metadata": {},
   "source": [
    "# 설치\n",
    "\n",
    "-   조건\n",
    "    -   python version 3.6 이상\n",
    "    -   mysql version 5.6 이상\n",
    "-   설치\n",
    "    -   `pip install pymysql`\n",
    "    -   `conda install -c conda-forge pymysql`\n"
   ]
  },
  {
   "cell_type": "code",
   "execution_count": null,
   "id": "16ddb3ec",
   "metadata": {},
   "outputs": [],
   "source": []
  },
  {
   "cell_type": "markdown",
   "id": "7572463d",
   "metadata": {},
   "source": [
    "# 기본 작성 절차\n",
    "\n",
    "1. Database 연결\n",
    "    ```python\n",
    "       connection =  pymysql.connect(host=\"DBMS 서버 ip\",\n",
    "                                     port=\"port번호\",\n",
    "                                     user=\"계정명\",\n",
    "                                     password=\"비밀번호\",\n",
    "                                     db=\"연결할데이터베이스이름\",\n",
    "                                     charset='utf8')\n",
    "    ```\n",
    "    - port 번호 기본값: 3306\n",
    "2. Connection을 이용해 Cursor 생성\n",
    "    - Cursor: 연결된 Database에 sql문을 전송하고 select결과 조회 기능을 제공하는 객체\n",
    "    ```python\n",
    "        cursor = connection.cursor()\n",
    "    ```\n",
    "3. Cusror를 이용해 SQL문 전송\n",
    "    ```python\n",
    "        cursor.execute(\"sql문\")\n",
    "    ```\n",
    "4. 연결 닫기\n",
    "    - cursor, connection 연결을 닫는다.\n",
    "    - with문을 이용할 수 있다.\n",
    "    ```python\n",
    "    cursor.close()\n",
    "    connection.close()\n",
    "    ```\n"
   ]
  },
  {
   "cell_type": "markdown",
   "id": "3262b127",
   "metadata": {},
   "source": [
    "# 예제\n",
    "\n",
    "## 테이블 생성\n"
   ]
  },
  {
   "cell_type": "code",
   "execution_count": 1,
   "id": "1fbddc50-275f-4803-b3f9-2f8f19a86690",
   "metadata": {},
   "outputs": [],
   "source": [
    "create_sql = \"\"\"\n",
    "create table customer(\n",
    " id  int  auto_increment  primary key,\n",
    " name  varchar(20) not null,\n",
    " email  varchar(50) not null unique, \n",
    " tall   decimal(5,2), \n",
    " birthday  date,\n",
    " created_at  datetime  not null\n",
    ")\"\"\"   # sql 문 마지막에 `;` 은 붙이지 않는다."
   ]
  },
  {
   "cell_type": "code",
   "execution_count": 7,
   "id": "d9b6ce09-4545-4540-aa6a-d73adf5a6c13",
   "metadata": {
    "collapsed": true,
    "jupyter": {
     "outputs_hidden": true
    },
    "scrolled": true
   },
   "outputs": [
    {
     "name": "stdout",
     "output_type": "stream",
     "text": [
      "<class 'pymysql.connections.Connection'>\n",
      "<class 'pymysql.cursors.Cursor'>\n"
     ]
    },
    {
     "ename": "OperationalError",
     "evalue": "(1050, \"Table 'customer' already exists\")",
     "output_type": "error",
     "traceback": [
      "\u001b[1;31m-------------------------------------------------------------------\u001b[0m",
      "\u001b[1;31mOperationalError\u001b[0m                  Traceback (most recent call last)",
      "Cell \u001b[1;32mIn[7], line 21\u001b[0m\n\u001b[0;32m     18\u001b[0m     \u001b[38;5;28mprint\u001b[39m(\u001b[38;5;28mtype\u001b[39m(cursor))\n\u001b[0;32m     20\u001b[0m     \u001b[38;5;66;03m# 3. SQL 문 전송  +  처리결과 받기.\u001b[39;00m\n\u001b[1;32m---> 21\u001b[0m     result \u001b[38;5;241m=\u001b[39m \u001b[43mcursor\u001b[49m\u001b[38;5;241;43m.\u001b[39;49m\u001b[43mexecute\u001b[49m\u001b[43m(\u001b[49m\u001b[43mcreate_sql\u001b[49m\u001b[43m)\u001b[49m \n\u001b[0;32m     22\u001b[0m     \u001b[38;5;28mprint\u001b[39m(\u001b[38;5;124m\"\u001b[39m\u001b[38;5;124m처리결과: \u001b[39m\u001b[38;5;124m\"\u001b[39m, result)\n\u001b[0;32m     23\u001b[0m \u001b[38;5;28;01mfinally\u001b[39;00m:\n\u001b[0;32m     24\u001b[0m     \u001b[38;5;66;03m# 4. 연결닫기(끊기)\u001b[39;00m\n",
      "File \u001b[1;32mC:\\Classes\\DA-35\\01_Python\\env\\Lib\\site-packages\\pymysql\\cursors.py:153\u001b[0m, in \u001b[0;36mCursor.execute\u001b[1;34m(self, query, args)\u001b[0m\n\u001b[0;32m    149\u001b[0m     \u001b[38;5;28;01mpass\u001b[39;00m\n\u001b[0;32m    151\u001b[0m query \u001b[38;5;241m=\u001b[39m \u001b[38;5;28mself\u001b[39m\u001b[38;5;241m.\u001b[39mmogrify(query, args)\n\u001b[1;32m--> 153\u001b[0m result \u001b[38;5;241m=\u001b[39m \u001b[38;5;28;43mself\u001b[39;49m\u001b[38;5;241;43m.\u001b[39;49m\u001b[43m_query\u001b[49m\u001b[43m(\u001b[49m\u001b[43mquery\u001b[49m\u001b[43m)\u001b[49m\n\u001b[0;32m    154\u001b[0m \u001b[38;5;28mself\u001b[39m\u001b[38;5;241m.\u001b[39m_executed \u001b[38;5;241m=\u001b[39m query\n\u001b[0;32m    155\u001b[0m \u001b[38;5;28;01mreturn\u001b[39;00m result\n",
      "File \u001b[1;32mC:\\Classes\\DA-35\\01_Python\\env\\Lib\\site-packages\\pymysql\\cursors.py:322\u001b[0m, in \u001b[0;36mCursor._query\u001b[1;34m(self, q)\u001b[0m\n\u001b[0;32m    320\u001b[0m conn \u001b[38;5;241m=\u001b[39m \u001b[38;5;28mself\u001b[39m\u001b[38;5;241m.\u001b[39m_get_db()\n\u001b[0;32m    321\u001b[0m \u001b[38;5;28mself\u001b[39m\u001b[38;5;241m.\u001b[39m_clear_result()\n\u001b[1;32m--> 322\u001b[0m \u001b[43mconn\u001b[49m\u001b[38;5;241;43m.\u001b[39;49m\u001b[43mquery\u001b[49m\u001b[43m(\u001b[49m\u001b[43mq\u001b[49m\u001b[43m)\u001b[49m\n\u001b[0;32m    323\u001b[0m \u001b[38;5;28mself\u001b[39m\u001b[38;5;241m.\u001b[39m_do_get_result()\n\u001b[0;32m    324\u001b[0m \u001b[38;5;28;01mreturn\u001b[39;00m \u001b[38;5;28mself\u001b[39m\u001b[38;5;241m.\u001b[39mrowcount\n",
      "File \u001b[1;32mC:\\Classes\\DA-35\\01_Python\\env\\Lib\\site-packages\\pymysql\\connections.py:558\u001b[0m, in \u001b[0;36mConnection.query\u001b[1;34m(self, sql, unbuffered)\u001b[0m\n\u001b[0;32m    556\u001b[0m     sql \u001b[38;5;241m=\u001b[39m sql\u001b[38;5;241m.\u001b[39mencode(\u001b[38;5;28mself\u001b[39m\u001b[38;5;241m.\u001b[39mencoding, \u001b[38;5;124m\"\u001b[39m\u001b[38;5;124msurrogateescape\u001b[39m\u001b[38;5;124m\"\u001b[39m)\n\u001b[0;32m    557\u001b[0m \u001b[38;5;28mself\u001b[39m\u001b[38;5;241m.\u001b[39m_execute_command(COMMAND\u001b[38;5;241m.\u001b[39mCOM_QUERY, sql)\n\u001b[1;32m--> 558\u001b[0m \u001b[38;5;28mself\u001b[39m\u001b[38;5;241m.\u001b[39m_affected_rows \u001b[38;5;241m=\u001b[39m \u001b[38;5;28;43mself\u001b[39;49m\u001b[38;5;241;43m.\u001b[39;49m\u001b[43m_read_query_result\u001b[49m\u001b[43m(\u001b[49m\u001b[43munbuffered\u001b[49m\u001b[38;5;241;43m=\u001b[39;49m\u001b[43munbuffered\u001b[49m\u001b[43m)\u001b[49m\n\u001b[0;32m    559\u001b[0m \u001b[38;5;28;01mreturn\u001b[39;00m \u001b[38;5;28mself\u001b[39m\u001b[38;5;241m.\u001b[39m_affected_rows\n",
      "File \u001b[1;32mC:\\Classes\\DA-35\\01_Python\\env\\Lib\\site-packages\\pymysql\\connections.py:822\u001b[0m, in \u001b[0;36mConnection._read_query_result\u001b[1;34m(self, unbuffered)\u001b[0m\n\u001b[0;32m    820\u001b[0m \u001b[38;5;28;01melse\u001b[39;00m:\n\u001b[0;32m    821\u001b[0m     result \u001b[38;5;241m=\u001b[39m MySQLResult(\u001b[38;5;28mself\u001b[39m)\n\u001b[1;32m--> 822\u001b[0m     \u001b[43mresult\u001b[49m\u001b[38;5;241;43m.\u001b[39;49m\u001b[43mread\u001b[49m\u001b[43m(\u001b[49m\u001b[43m)\u001b[49m\n\u001b[0;32m    823\u001b[0m \u001b[38;5;28mself\u001b[39m\u001b[38;5;241m.\u001b[39m_result \u001b[38;5;241m=\u001b[39m result\n\u001b[0;32m    824\u001b[0m \u001b[38;5;28;01mif\u001b[39;00m result\u001b[38;5;241m.\u001b[39mserver_status \u001b[38;5;129;01mis\u001b[39;00m \u001b[38;5;129;01mnot\u001b[39;00m \u001b[38;5;28;01mNone\u001b[39;00m:\n",
      "File \u001b[1;32mC:\\Classes\\DA-35\\01_Python\\env\\Lib\\site-packages\\pymysql\\connections.py:1200\u001b[0m, in \u001b[0;36mMySQLResult.read\u001b[1;34m(self)\u001b[0m\n\u001b[0;32m   1198\u001b[0m \u001b[38;5;28;01mdef\u001b[39;00m \u001b[38;5;21mread\u001b[39m(\u001b[38;5;28mself\u001b[39m):\n\u001b[0;32m   1199\u001b[0m     \u001b[38;5;28;01mtry\u001b[39;00m:\n\u001b[1;32m-> 1200\u001b[0m         first_packet \u001b[38;5;241m=\u001b[39m \u001b[38;5;28;43mself\u001b[39;49m\u001b[38;5;241;43m.\u001b[39;49m\u001b[43mconnection\u001b[49m\u001b[38;5;241;43m.\u001b[39;49m\u001b[43m_read_packet\u001b[49m\u001b[43m(\u001b[49m\u001b[43m)\u001b[49m\n\u001b[0;32m   1202\u001b[0m         \u001b[38;5;28;01mif\u001b[39;00m first_packet\u001b[38;5;241m.\u001b[39mis_ok_packet():\n\u001b[0;32m   1203\u001b[0m             \u001b[38;5;28mself\u001b[39m\u001b[38;5;241m.\u001b[39m_read_ok_packet(first_packet)\n",
      "File \u001b[1;32mC:\\Classes\\DA-35\\01_Python\\env\\Lib\\site-packages\\pymysql\\connections.py:772\u001b[0m, in \u001b[0;36mConnection._read_packet\u001b[1;34m(self, packet_type)\u001b[0m\n\u001b[0;32m    770\u001b[0m     \u001b[38;5;28;01mif\u001b[39;00m \u001b[38;5;28mself\u001b[39m\u001b[38;5;241m.\u001b[39m_result \u001b[38;5;129;01mis\u001b[39;00m \u001b[38;5;129;01mnot\u001b[39;00m \u001b[38;5;28;01mNone\u001b[39;00m \u001b[38;5;129;01mand\u001b[39;00m \u001b[38;5;28mself\u001b[39m\u001b[38;5;241m.\u001b[39m_result\u001b[38;5;241m.\u001b[39munbuffered_active \u001b[38;5;129;01mis\u001b[39;00m \u001b[38;5;28;01mTrue\u001b[39;00m:\n\u001b[0;32m    771\u001b[0m         \u001b[38;5;28mself\u001b[39m\u001b[38;5;241m.\u001b[39m_result\u001b[38;5;241m.\u001b[39munbuffered_active \u001b[38;5;241m=\u001b[39m \u001b[38;5;28;01mFalse\u001b[39;00m\n\u001b[1;32m--> 772\u001b[0m     \u001b[43mpacket\u001b[49m\u001b[38;5;241;43m.\u001b[39;49m\u001b[43mraise_for_error\u001b[49m\u001b[43m(\u001b[49m\u001b[43m)\u001b[49m\n\u001b[0;32m    773\u001b[0m \u001b[38;5;28;01mreturn\u001b[39;00m packet\n",
      "File \u001b[1;32mC:\\Classes\\DA-35\\01_Python\\env\\Lib\\site-packages\\pymysql\\protocol.py:221\u001b[0m, in \u001b[0;36mMysqlPacket.raise_for_error\u001b[1;34m(self)\u001b[0m\n\u001b[0;32m    219\u001b[0m \u001b[38;5;28;01mif\u001b[39;00m DEBUG:\n\u001b[0;32m    220\u001b[0m     \u001b[38;5;28mprint\u001b[39m(\u001b[38;5;124m\"\u001b[39m\u001b[38;5;124merrno =\u001b[39m\u001b[38;5;124m\"\u001b[39m, errno)\n\u001b[1;32m--> 221\u001b[0m \u001b[43merr\u001b[49m\u001b[38;5;241;43m.\u001b[39;49m\u001b[43mraise_mysql_exception\u001b[49m\u001b[43m(\u001b[49m\u001b[38;5;28;43mself\u001b[39;49m\u001b[38;5;241;43m.\u001b[39;49m\u001b[43m_data\u001b[49m\u001b[43m)\u001b[49m\n",
      "File \u001b[1;32mC:\\Classes\\DA-35\\01_Python\\env\\Lib\\site-packages\\pymysql\\err.py:143\u001b[0m, in \u001b[0;36mraise_mysql_exception\u001b[1;34m(data)\u001b[0m\n\u001b[0;32m    141\u001b[0m \u001b[38;5;28;01mif\u001b[39;00m errorclass \u001b[38;5;129;01mis\u001b[39;00m \u001b[38;5;28;01mNone\u001b[39;00m:\n\u001b[0;32m    142\u001b[0m     errorclass \u001b[38;5;241m=\u001b[39m InternalError \u001b[38;5;28;01mif\u001b[39;00m errno \u001b[38;5;241m<\u001b[39m \u001b[38;5;241m1000\u001b[39m \u001b[38;5;28;01melse\u001b[39;00m OperationalError\n\u001b[1;32m--> 143\u001b[0m \u001b[38;5;28;01mraise\u001b[39;00m errorclass(errno, errval)\n",
      "\u001b[1;31mOperationalError\u001b[0m: (1050, \"Table 'customer' already exists\")"
     ]
    }
   ],
   "source": [
    "import pymysql\n",
    "try:\n",
    "    conn = None\n",
    "    # 1. Database와 연결.\n",
    "    conn = pymysql.connect(\n",
    "        host=\"127.0.0.1\",    # DBMS 의 ip(host) : str\n",
    "        port=3306,            # DBMS의 port 번호: int\n",
    "        user=\"playdata\",     # username: str\n",
    "        password=\"1111\",   # password: str\n",
    "        db=\"mydb\"            #  연결할 Database이름: str\n",
    "    )  # 연결 성공하면 연결된 DB와 관련 작업할 수있는 기능을 \n",
    "     #   제공하는 Connection객체를 반환\n",
    "    print(type(conn)) \n",
    "    \n",
    "    # 2. Connection을 사용해서 Cursor 객체 생성\n",
    "    #    Cursor: sql 처리를 하는 기능을 제공.( sql 전송하고 처리결과를 받을 때 까지를 관리)\n",
    "    cursor = conn.cursor()\n",
    "    print(type(cursor))\n",
    "    \n",
    "    # 3. SQL 문 전송  +  처리결과 받기.\n",
    "    result = cursor.execute(create_sql) \n",
    "    print(\"처리결과: \", result)\n",
    "finally:\n",
    "    # 4. 연결닫기(끊기)\n",
    "    if conn:\n",
    "        cursor.close() # 4-1. cursor 연결 닫기\n",
    "        conn.close()  # 4-2. connection 연결 닫기"
   ]
  },
  {
   "cell_type": "code",
   "execution_count": null,
   "id": "6f676b11-04b4-4591-9601-51973a9415f7",
   "metadata": {},
   "outputs": [],
   "source": []
  },
  {
   "cell_type": "markdown",
   "id": "59b4e786",
   "metadata": {},
   "source": [
    "## DML\n",
    "\n",
    "### insert\n"
   ]
  },
  {
   "cell_type": "code",
   "execution_count": 11,
   "id": "931a6c36-1568-4144-8cfc-a5ed0ba027c2",
   "metadata": {},
   "outputs": [
    {
     "name": "stdout",
     "output_type": "stream",
     "text": [
      "ㅁ니ㅏㅇ러ㅣㅏㅁㄴ어리ㅏㅁㄴ어리ㅏㅇㅁ너리ㅏㅁㄴ어       리ㅏㅇㄴ머ㅣㅏ러ㅏㅣㅇㅁㄴ\n"
     ]
    }
   ],
   "source": [
    "a = \"ㅁ니ㅏㅇ러ㅣㅏㅁㄴ어리ㅏㅁㄴ어리ㅏㅇㅁ너리ㅏㅁㄴ어\\리ㅏㅇㄴ머ㅣㅏ러ㅏㅣㅇㅁㄴ\"\n",
    "print(a)"
   ]
  },
  {
   "cell_type": "code",
   "execution_count": 17,
   "id": "61deab37",
   "metadata": {},
   "outputs": [],
   "source": [
    "sql = \"insert into customer (name, email, tall, birthday, created_at) \\\n",
    " values('이순신', 'lee1@naver.com', 185.23, '2000-09-20', now())\""
   ]
  },
  {
   "cell_type": "code",
   "execution_count": 18,
   "id": "c78ebebd",
   "metadata": {},
   "outputs": [
    {
     "name": "stdout",
     "output_type": "stream",
     "text": [
      "결과: 1\n"
     ]
    }
   ],
   "source": [
    "# connection, cursor 생성 -> with 문으로 작성.\n",
    "##  manual commit 이 default. \n",
    "##  DML(insert/update/delete) 처리 후 commit을 실행해야한다.\n",
    "# try:\n",
    "with pymysql.connect(host=\"127.0.0.1\", port=3306, \n",
    "                             user=\"playdata\", password=\"1111\", db=\"mydb\") as conn:\n",
    "    with conn.cursor() as cursor:\n",
    "        result = cursor.execute(sql) #insert/update/delete의 경우 변경된 행수를 반환.\n",
    "        print(\"결과:\", result)\n",
    "        # commit 처리\n",
    "        conn.commit()"
   ]
  },
  {
   "cell_type": "markdown",
   "id": "c1d9de83",
   "metadata": {
    "ExecuteTime": {
     "end_time": "2022-04-19T06:23:30.323879Z",
     "start_time": "2022-04-19T06:23:30.304888Z"
    }
   },
   "source": [
    "### Parameterized Query\n",
    "\n",
    "-   Parameterized Query\n",
    "    -   SQL 문에서 컬럼 값이 들어가는 자리에 값대신 `%s` placeholder를 사용한뒤 execute()에서 placeholder에 넣을 값을 list나 tuple로 제공한다.\n",
    "    -   query문을 쉽게 작성할 수 있는 장점이 있다.\n"
   ]
  },
  {
   "cell_type": "code",
   "execution_count": 23,
   "id": "df0c85d8-c128-4c4c-905b-0447047ea703",
   "metadata": {},
   "outputs": [
    {
     "name": "stdin",
     "output_type": "stream",
     "text": [
      "이름: 홍길동\n",
      "이메일주소: aaaaa@aaa.com\n"
     ]
    }
   ],
   "source": [
    "name = input(\"이름:\")\n",
    "email = input(\"이메일주소:\")"
   ]
  },
  {
   "cell_type": "code",
   "execution_count": 24,
   "id": "85b23241-9ea0-4d76-8ce4-1502e5d2c49f",
   "metadata": {},
   "outputs": [
    {
     "name": "stdout",
     "output_type": "stream",
     "text": [
      "처리행: 1\n"
     ]
    }
   ],
   "source": [
    "import pymysql\n",
    "insert_sql = \"insert into customer (name, email, tall, birthday, created_at) \\\n",
    "values (%s, %s, %s, %s, now())\"\n",
    "\n",
    "with pymysql.connect(host=\"127.0.0.1\", port=3306, user='playdata', password='1111', db='mydb') as conn:\n",
    "    with conn.cursor() as cursor:\n",
    "        result = cursor.execute(insert_sql, [name, email, 175.23, \"2010-01-01\"])\n",
    "        conn.commit()\n",
    "        print(\"처리행:\", result)"
   ]
  },
  {
   "cell_type": "code",
   "execution_count": null,
   "id": "7dbc54a9",
   "metadata": {},
   "outputs": [],
   "source": []
  },
  {
   "cell_type": "markdown",
   "id": "37335b7b",
   "metadata": {},
   "source": [
    "### Parameterized Query를 이용해 여러개 행 insert\n",
    "\n",
    "#### for문 사용\n"
   ]
  },
  {
   "cell_type": "markdown",
   "id": "98b6a836-68da-4dcb-80fc-f0ac22949b8b",
   "metadata": {},
   "source": [
    "# 파이썬 - sql 데이터타입\n",
    "- str - 문자열타입(char, varchar, text,...)\n",
    "- int - 정수(tiny int , int, ....)\n",
    "- float - 실수 (decimal, float, double)\n",
    "- date - date\n",
    "- time - time\n",
    "- datetime - datetime, timestamp"
   ]
  },
  {
   "cell_type": "code",
   "execution_count": 30,
   "id": "5331f2d6-96df-4509-9525-cc8cf765a1a1",
   "metadata": {},
   "outputs": [
    {
     "data": {
      "text/plain": [
       "datetime.date(2024, 3, 22)"
      ]
     },
     "execution_count": 30,
     "metadata": {},
     "output_type": "execute_result"
    }
   ],
   "source": [
    "from datetime import date, datetime, time\n",
    "a = date(2000, 10, 20) # 년, 월, 일\n",
    "a.year, a.month, a.day\n",
    "b = datetime(2000,  10, 20, 12, 23)\n",
    "b.year, b.month, b.day, b.hour, b.minute, b.second\n",
    "\n",
    "datetime.now()  # 실행시점의 일시 -> datetime (mysql: now())\n",
    "date.today()      # 실행시점의 날짜 -> date  (mysql: curdate())"
   ]
  },
  {
   "cell_type": "code",
   "execution_count": 42,
   "id": "0fc2331b",
   "metadata": {},
   "outputs": [
    {
     "name": "stdout",
     "output_type": "stream",
     "text": [
      "1\n",
      "1\n"
     ]
    }
   ],
   "source": [
    "from datetime import date, datetime\n",
    "\n",
    "datas = [\n",
    "    # [\"name1\", \"abc1@abc.com\", 165, date(2000, 1, 12), datetime.now()],\n",
    "    [\"name2\", \"def1@abc.com\", 175, date(1995, 12, 20), datetime.now()],\n",
    "    [\"name3\", \"ghi1@abc.com\", 185, date(1988, 7, 21), datetime.now()],\n",
    "]\n",
    "insert_sql = \"insert into customer(name, email, tall, birthday, created_at) \\\n",
    "values(%s, %s, %s, %s, %s)\"\n",
    "with pymysql.connect(host=\"127.0.0.1\", port=3306, user='playdata', password='1111', db='mydb') as conn:\n",
    "    with conn.cursor() as cursor:\n",
    "        for data in datas:\n",
    "            r = cursor.execute(insert_sql, data)\n",
    "            print(r)\n",
    "        conn.commit()"
   ]
  },
  {
   "cell_type": "code",
   "execution_count": null,
   "id": "cd598d70",
   "metadata": {},
   "outputs": [],
   "source": []
  },
  {
   "cell_type": "markdown",
   "id": "7322f3bb",
   "metadata": {},
   "source": [
    "#### executemany() 사용\n",
    "\n",
    "-   insert할 값들을 가진 리스트를 넣어 한번에 여러 행을 insert한다.\n"
   ]
  },
  {
   "cell_type": "code",
   "execution_count": 43,
   "id": "f72beeb1",
   "metadata": {},
   "outputs": [],
   "source": [
    "datas = [\n",
    "    [\"이름1\", \"abc2@a.com\", 165, date(2000, 1, 12), datetime.now()],\n",
    "    [\"이름2\", \"def2@a.com\", 175, date(1995, 12, 20), datetime.now()],\n",
    "    [\"이름1\", \"ghi2@a.com\", 185, date(1988, 7, 21), datetime.now()],\n",
    "]"
   ]
  },
  {
   "cell_type": "code",
   "execution_count": 44,
   "id": "2792bae6",
   "metadata": {},
   "outputs": [],
   "source": [
    "insert_sql = \"insert into customer(name, email, tall, birthday, created_at) \\\n",
    "values(%s, %s, %s, %s, %s)\"\n",
    "with pymysql.connect(host=\"127.0.0.1\", port=3306, user='playdata', password='1111', db='mydb') as conn:\n",
    "    with conn.cursor() as cursor:\n",
    "        cnt = cursor.executemany(insert_sql, datas)\n",
    "        conn.commit()"
   ]
  },
  {
   "cell_type": "code",
   "execution_count": 37,
   "id": "0f66c3cb",
   "metadata": {},
   "outputs": [
    {
     "name": "stdout",
     "output_type": "stream",
     "text": [
      "3\n"
     ]
    }
   ],
   "source": [
    "print(cnt)  # 모든 sql이 적용된 행수들."
   ]
  },
  {
   "cell_type": "markdown",
   "id": "d78f4253",
   "metadata": {},
   "source": [
    "### update/delete\n",
    "\n",
    "-   코딩 절차는 insert 와 동일\n"
   ]
  },
  {
   "cell_type": "code",
   "execution_count": 39,
   "id": "5f056266",
   "metadata": {},
   "outputs": [
    {
     "name": "stdin",
     "output_type": "stream",
     "text": [
      "변경할 키:  182\n",
      "변경할 고객 ID:  11\n"
     ]
    },
    {
     "name": "stdout",
     "output_type": "stream",
     "text": [
      "처리행수:  1\n"
     ]
    }
   ],
   "source": [
    "update_sql = \"update customer set tall=%s where id=%s\"\n",
    "tall = float(input(\"변경할 키: \"))\n",
    "cust_id = int(input(\"변경할 고객 ID: \"))\n",
    "with pymysql.connect(host=\"127.0.0.1\", port=3306, user='playdata', password='1111', db='mydb') as conn:\n",
    "    with conn.cursor() as cursor:\n",
    "        result = cursor.execute(update_sql, [tall, cust_id])\n",
    "        print(\"처리행수: \", result)\n",
    "        conn.commit()"
   ]
  },
  {
   "cell_type": "code",
   "execution_count": 40,
   "id": "55cc6af5",
   "metadata": {},
   "outputs": [
    {
     "name": "stdin",
     "output_type": "stream",
     "text": [
      "삭제기준 키: 170\n"
     ]
    },
    {
     "name": "stdout",
     "output_type": "stream",
     "text": [
      "처리행수:  9\n"
     ]
    }
   ],
   "source": [
    "delete_sql = \"delete from customer where tall > %s\"\n",
    "\n",
    "tall = float(input(\"삭제기준 키:\"))\n",
    "\n",
    "with pymysql.connect(host=\"127.0.0.1\", port=3306, user='playdata', password='1111', db='mydb') as conn:\n",
    "    with conn.cursor() as cursor:\n",
    "        result = cursor.execute(delete_sql, [tall])\n",
    "        print(\"처리행수: \", result)\n",
    "        conn.commit()"
   ]
  },
  {
   "cell_type": "code",
   "execution_count": null,
   "id": "ea34cdb7",
   "metadata": {},
   "outputs": [],
   "source": []
  },
  {
   "cell_type": "markdown",
   "id": "096891b8",
   "metadata": {},
   "source": [
    "## select (DQL - Data Query Language)\n",
    "\n",
    "-   조회결과 조회\n",
    "    -   cursor.execute(\"select문\") 실행 후 cursor의 결과 조회 메소드(fetch메소드)를 이용해 결과를 받는다.\n",
    "-   fetch메소드\n",
    "    -   **fetchall()**\n",
    "        -   조회한 모든 행을을 반환\n",
    "    -   **fetchmany(size=개수)**\n",
    "        -   지정한 size개수 만큼 반환\n",
    "    -   **fetchone()**\n",
    "        -   조회결과 중 첫번째 행만 반환\n",
    "        -   주로 pk 동등 조건으로 조회한 경우 사용\n"
   ]
  },
  {
   "cell_type": "markdown",
   "id": "524f4cb8",
   "metadata": {},
   "source": [
    "### fetchall()\n"
   ]
  },
  {
   "cell_type": "code",
   "execution_count": 47,
   "id": "93a06bf2",
   "metadata": {},
   "outputs": [
    {
     "name": "stdout",
     "output_type": "stream",
     "text": [
      "조회행수: 6\n"
     ]
    }
   ],
   "source": [
    "sql = \"select id, name, tall from customer\" \n",
    "with pymysql.connect(host=\"127.0.0.1\", port=3306, user='playdata', password='1111', db='mydb') as conn:\n",
    "    with conn.cursor() as cursor:\n",
    "        result = cursor.execute(sql)\n",
    "        print(\"조회행수:\", result)\n",
    "        resultset = cursor.fetchall()"
   ]
  },
  {
   "cell_type": "code",
   "execution_count": 49,
   "id": "cebb65c0",
   "metadata": {},
   "outputs": [
    {
     "data": {
      "text/plain": [
       "(tuple, 6)"
      ]
     },
     "execution_count": 49,
     "metadata": {},
     "output_type": "execute_result"
    }
   ],
   "source": [
    "type(resultset), len(resultset)"
   ]
  },
  {
   "cell_type": "code",
   "execution_count": 51,
   "id": "82a62b01",
   "metadata": {},
   "outputs": [
    {
     "data": {
      "text/plain": [
       "((8, 'name1', Decimal('165.00')),\n",
       " (15, 'name2', Decimal('175.00')),\n",
       " (16, 'name3', Decimal('185.00')),\n",
       " (17, '이름1', Decimal('165.00')),\n",
       " (18, '이름2', Decimal('175.00')),\n",
       " (19, '이름1', Decimal('185.00')))"
      ]
     },
     "execution_count": 51,
     "metadata": {},
     "output_type": "execute_result"
    }
   ],
   "source": [
    "resultset"
   ]
  },
  {
   "cell_type": "markdown",
   "id": "b3a9867d",
   "metadata": {},
   "source": [
    "### fetchone()\n"
   ]
  },
  {
   "cell_type": "code",
   "execution_count": null,
   "id": "97500b7b",
   "metadata": {},
   "outputs": [],
   "source": []
  },
  {
   "cell_type": "code",
   "execution_count": null,
   "id": "b0eaf81d",
   "metadata": {},
   "outputs": [],
   "source": []
  },
  {
   "cell_type": "markdown",
   "id": "cc8054bc",
   "metadata": {},
   "source": [
    "### fetchmany()\n"
   ]
  },
  {
   "cell_type": "code",
   "execution_count": null,
   "id": "7d72f49c",
   "metadata": {},
   "outputs": [],
   "source": []
  },
  {
   "cell_type": "code",
   "execution_count": null,
   "id": "50fffed5",
   "metadata": {},
   "outputs": [],
   "source": []
  },
  {
   "cell_type": "markdown",
   "id": "fca900bd",
   "metadata": {},
   "source": [
    "### cursor 는 iterable 타입\n",
    "\n",
    "-   for문에 select 실행한 cursor를 사용하면 조회결과를 한 행씩 조회할 수 있다.\n"
   ]
  },
  {
   "cell_type": "code",
   "execution_count": null,
   "id": "8332ff67",
   "metadata": {},
   "outputs": [],
   "source": []
  },
  {
   "cell_type": "code",
   "execution_count": 52,
   "id": "7ceed945-6951-40fb-b4d6-cf7806d1d825",
   "metadata": {},
   "outputs": [
    {
     "data": {
      "text/plain": [
       "'name1'"
      ]
     },
     "execution_count": 52,
     "metadata": {},
     "output_type": "execute_result"
    }
   ],
   "source": [
    "#1행의 name\n",
    "resultset[0][1]"
   ]
  },
  {
   "cell_type": "markdown",
   "id": "99b60e97-f4f7-4b5b-a631-130e308eb2d0",
   "metadata": {},
   "source": [
    "### fetchmanay()"
   ]
  },
  {
   "cell_type": "code",
   "execution_count": 53,
   "id": "041c6a29-f8ba-4f93-8e2a-47e9550496a3",
   "metadata": {},
   "outputs": [
    {
     "name": "stdout",
     "output_type": "stream",
     "text": [
      "조회행수: 6\n"
     ]
    }
   ],
   "source": [
    "sql = \"select * from customer\" \n",
    "with pymysql.connect(host=\"127.0.0.1\", port=3306, user='playdata', password='1111', db='mydb') as conn:\n",
    "    with conn.cursor() as cursor:\n",
    "        result = cursor.execute(sql)\n",
    "        print(\"조회행수:\", result)\n",
    "        resultset = cursor.fetchmany(3)"
   ]
  },
  {
   "cell_type": "code",
   "execution_count": 54,
   "id": "ec43fed2-181d-495f-a1f2-61421bcd9f30",
   "metadata": {},
   "outputs": [
    {
     "data": {
      "text/plain": [
       "3"
      ]
     },
     "execution_count": 54,
     "metadata": {},
     "output_type": "execute_result"
    }
   ],
   "source": [
    "len(resultset)"
   ]
  },
  {
   "cell_type": "code",
   "execution_count": 55,
   "id": "111fb5a1-b2ae-4626-a382-a7b095a83d3e",
   "metadata": {},
   "outputs": [
    {
     "data": {
      "text/plain": [
       "((8,\n",
       "  'name1',\n",
       "  'abc1@abc.com',\n",
       "  Decimal('165.00'),\n",
       "  datetime.date(2000, 1, 12),\n",
       "  datetime.datetime(2024, 3, 22, 16, 7, 41)),\n",
       " (15,\n",
       "  'name2',\n",
       "  'def1@abc.com',\n",
       "  Decimal('175.00'),\n",
       "  datetime.date(1995, 12, 20),\n",
       "  datetime.datetime(2024, 3, 22, 16, 30, 6)),\n",
       " (16,\n",
       "  'name3',\n",
       "  'ghi1@abc.com',\n",
       "  Decimal('185.00'),\n",
       "  datetime.date(1988, 7, 21),\n",
       "  datetime.datetime(2024, 3, 22, 16, 30, 6)))"
      ]
     },
     "execution_count": 55,
     "metadata": {},
     "output_type": "execute_result"
    }
   ],
   "source": [
    "resultset"
   ]
  },
  {
   "cell_type": "markdown",
   "id": "0b644364-2fbc-44f1-91f8-6e48ef9356ca",
   "metadata": {},
   "source": [
    "### fetchone()"
   ]
  },
  {
   "cell_type": "code",
   "execution_count": 60,
   "id": "1f4738e8-43b1-4077-89b3-0140b9c051c9",
   "metadata": {},
   "outputs": [
    {
     "name": "stdin",
     "output_type": "stream",
     "text": [
      "조회할 ID:  8\n"
     ]
    },
    {
     "name": "stdout",
     "output_type": "stream",
     "text": [
      "조회행수: 1\n"
     ]
    }
   ],
   "source": [
    "sql = \"select * from customer where id = %s\" \n",
    "cust_id = int(input(\"조회할 ID: \"))\n",
    "with pymysql.connect(host=\"127.0.0.1\", port=3306, user='playdata', password='1111', db='mydb') as conn:\n",
    "    with conn.cursor() as cursor:\n",
    "        result = cursor.execute(sql, [cust_id])\n",
    "        print(\"조회행수:\", result)\n",
    "        resultset = cursor.fetchone()"
   ]
  },
  {
   "cell_type": "code",
   "execution_count": 63,
   "id": "351e96aa-5ae2-4f6d-8927-dabac36230ac",
   "metadata": {},
   "outputs": [
    {
     "data": {
      "text/plain": [
       "(8,\n",
       " 'name1',\n",
       " 'abc1@abc.com',\n",
       " Decimal('165.00'),\n",
       " datetime.date(2000, 1, 12),\n",
       " datetime.datetime(2024, 3, 22, 16, 7, 41))"
      ]
     },
     "execution_count": 63,
     "metadata": {},
     "output_type": "execute_result"
    }
   ],
   "source": [
    "type(resultset), len(resultset)\n",
    "resultset"
   ]
  },
  {
   "cell_type": "code",
   "execution_count": 64,
   "id": "b3df6eaf-9b80-426e-ab98-1333809b4aa4",
   "metadata": {},
   "outputs": [
    {
     "name": "stdin",
     "output_type": "stream",
     "text": [
      "조회할 ID:  8\n"
     ]
    },
    {
     "name": "stdout",
     "output_type": "stream",
     "text": [
      "조회행수: 1\n"
     ]
    }
   ],
   "source": [
    "sql = \"select * from customer where id = %s\" \n",
    "cust_id = int(input(\"조회할 ID: \"))\n",
    "with pymysql.connect(host=\"127.0.0.1\", port=3306, user='playdata', password='1111', db='mydb'\n",
    "                             , cursorclass=pymysql.cursors.DictCursor) as conn:\n",
    "    with conn.cursor() as cursor:\n",
    "        result = cursor.execute(sql, [cust_id])\n",
    "        print(\"조회행수:\", result)\n",
    "        resultset = cursor.fetchone()"
   ]
  },
  {
   "cell_type": "code",
   "execution_count": 65,
   "id": "111d8576-e4c7-4489-9829-1558d9dc8c23",
   "metadata": {},
   "outputs": [
    {
     "data": {
      "text/plain": [
       "dict"
      ]
     },
     "execution_count": 65,
     "metadata": {},
     "output_type": "execute_result"
    }
   ],
   "source": [
    "type(resultset)"
   ]
  },
  {
   "cell_type": "code",
   "execution_count": 66,
   "id": "a5ab7284-3e27-468b-ab71-ac5386dea8ca",
   "metadata": {},
   "outputs": [
    {
     "data": {
      "text/plain": [
       "{'id': 8,\n",
       " 'name': 'name1',\n",
       " 'email': 'abc1@abc.com',\n",
       " 'tall': Decimal('165.00'),\n",
       " 'birthday': datetime.date(2000, 1, 12),\n",
       " 'created_at': datetime.datetime(2024, 3, 22, 16, 7, 41)}"
      ]
     },
     "execution_count": 66,
     "metadata": {},
     "output_type": "execute_result"
    }
   ],
   "source": [
    "resultset"
   ]
  },
  {
   "cell_type": "code",
   "execution_count": 67,
   "id": "38ca77f0-4563-417b-b949-7b1806ffbd6b",
   "metadata": {},
   "outputs": [
    {
     "data": {
      "text/plain": [
       "'name1'"
      ]
     },
     "execution_count": 67,
     "metadata": {},
     "output_type": "execute_result"
    }
   ],
   "source": [
    "resultset['name']"
   ]
  },
  {
   "cell_type": "markdown",
   "id": "66910667-d795-4d67-aafb-e5c3f2a46a88",
   "metadata": {},
   "source": [
    "### cursor 는 iterable"
   ]
  },
  {
   "cell_type": "code",
   "execution_count": 71,
   "id": "f62252f1-18dd-442e-926a-f44456d6de0d",
   "metadata": {},
   "outputs": [
    {
     "name": "stdout",
     "output_type": "stream",
     "text": [
      "{'id': 8, 'name': 'name1', 'email': 'abc1@abc.com', 'tall': Decimal('165.00'), 'birthday': datetime.date(2000, 1, 12), 'created_at': datetime.datetime(2024, 3, 22, 16, 7, 41)}\n",
      "----------------------------\n",
      "{'id': 15, 'name': 'name2', 'email': 'def1@abc.com', 'tall': Decimal('175.00'), 'birthday': datetime.date(1995, 12, 20), 'created_at': datetime.datetime(2024, 3, 22, 16, 30, 6)}\n",
      "----------------------------\n",
      "{'id': 16, 'name': 'name3', 'email': 'ghi1@abc.com', 'tall': Decimal('185.00'), 'birthday': datetime.date(1988, 7, 21), 'created_at': datetime.datetime(2024, 3, 22, 16, 30, 6)}\n",
      "----------------------------\n",
      "{'id': 17, 'name': '이름1', 'email': 'abc2@a.com', 'tall': Decimal('165.00'), 'birthday': datetime.date(2000, 1, 12), 'created_at': datetime.datetime(2024, 3, 22, 16, 30, 11)}\n",
      "----------------------------\n",
      "{'id': 18, 'name': '이름2', 'email': 'def2@a.com', 'tall': Decimal('175.00'), 'birthday': datetime.date(1995, 12, 20), 'created_at': datetime.datetime(2024, 3, 22, 16, 30, 11)}\n",
      "----------------------------\n",
      "{'id': 19, 'name': '이름1', 'email': 'ghi2@a.com', 'tall': Decimal('185.00'), 'birthday': datetime.date(1988, 7, 21), 'created_at': datetime.datetime(2024, 3, 22, 16, 30, 11)}\n",
      "----------------------------\n"
     ]
    }
   ],
   "source": [
    "sql = \"select * from customer\"\n",
    "with pymysql.connect(host=\"127.0.0.1\", port=3306, user='playdata', password='1111', db='mydb'\n",
    "                             , cursorclass=pymysql.cursors.DictCursor) as conn:\n",
    "    with conn.cursor() as cursor:\n",
    "        result = cursor.execute(sql)\n",
    "        for data in cursor:  # 조회결과를 한행씩 제공 (tuple)\n",
    "            print(data)\n",
    "            print('----------------------------')"
   ]
  },
  {
   "cell_type": "code",
   "execution_count": 28,
   "id": "5f2888df-b6d1-414e-88a2-c1b80f75a7f9",
   "metadata": {},
   "outputs": [
    {
     "data": {
      "text/plain": [
       "(16,\n",
       " 'name3',\n",
       " 'ghi1@abc.com',\n",
       " Decimal('185.00'),\n",
       " datetime.date(1988, 7, 21),\n",
       " datetime.datetime(2024, 3, 22, 16, 30, 6))"
      ]
     },
     "execution_count": 28,
     "metadata": {},
     "output_type": "execute_result"
    }
   ],
   "source": [
    "import customer_db as cdb\n",
    "cdb.select_customer_by_id(16)"
   ]
  },
  {
   "cell_type": "code",
   "execution_count": 29,
   "id": "bf1d2ac0-6a60-49e8-9968-89abe456dec6",
   "metadata": {},
   "outputs": [],
   "source": [
    "# manual commit\n",
    "# sql 처리하는 함수가 commit 하지 않고 호출 하는 쪽에서 commit/rollback 처리하도록 한다.\n",
    "# connection 생성(DB연결)/commit->sql 처리 함수 호출하는 쪽에서 생성.\n",
    "# sql 처리 함수는 connection을 파라미터로 받아서 cursor를 생성.\n",
    "import pymysql\n",
    "def insert_customer(conn, name, email, tall, birthday):\n",
    "    sql = \"insert into customer (name, email, tall, birthday, created_at) \\\n",
    "             values (%s, %s, %s, %s, now())\"\n",
    "    with conn.cursor() as cursor:\n",
    "        return  cursor.execute(sql, [name, email, tall, birthday])\n",
    "    \n",
    "\n",
    "def update_customer(conn, cust_id, name, email, tall, birthday):\n",
    "    sql = \"update customer set name=%s, email=%s, tall=%s, birthday=%s where id=%s\"\n",
    "    with conn.cursor() as cursor:\n",
    "        return cursor.execute(sql, [name, email, tall, birthday, cust_id])\n",
    "\n",
    "def delete_customer_by_id(conn, cust_id):\n",
    "    sql = \"delete from customer where id=%s\"\n",
    "    with conn.cursor() as cursor:\n",
    "        return cursor.execute(sql, [cust_id])\n",
    "\n",
    "def select_customers(conn): # 전체조회\n",
    "    sql = \"select * from customer\"\n",
    "    with conn.cursor() as cursor:\n",
    "        cursor.execute(sql)\n",
    "        return cursor.fetchall()\n",
    "\n"
   ]
  },
  {
   "cell_type": "code",
   "execution_count": 31,
   "id": "28a98f42-62f0-4f21-a5ad-97a275a8b72e",
   "metadata": {},
   "outputs": [],
   "source": [
    "# 업무처리 함수(로직)\n",
    "\n",
    "with pymysql.connect(host=\"127.0.0.1\", port=3306, user=\"playdata\", password=\"1111\", db='mydb') as conn:\n",
    "    insert_customer(conn, \"이름100\", \"이메일100\", 192.2, '1999-10-01')\n",
    "    insert_customer(conn, \"이름101\", \"이메일101\", 191.2, '1999-10-01')\n",
    "    insert_customer(conn, \"이름102\", \"이메일102\", 190.2, '1999-10-01')\n",
    "    # conn.rollback() # rollback\n",
    "    conn.commit()"
   ]
  },
  {
   "cell_type": "code",
   "execution_count": null,
   "id": "84b88fa5-74aa-4377-b5fa-fe6e64ced1a4",
   "metadata": {},
   "outputs": [],
   "source": []
  },
  {
   "cell_type": "code",
   "execution_count": null,
   "id": "698d7cb4-6f0e-4f92-9dfb-696141dfe1fd",
   "metadata": {},
   "outputs": [],
   "source": []
  },
  {
   "cell_type": "code",
   "execution_count": null,
   "id": "95e166d8-41df-4f0e-b701-bbb953b2dc89",
   "metadata": {},
   "outputs": [],
   "source": []
  },
  {
   "cell_type": "code",
   "execution_count": 26,
   "id": "536d8fb4-afff-442c-add1-18c1bd42a757",
   "metadata": {},
   "outputs": [
    {
     "name": "stdout",
     "output_type": "stream",
     "text": [
      "Writing customer_db.py\n"
     ]
    }
   ],
   "source": [
    "%%writefile customer_db.py\n",
    "# autocommit 함수\n",
    "import pymysql\n",
    "def insert_customer(name, email, tall, birthday):\n",
    "    sql = \"insert into customer (name, email, tall, birthday, created_at) \\\n",
    "             values (%s, %s, %s, %s, now())\"\n",
    "    with pymysql.connect(host=\"127.0.0.1\", port=3306, user=\"playdata\", password=\"1111\", db='mydb') as conn:\n",
    "        with conn.cursor() as cursor:\n",
    "            result = cursor.execute(sql, [name, email, tall, birthday])\n",
    "            conn.commit()\n",
    "    return result\n",
    "\n",
    "def update_customer(cust_id, name, email, tall, birthday):\n",
    "    sql = \"update customer set name=%s, email=%s, tall=%s, birthday=%s where id=%s\"\n",
    "    with pymysql.connect(host=\"127.0.0.1\", port=3306, user=\"playdata\", password=\"1111\", db='mydb') as conn:\n",
    "        with conn.cursor() as cursor:\n",
    "            result = cursor.execute(sql, [name, email, tall, birthday, cust_id])\n",
    "            conn.commit()\n",
    "    return result\n",
    "\n",
    "def delete_customer_by_id(cust_id):\n",
    "    sql = \"delete from customer where id=%s\"\n",
    "    with pymysql.connect(host=\"127.0.0.1\", port=3306, user=\"playdata\", password=\"1111\", db='mydb') as conn:\n",
    "        with conn.cursor() as cursor:\n",
    "            result = cursor.execute(sql, [cust_id])\n",
    "            conn.commit()\n",
    "    return result\n",
    "\n",
    "def delete_customer_by_name(name):\n",
    "    sql = \"delete from customer where name = %s\"\n",
    "    with pymysql.connect(host=\"127.0.0.1\", port=3306, user=\"playdata\", password=\"1111\", db='mydb') as conn:\n",
    "        with conn.cursor() as cursor:\n",
    "            result = cursor.execute(sql, [name])\n",
    "            conn.commit()\n",
    "    return result\n",
    "\n",
    "def select_customer_by_id(cust_id):\n",
    "    sql = \"select * from customer where id = %s\"  # PK 조건으로 조회: 결과행 - 1행. => fetechone()\n",
    "    with pymysql.connect(host=\"127.0.0.1\", port=3306, user=\"playdata\", password=\"1111\", db='mydb') as conn:\n",
    "        with conn.cursor() as cursor:\n",
    "            cursor.execute(sql, [cust_id])\n",
    "            return cursor.fetchone()\n",
    "\n",
    "def select_customer_by_name(name):\n",
    "    # 조회조건이 unique 하지 않은 컬럼: 결과행: 0 ~ N행. => fetchall()\n",
    "    sql = \"select * from customer where name = %s\" \n",
    "    with pymysql.connect(host=\"127.0.0.1\", port=3306, user=\"playdata\", password=\"1111\", db='mydb') as conn:\n",
    "        with conn.cursor() as cursor:\n",
    "            cursor.execute(sql, [name])\n",
    "            return cursor.fetchall()\n",
    "\n",
    "def select_customer_by_tall_range(start_tall, stop_tall):\n",
    "    sql = \"select * from customer where tall between %s and %s\"\n",
    "    with pymysql.connect(host=\"127.0.0.1\", port=3306, user=\"playdata\", password=\"1111\", db='mydb') as conn:\n",
    "        with conn.cursor() as cursor:\n",
    "            cursor.execute(sql, [start_tall, stop_tall])\n",
    "            return cursor.fetchall()"
   ]
  },
  {
   "cell_type": "code",
   "execution_count": 25,
   "id": "b17d7b84-d79a-4715-9075-bde26990d4d8",
   "metadata": {},
   "outputs": [
    {
     "data": {
      "text/plain": [
       "((8,\n",
       "  'name1',\n",
       "  'abc1@abc.com',\n",
       "  Decimal('165.00'),\n",
       "  datetime.date(2000, 1, 12),\n",
       "  datetime.datetime(2024, 3, 22, 16, 7, 41)),\n",
       " (15,\n",
       "  'name2',\n",
       "  'def1@abc.com',\n",
       "  Decimal('175.00'),\n",
       "  datetime.date(1995, 12, 20),\n",
       "  datetime.datetime(2024, 3, 22, 16, 30, 6)),\n",
       " (16,\n",
       "  'name3',\n",
       "  'ghi1@abc.com',\n",
       "  Decimal('185.00'),\n",
       "  datetime.date(1988, 7, 21),\n",
       "  datetime.datetime(2024, 3, 22, 16, 30, 6)),\n",
       " (18,\n",
       "  '이름2',\n",
       "  'def2@a.com',\n",
       "  Decimal('175.00'),\n",
       "  datetime.date(1995, 12, 20),\n",
       "  datetime.datetime(2024, 3, 22, 16, 30, 11)),\n",
       " (21,\n",
       "  '이름2',\n",
       "  '새이메일',\n",
       "  Decimal('180.20'),\n",
       "  datetime.date(2000, 10, 10),\n",
       "  datetime.datetime(2024, 3, 25, 9, 40, 6)))"
      ]
     },
     "execution_count": 25,
     "metadata": {},
     "output_type": "execute_result"
    }
   ],
   "source": [
    "select_customer_by_tall_range(150, 200)"
   ]
  },
  {
   "cell_type": "code",
   "execution_count": 23,
   "id": "2b85ac6e-a909-45a7-932d-2e6da0faa63e",
   "metadata": {},
   "outputs": [
    {
     "data": {
      "text/plain": [
       "((18,\n",
       "  '이름2',\n",
       "  'def2@a.com',\n",
       "  Decimal('175.00'),\n",
       "  datetime.date(1995, 12, 20),\n",
       "  datetime.datetime(2024, 3, 22, 16, 30, 11)),\n",
       " (21,\n",
       "  '이름2',\n",
       "  '새이메일',\n",
       "  Decimal('180.20'),\n",
       "  datetime.date(2000, 10, 10),\n",
       "  datetime.datetime(2024, 3, 25, 9, 40, 6)))"
      ]
     },
     "execution_count": 23,
     "metadata": {},
     "output_type": "execute_result"
    }
   ],
   "source": [
    "select_customer_by_name('이름2')"
   ]
  },
  {
   "cell_type": "code",
   "execution_count": 18,
   "id": "a35ddb1b-44e5-47ca-8a51-54cf316f88c2",
   "metadata": {
    "collapsed": true,
    "jupyter": {
     "outputs_hidden": true
    }
   },
   "outputs": [
    {
     "data": {
      "text/plain": [
       "(16,\n",
       " 'name3',\n",
       " 'ghi1@abc.com',\n",
       " Decimal('185.00'),\n",
       " datetime.date(1988, 7, 21),\n",
       " datetime.datetime(2024, 3, 22, 16, 30, 6))"
      ]
     },
     "execution_count": 18,
     "metadata": {},
     "output_type": "execute_result"
    }
   ],
   "source": [
    "select_customer_by_id(16)"
   ]
  },
  {
   "cell_type": "code",
   "execution_count": 16,
   "id": "4a510820-609e-41bc-977c-67467e91caf3",
   "metadata": {},
   "outputs": [
    {
     "data": {
      "text/plain": [
       "2"
      ]
     },
     "execution_count": 16,
     "metadata": {},
     "output_type": "execute_result"
    }
   ],
   "source": [
    "delete_customer_by_name(\"이름1\")"
   ]
  },
  {
   "cell_type": "code",
   "execution_count": 14,
   "id": "b5e33331-65b8-44e6-9e09-81bc28cc4fd2",
   "metadata": {
    "scrolled": true
   },
   "outputs": [
    {
     "data": {
      "text/plain": [
       "1"
      ]
     },
     "execution_count": 14,
     "metadata": {},
     "output_type": "execute_result"
    }
   ],
   "source": [
    "delete_customer_by_id(20)"
   ]
  },
  {
   "cell_type": "code",
   "execution_count": 12,
   "id": "ca754e81-d3c0-4f8a-a243-21e1f8d0ca4b",
   "metadata": {},
   "outputs": [
    {
     "data": {
      "text/plain": [
       "1"
      ]
     },
     "execution_count": 12,
     "metadata": {},
     "output_type": "execute_result"
    }
   ],
   "source": [
    "update_customer(20, \"바뀐이름2\", \"바뀐이메일\", 200.20, '2010-11-22')"
   ]
  },
  {
   "cell_type": "markdown",
   "id": "5e82d255-c5c4-48cc-9259-2b1eaa9a0e90",
   "metadata": {},
   "source": [
    "# TODO\n",
    "\n",
    "다음 함수들을 구현하시오.  \n",
    "각 함수들은 customer 테이블과 관련해서 CRUD를 처리하는 함수들 입니다.\n",
    "\n",
    "1. name, email, tall, birthday를 매개변수로 받아서 insert하는 함수. (id는 자동증가, created_at은 실행시점의 일시가 insert되도록 한다.)"
   ]
  },
  {
   "cell_type": "code",
   "execution_count": 22,
   "id": "1abefa25-0ff7-486b-94e3-0c16851d98bb",
   "metadata": {},
   "outputs": [
    {
     "data": {
      "text/plain": [
       "1"
      ]
     },
     "execution_count": 22,
     "metadata": {},
     "output_type": "execute_result"
    }
   ],
   "source": [
    "insert_customer(\"이름2\", \"새이메일\", 180.2, '2000-10-10')"
   ]
  },
  {
   "cell_type": "markdown",
   "id": "06b84774-2186-4187-9750-699c4fe3c72b",
   "metadata": {},
   "source": [
    "2. id, name, email, tall, birthday를 매개변수로 받아서 id의 member의 나머지 정보를 update하는 함수. (created_at은 update하지 않는다.)"
   ]
  },
  {
   "cell_type": "code",
   "execution_count": null,
   "id": "180fe9ad-ffc0-4786-9153-ce17dec4ae45",
   "metadata": {},
   "outputs": [],
   "source": []
  },
  {
   "cell_type": "markdown",
   "id": "e2c0ba9e-1cd5-4259-bcd9-02a2d9c1a6e2",
   "metadata": {},
   "source": [
    "3. id를 매개변수로 받아서 그 member 를 삭제하는 함수.\n",
    "4. 이름을 매개변수로 받아서 그 이름의 member를 삭제하는 함수.\n",
    "5. id를 매개변수로 받아서 그 id의 회원 정보를 조회하여 반환하는 함수.\n",
    "6. name을 매개변수로 받아서 그 이름이 들어간 회원의 정보를 조회하여 반환하는 함수.\n",
    "7. birthday를 매개변수로 받아서 그 생일의 회원의 정보를 조회하여 반환하는 함수.\n",
    "8. tall 값을 두개 받아서 그 범위의 tall인 회원들의 정보를 조회하여 반환하는 함수.\n",
    "\n",
    "-   insert, update, delete 는 적용된 행의 개수를 반환한다.\n",
    "-   select 처리 함수는 조회결과를 반환한다."
   ]
  },
  {
   "cell_type": "markdown",
   "id": "769990dc",
   "metadata": {},
   "source": [
    "# TODO\n",
    "\n",
    "-   hr database의 emp 테이블의 데이터를 다루는 함수들을 구현\n",
    "\n",
    "1. 직원 정보들(emp의 컬럼들)을 매개변수로 받아 insert 하는 함수\n",
    "\n",
    "2. 수정할 직원 정보들을 매개변수로 받아 받은 emp_id의 직원의 나머지 컬럼값들을 수정하는 함수\n",
    "\n",
    "3. emp_id를 매개변수로 받아 그 직원을 삭제하는 함수\n",
    "\n",
    "4. job을 매개변수로 받아 그 업무를 하는 직원들을 삭제하는 함수\n",
    "\n",
    "5. 전체 직원정보를 모두 조회해서 반환하는 함수\n",
    "\n",
    "6. emp_id를 매개변수로 받아 그 직원 정보를 조회해서 반환하는 함수\n",
    "\n",
    "7. dept_name을 매개변수로 받아서 그 부서에 소속된 직원들의 정보를 조회해서 반환하는 함수\n",
    "\n",
    "8. salary 범위를 매개변수로 받아 그 범위의 salary를 받는 직원들의 정보를 조회해서 반환하는 함수\n",
    "\n",
    "9. emp_id를 매개변수로 받아서 그 직원의 커미션이 얼마인지를(salary \\* comm_pct) 조회해 반환하는 함수\n",
    "\n",
    "10. dept_name을 매개변수로 받아서 부서별 급여 통계정보(합계, 최대, 최소, 평균, 표준편차)를 반환하는 함수\n"
   ]
  },
  {
   "cell_type": "code",
   "execution_count": null,
   "id": "3742c1ef-7913-4516-b84e-61b322eb02e0",
   "metadata": {},
   "outputs": [],
   "source": []
  },
  {
   "cell_type": "code",
   "execution_count": null,
   "id": "47326bab-f520-46a0-a49c-2f9e788453f2",
   "metadata": {},
   "outputs": [],
   "source": []
  },
  {
   "cell_type": "code",
   "execution_count": null,
   "id": "4406d071-1f68-4ff7-b4c5-e4cad36f7ed6",
   "metadata": {},
   "outputs": [],
   "source": []
  },
  {
   "cell_type": "code",
   "execution_count": null,
   "id": "2002db1d-8032-4ac0-ab5a-5afc839e9c1c",
   "metadata": {},
   "outputs": [],
   "source": []
  }
 ],
 "metadata": {
  "kernelspec": {
   "display_name": "Python 3 (ipykernel)",
   "language": "python",
   "name": "python3"
  },
  "language_info": {
   "codemirror_mode": {
    "name": "ipython",
    "version": 3
   },
   "file_extension": ".py",
   "mimetype": "text/x-python",
   "name": "python",
   "nbconvert_exporter": "python",
   "pygments_lexer": "ipython3",
   "version": "3.11.8"
  },
  "toc": {
   "base_numbering": 1,
   "nav_menu": {},
   "number_sections": false,
   "sideBar": true,
   "skip_h1_title": false,
   "title_cell": "Table of Contents",
   "title_sidebar": "Contents",
   "toc_cell": false,
   "toc_position": {},
   "toc_section_display": true,
   "toc_window_display": false
  },
  "varInspector": {
   "cols": {
    "lenName": 16,
    "lenType": 16,
    "lenVar": 40
   },
   "kernels_config": {
    "python": {
     "delete_cmd_postfix": "",
     "delete_cmd_prefix": "del ",
     "library": "var_list.py",
     "varRefreshCmd": "print(var_dic_list())"
    },
    "r": {
     "delete_cmd_postfix": ") ",
     "delete_cmd_prefix": "rm(",
     "library": "var_list.r",
     "varRefreshCmd": "cat(var_dic_list()) "
    }
   },
   "types_to_exclude": [
    "module",
    "function",
    "builtin_function_or_method",
    "instance",
    "_Feature"
   ],
   "window_display": false
  }
 },
 "nbformat": 4,
 "nbformat_minor": 5
}
