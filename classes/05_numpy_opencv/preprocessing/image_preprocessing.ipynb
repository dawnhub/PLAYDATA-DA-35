{
 "cells": [
  {
   "cell_type": "code",
   "execution_count": 1,
   "metadata": {},
   "outputs": [
    {
     "name": "stdout",
     "output_type": "stream",
     "text": [
      "Collecting wget\n",
      "  Downloading wget-3.2.zip (10 kB)\n",
      "  Installing build dependencies: started\n",
      "  Installing build dependencies: finished with status 'done'\n",
      "  Getting requirements to build wheel: started\n",
      "  Getting requirements to build wheel: finished with status 'done'\n",
      "  Installing backend dependencies: started\n",
      "  Installing backend dependencies: finished with status 'done'\n",
      "  Preparing metadata (pyproject.toml): started\n",
      "  Preparing metadata (pyproject.toml): finished with status 'done'\n",
      "Building wheels for collected packages: wget\n",
      "  Building wheel for wget (pyproject.toml): started\n",
      "  Building wheel for wget (pyproject.toml): finished with status 'done'\n",
      "  Created wheel for wget: filename=wget-3.2-py3-none-any.whl size=9680 sha256=49bad69b94ba7f9ea14df1d972009d4976ce06268a2178463452736bc7dc6e6d\n",
      "  Stored in directory: c:\\users\\user\\appdata\\local\\pip\\cache\\wheels\\40\\b3\\0f\\a40dbd1c6861731779f62cc4babcb234387e11d697df70ee97\n",
      "Successfully built wget\n",
      "Installing collected packages: wget\n",
      "Successfully installed wget-3.2\n"
     ]
    }
   ],
   "source": [
    "\n",
    "!pip install wget"
   ]
  },
  {
   "cell_type": "code",
   "execution_count": 8,
   "metadata": {},
   "outputs": [],
   "source": [
    "import wget\n",
    "import os\n",
    "\n",
    "\n",
    "url = 'https://download.pytorch.org/tutorial/hymenoptera_data.zip'\n",
    "\n",
    "os.makedirs(\"data\", exist_ok = True)\n",
    "#파일다운로드\n",
    "zip_path = wget.download(url, out = \"data/hymenoptera_data.zip\")\n",
    "#파라미터 url, out=\"받은파일경로\"\n",
    "#다운받은 파일의 경로를 반환\n",
    "\n",
    "#다운받은 zip파일 압축 풀기\n",
    "#zip 압축 다루는 표준 모듈 : zipfile\n",
    "from zipfile import ZipFile\n",
    "#압축 파일연결 -> 압축 풀기 -> 연결 닫기\n",
    "\n",
    "with ZipFile(zip_path) as zf: #풀 압축파일의 경로를 넣어서 객체 생성\n",
    "    zf.extractall(\"data\") #압축을 풀 경로, 생략시 현재디렉토리\n"
   ]
  },
  {
   "cell_type": "code",
   "execution_count": 18,
   "metadata": {},
   "outputs": [],
   "source": [
    "\n",
    "from glob import glob # 파일 * 디렉토리 **\n",
    "\n",
    "p = glob(\"data/**/*.jpg\",recursive=True)\n",
    "## data 아래에 있는 디렉토리\n",
    "glob(\"data/**/\",recursive=True)\n",
    "\n",
    "##복사 ->shutil 표준모듈. \n",
    "#copy(src,target) : 파일 + 권한정보\n",
    "#copy2(src,target) : 파일 + 파일의 메타정보(생성일자, 수정일자,...)\n",
    "#copyfile(src,target) : 파일만\n",
    "#copytree(src,target) :디렉토리 복사\n",
    "import shutil\n",
    "#shutil.copyfile(p, \"data/\")\n",
    "# 이미지 파일들이 있는 디렉토리 조회\n",
    "img_dir_path = glob(\"data/**/\")[0] #카피 후 디렉토리삭제를 위해 경로 저장\n",
    "file_list = glob(\"data/**/*.jpg\", recursive=True)\n",
    "\n",
    "#복사\n",
    "for file in file_list:\n",
    "    shutil.copy2(file, \"data\")\n"
   ]
  },
  {
   "cell_type": "code",
   "execution_count": 20,
   "metadata": {},
   "outputs": [
    {
     "name": "stdout",
     "output_type": "stream",
     "text": [
      "삭제할 파일이 없음\n",
      "삭제할 디렉토리 없음\n"
     ]
    }
   ],
   "source": [
    "\n",
    "#불필요한 원본과 경로 삭제, 다운받은 압축파일 삭제\n",
    "try:\n",
    "    os.remove(zip_path)\n",
    "except:\n",
    "    print(\"삭제할 파일이 없음\")\n",
    "\n",
    "try:\n",
    "    shutil.rmtree(img_dir_path)\n",
    "except:\n",
    "    print(\"삭제할 디렉토리 없음\")\n"
   ]
  },
  {
   "cell_type": "markdown",
   "metadata": {},
   "source": [
    "# 이미지 전처리\n",
    "- 이진화 \n",
    "- 좌우 이동\n",
    "- 밝기 변경\n",
    "- 엣지 디텍션\n",
    "- 모든 이미지 위 4가지 처리를 한 파일을 각각 생성."
   ]
  },
  {
   "cell_type": "code",
   "execution_count": 24,
   "metadata": {},
   "outputs": [
    {
     "name": "stdout",
     "output_type": "stream",
     "text": [
      "1095476100_3906d8afde.jpg\n",
      "data\n",
      "('1095476100_3906d8afde', '.jpg')\n"
     ]
    },
    {
     "data": {
      "text/plain": [
       "['data\\\\0013035.jpg',\n",
       " 'data\\\\1030023514_aad5c608f9.jpg',\n",
       " 'data\\\\10308379_1b6c72e180.jpg',\n",
       " 'data\\\\1032546534_06907fe3b3.jpg',\n",
       " 'data\\\\1053149811_f62a3410d3.jpg',\n",
       " 'data\\\\1073564163_225a64f170.jpg',\n",
       " 'data\\\\10870992_eebeeb3a12.jpg',\n",
       " 'data\\\\1092977343_cb42b38d62.jpg',\n",
       " 'data\\\\1093831624_fb5fbe2308.jpg',\n",
       " 'data\\\\1095476100_3906d8afde.jpg']"
      ]
     },
     "execution_count": 24,
     "metadata": {},
     "output_type": "execute_result"
    }
   ],
   "source": [
    "#파일 경로의 정보 조회\n",
    "fname = 'data\\\\1095476100_3906d8afde.jpg'\n",
    "print(os.path.basename(fname))\n",
    "print(os.path.dirname(fname))\n",
    "print(os.path.splitext('1095476100_3906d8afde.jpg')) #파일명과 확장자 분리\n"
   ]
  },
  {
   "cell_type": "code",
   "execution_count": 25,
   "metadata": {},
   "outputs": [],
   "source": [
    "import cv2\n",
    "import numpy as np\n",
    "\n",
    "img_list = glob(\"data/*.jpg\")\n",
    "cnt = 0\n",
    "\n",
    "for img_path in img_list:\n",
    "    fname = os.path.basename(img_path) #파일명 조회\n",
    "    fname, ext = os.path.splitext(fname) #파일 이름, 확장자를 분리해서 저장\n",
    "    #읽기\n",
    "    img = cv2.imread(img_path)\n",
    "    img_gray = cv2.cvtColor(img, cv2.COLOR_BGR2GRAY)\n",
    "    #이미지 이진화\n",
    "    _, img_bin = cv2.threshold(img_gray, 127, 255, cv2.THRESH_BINARY)\n",
    "    save_path1= f\"data/{fname}_binary_{cnt:03d}{ext}\" #0으로 세자리를 맞추는 정수\n",
    "    cv2.imwrite(save_path1, img_bin)\n",
    "\n",
    "    ##좌우 이동 20픽샐\n",
    "    affine_mat = np.array([[1,0,20],[0,1,0]], dtype=\"float32\")\n",
    "    img_move = cv2.warpAffine(img, affine_mat,(0,0))\n",
    "    save_path2 = f\"data/{fname}_move_{cnt:03d}{ext}\"\n",
    "    cv2.imwrite(save_path2, img_move)\n",
    "\n",
    "    ##밝기조절\n",
    "    img_brighter = cv2.add(img,30)\n",
    "    save_path3 = f\"data/{fname}_bright_{cnt:03d}{ext}\"\n",
    "    cv2.imwrite(save_path3, img_brighter)\n",
    "\n",
    "    ##엣지디텍션\n",
    "    img_edge = cv2.Canny(img_gray, 50, 150)\n",
    "    save_path4 = f\"data/{fname}_edge_{cnt:03d}{ext}\"\n",
    "    cv2.imwrite(save_path4, img_edge)\n"
   ]
  },
  {
   "cell_type": "code",
   "execution_count": null,
   "metadata": {},
   "outputs": [],
   "source": []
  }
 ],
 "metadata": {
  "kernelspec": {
   "display_name": "env",
   "language": "python",
   "name": "python3"
  },
  "language_info": {
   "codemirror_mode": {
    "name": "ipython",
    "version": 3
   },
   "file_extension": ".py",
   "mimetype": "text/x-python",
   "name": "python",
   "nbconvert_exporter": "python",
   "pygments_lexer": "ipython3",
   "version": "3.11.8"
  }
 },
 "nbformat": 4,
 "nbformat_minor": 2
}
