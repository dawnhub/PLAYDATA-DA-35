{
 "cells": [
  {
   "cell_type": "code",
   "execution_count": null,
   "id": "147c44a9-a40a-425b-8076-76443c05ac25",
   "metadata": {},
   "outputs": [],
   "source": [
    "# preprocessing/image_preprocessing.ipynb"
   ]
  },
  {
   "cell_type": "code",
   "execution_count": 2,
   "id": "352f2b45-8380-47a3-a976-cfc2287d5df2",
   "metadata": {
    "collapsed": true,
    "jupyter": {
     "outputs_hidden": true
    }
   },
   "outputs": [
    {
     "name": "stdout",
     "output_type": "stream",
     "text": [
      "Collecting wget\n",
      "  Downloading wget-3.2.zip (10 kB)\n",
      "  Installing build dependencies: started\n",
      "  Installing build dependencies: finished with status 'done'\n",
      "  Getting requirements to build wheel: started\n",
      "  Getting requirements to build wheel: finished with status 'done'\n",
      "  Installing backend dependencies: started\n",
      "  Installing backend dependencies: finished with status 'done'\n",
      "  Preparing metadata (pyproject.toml): started\n",
      "  Preparing metadata (pyproject.toml): finished with status 'done'\n",
      "Building wheels for collected packages: wget\n",
      "  Building wheel for wget (pyproject.toml): started\n",
      "  Building wheel for wget (pyproject.toml): finished with status 'done'\n",
      "  Created wheel for wget: filename=wget-3.2-py3-none-any.whl size=9680 sha256=741213e99b630f601911c5e02db1fe19ee25088477d212611cfa09032d6eae74\n",
      "  Stored in directory: c:\\users\\user\\appdata\\local\\pip\\cache\\wheels\\40\\b3\\0f\\a40dbd1c6861731779f62cc4babcb234387e11d697df70ee97\n",
      "Successfully built wget\n",
      "Installing collected packages: wget\n",
      "Successfully installed wget-3.2\n"
     ]
    }
   ],
   "source": [
    "!pip install wget"
   ]
  },
  {
   "cell_type": "code",
   "execution_count": 3,
   "id": "6ab0dbb7-0c60-42fe-9783-f2006dcd4659",
   "metadata": {},
   "outputs": [],
   "source": [
    "url = \"https://download.pytorch.org/tutorial/hymenoptera_data.zip\""
   ]
  },
  {
   "cell_type": "code",
   "execution_count": 4,
   "id": "f3960f44-05e3-4a71-b24c-9c2b93b40b68",
   "metadata": {},
   "outputs": [
    {
     "name": "stdout",
     "output_type": "stream",
     "text": [
      "100% [........................................................................] 47286322 / 47286322"
     ]
    },
    {
     "data": {
      "text/plain": [
       "'data/hymenoptera_data.zip'"
      ]
     },
     "execution_count": 4,
     "metadata": {},
     "output_type": "execute_result"
    }
   ],
   "source": [
    "import os\n",
    "import wget\n",
    "# 디렉토리 생성\n",
    "os.makedirs(\"data\", exist_ok=True)\n",
    "# url의 파일을 다운로드\n",
    "zip_path = wget.download(url, out=\"data/hymenoptera_data.zip\")\n",
    "# 파라미터 (다운받을 URL,  out=\"받은파일 저장경로\")\n",
    "# 다운받은 파일의 경로를 반환.\n",
    "zip_path"
   ]
  },
  {
   "cell_type": "code",
   "execution_count": 6,
   "id": "40599782-d0c2-453a-b668-68175d0f54f0",
   "metadata": {},
   "outputs": [],
   "source": [
    "##### 다운받은 zip파일 압축풀기\n",
    "# zip 압축 다루는 표준모듈\n",
    "from zipfile import ZipFile\n",
    "# 압축파일연결 -> 압축풀기 -> 연결닫기 \n",
    "with ZipFile(zip_path) as zf:     # 풀 압축파일의 경로를 넣어서 객체 생성\n",
    "    zf.extractall(\"data\")  # \"data\": 디렉토리 아래 풀기. 생략시 현재 작업경로 아래 푼다."
   ]
  },
  {
   "cell_type": "code",
   "execution_count": 15,
   "id": "fe4b9060-aa2f-415f-9f54-f2b676b032b3",
   "metadata": {},
   "outputs": [
    {
     "data": {
      "text/plain": [
       "['data\\\\hymenoptera_data\\\\']"
      ]
     },
     "execution_count": 15,
     "metadata": {},
     "output_type": "execute_result"
    }
   ],
   "source": [
    "## glob.glob() # 이미지의 경로를 반환. \n",
    "#                               => wild card 문자를 이용해서 다수 파일의 경로를 한번에 조회가능\n",
    "#           파일: * (모든 문자들),  디렉토리: ** (모든 하위 디렉토리들)\n",
    "#           *.jpg : 확장자가 jpg인 모든 파일, \n",
    "#            a*.exe : a로 시작하는 이름의 모든 exe파일들.\n",
    "#           c:\\test\\**   :  c:\\test 아래있는 모든 하위 및 자손 디렉토리.(재귀적 조회)\n",
    "\n",
    "#### data 아래 있는 모든 jpg 파일들의 경로\n",
    "from glob import glob\n",
    "# glob(\"data/**/*.jpg\", recursive=True)\n",
    "#### data 아래있는 디렉토리 \n",
    "glob(\"data/**/\") #, recursive=True)"
   ]
  },
  {
   "cell_type": "code",
   "execution_count": null,
   "id": "fece3932-c1e8-46d9-8268-f7cb09ffb044",
   "metadata": {},
   "outputs": [],
   "source": [
    "####### 복사 -> shutil 표준모듈.  \n",
    "##  copy(src, target)   - 파일 + 권한정보\n",
    "##  copy2(src, target) - 파일 + 메타정보(생성일자, 수정일자..)\n",
    "##  copyfile(src, target) - 파일\n",
    "##  copytree(src, target)  - 디렉토리 복사."
   ]
  },
  {
   "cell_type": "code",
   "execution_count": 19,
   "id": "4d7d7744-3dc9-49b2-b9cf-3cab0ddab397",
   "metadata": {},
   "outputs": [],
   "source": [
    "####### data 및 그 하위 경로 아래 모든 이미지파일들(.jpg)을 data 폴더 아래로 카피.\n",
    "# 이미지 파일들이 있는 디렉토리 조회\n",
    "import shutil\n",
    "\n",
    "img_dir_path = glob(\"data/**/\")[0]  # 카피후 디렉토리 삭제를 위해서 경로 저장.\n",
    "file_list = glob(\"data/**/*.jpg\", recursive=True)\n",
    "\n",
    "# 복사\n",
    "for file in file_list:\n",
    "    shutil.copy2(file, \"data\")  # file --복사--> data"
   ]
  },
  {
   "cell_type": "code",
   "execution_count": 21,
   "id": "1123b269-1799-4bc2-bb4f-2810ced45a2a",
   "metadata": {},
   "outputs": [
    {
     "name": "stdout",
     "output_type": "stream",
     "text": [
      "삭제할 파일이 없음.\n",
      "삭제할 디렉토리 없음\n"
     ]
    }
   ],
   "source": [
    "# 원본 이미지 파일들 디렉토리, 다운받은 압축파일 삭제\n",
    "try:\n",
    "    os.remove(zip_path) # 압축파일 삭제\n",
    "except:\n",
    "    print('삭제할 파일이 없음.')\n",
    "\n",
    "try:\n",
    "    shutil.rmtree(img_dir_path)\n",
    "except:\n",
    "    print(\"삭제할 디렉토리 없음\")"
   ]
  },
  {
   "cell_type": "markdown",
   "id": "3607e01a-aa98-482b-a46e-6218da971582",
   "metadata": {},
   "source": [
    "# 이미지 전처리 \n",
    "- 이진화\n",
    "- 좌우 이동\n",
    "- 밝기 변경\n",
    "- 엣지 디텍션\n",
    "- 모든 이미지에 위 4가지 처리를 한 파일을 각각 생성."
   ]
  },
  {
   "cell_type": "code",
   "execution_count": 26,
   "id": "ef0964eb-6f48-44ad-8f87-b43d55259761",
   "metadata": {},
   "outputs": [
    {
     "name": "stdout",
     "output_type": "stream",
     "text": [
      "1030023514_aad5c608f9.jpg\n",
      "c:\\images\\data\n",
      "('1030023514_aad5c608f9', '.jpg')\n"
     ]
    }
   ],
   "source": [
    "##### 파일 경로의 정보 조회\n",
    "fname = 'c:\\\\images\\\\data\\\\1030023514_aad5c608f9.jpg'\n",
    "# 파일이름\n",
    "print(os.path.basename(fname))\n",
    "print(os.path.dirname(fname))\n",
    "print(os.path.splitext(\"1030023514_aad5c608f9.jpg\")) #파일명과  확장자를 분리"
   ]
  },
  {
   "cell_type": "code",
   "execution_count": 30,
   "id": "e848bb43-c5a4-47b6-8427-1a4d1ce0e7fe",
   "metadata": {},
   "outputs": [],
   "source": [
    "import cv2 \n",
    "import numpy as np\n",
    "\n",
    "img_list = glob('data/*.jpg')\n",
    "cnt = 0\n",
    "for img_path in img_list:\n",
    "    fname = os.path.basename(img_path) # 파일명 조회\n",
    "    fname, ext = os.path.splitext(fname)   # 파일이름, 확장자를 분리해서 변수에 저장.\n",
    "    # 읽기\n",
    "    img = cv2.imread(img_path)\n",
    "    ## 이진화\n",
    "    ### grayscale 변환. \n",
    "    img_gray = cv2.cvtColor(img, cv2.COLOR_BGR2GRAY)\n",
    "    ### 이진화\n",
    "    _, img_bin = cv2.threshold(img_gray, 127, 255, cv2.THRESH_BINARY)\n",
    "    ### 저장\n",
    "    save_path1 = f\"data/{fname}_binary_{cnt:03d}{ext}\"  # 03d: 0으로 세자리 맞춤. 1->001\n",
    "    cv2.imwrite(save_path1,  img_bin)\n",
    "    \n",
    "    ## 좌우 이동 (20px 이동)\n",
    "    affine_matrix = np.array([[1, 0, 20], [0, 1, 0]], dtype=\"float32\")\n",
    "    img_move = cv2.warpAffine(img, affine_matrix, (0, 0))\n",
    "    save_path2 = f\"data/{fname}_move_{cnt:03d}{ext}\"\n",
    "    cv2.imwrite(save_path2, img_move)\n",
    "\n",
    "    ## 밝기 변경 (30 만큼 밝게)\n",
    "    img_bright = cv2.add(img, 30)\n",
    "    save_path3 = f\"data/{fname}_bright_{cnt:03d}{ext}\"\n",
    "    cv2.imwrite(save_path3, img_bright)\n",
    "\n",
    "    ## 엣지 검출\n",
    "    img_edge = cv2.Canny(img_gray, 50, 150)\n",
    "    save_path4 = f\"data/{fname}_edge_{cnt:03d}{ext}\"\n",
    "    cv2.imwrite(save_path4, img_edge)\n",
    "\n",
    "    cnt += 1\n",
    "    "
   ]
  },
  {
   "cell_type": "code",
   "execution_count": null,
   "id": "49a7df67-cd3a-4747-a680-5d5d4a38882b",
   "metadata": {},
   "outputs": [],
   "source": []
  },
  {
   "cell_type": "code",
   "execution_count": null,
   "id": "553e3bd3-13c1-4ee8-bf3f-89071ad69d9f",
   "metadata": {},
   "outputs": [],
   "source": []
  },
  {
   "cell_type": "code",
   "execution_count": null,
   "id": "2a655014-4953-4612-a288-863244a2eec2",
   "metadata": {},
   "outputs": [],
   "source": []
  },
  {
   "cell_type": "code",
   "execution_count": null,
   "id": "0a8945d0-10d9-4200-87d2-e7761b69cbd6",
   "metadata": {},
   "outputs": [],
   "source": []
  },
  {
   "cell_type": "code",
   "execution_count": null,
   "id": "db683d81-797b-4618-b41b-5d28d43b1109",
   "metadata": {},
   "outputs": [],
   "source": []
  },
  {
   "cell_type": "code",
   "execution_count": null,
   "id": "8298d2fe-5909-4e2e-b384-4f6553e414c8",
   "metadata": {},
   "outputs": [],
   "source": []
  },
  {
   "cell_type": "code",
   "execution_count": null,
   "id": "ddc35cea-ac70-4bec-ada1-ccda3e1f074c",
   "metadata": {},
   "outputs": [],
   "source": []
  },
  {
   "cell_type": "code",
   "execution_count": null,
   "id": "11234940-696e-488a-9f69-91a64630a513",
   "metadata": {},
   "outputs": [],
   "source": []
  },
  {
   "cell_type": "code",
   "execution_count": null,
   "id": "d53a63c7-9f66-4661-a7c5-cb30bbc753d3",
   "metadata": {},
   "outputs": [],
   "source": [
    "\n"
   ]
  }
 ],
 "metadata": {
  "kernelspec": {
   "display_name": "Python 3 (ipykernel)",
   "language": "python",
   "name": "python3"
  },
  "language_info": {
   "codemirror_mode": {
    "name": "ipython",
    "version": 3
   },
   "file_extension": ".py",
   "mimetype": "text/x-python",
   "name": "python",
   "nbconvert_exporter": "python",
   "pygments_lexer": "ipython3",
   "version": "3.11.8"
  }
 },
 "nbformat": 4,
 "nbformat_minor": 5
}
