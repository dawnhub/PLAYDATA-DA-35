{
 "cells": [
  {
   "cell_type": "code",
   "execution_count": 1,
   "metadata": {},
   "outputs": [
    {
     "data": {
      "text/plain": [
       "'010-1111-****'"
      ]
     },
     "execution_count": 1,
     "metadata": {},
     "output_type": "execute_result"
    }
   ],
   "source": [
    "s = \"010-1111-2222\"\n",
    "s.replace('2222', '****')"
   ]
  },
  {
   "cell_type": "markdown",
   "metadata": {
    "slideshow": {
     "slide_type": "slide"
    }
   },
   "source": [
    "# <font size=50>정규 표현식 (Regular Expression)</font>"
   ]
  },
  {
   "cell_type": "markdown",
   "metadata": {
    "slideshow": {
     "slide_type": "fragment"
    }
   },
   "source": [
    "# 정규 표현식(Regular Expression) 개요\n",
    "\n",
    "## 정규 표현식이란\n",
    "- 텍스트에서 특정한 형태나 규칙을 가지는 문자열을 찾기 위해 그 형태나 규칙을 정의하는 것.\n",
    "- 파이썬 뿐만 아니라 문자열을 다루는 모든 곳에서 사용된다.\n",
    "- **정규식, Regexp**이라고도 한다."
   ]
  },
  {
   "cell_type": "markdown",
   "metadata": {
    "slideshow": {
     "slide_type": "fragment"
    }
   },
   "source": [
    "## 기본개념\n",
    "- **패턴** \n",
    "    - 정규 표현식이라고 한다.\n",
    "    - 문장내에서 찾기위한 문구의 형태에 대한 표현식.\n",
    "- **메타문자**\n",
    "    - 패턴을 기술하기 위해 사용되는 특별한 의미를 가지는 문자\n",
    "    - 예) `a*` : a가 0회 이상 반복을 뜻한다. a, aa, aaaa\n",
    "- **리터럴**\n",
    "    - 표현식이 값 자체를 의미하는 것\n",
    "    - 예) `a`는 `a` 자체를 의미한다.    "
   ]
  },
  {
   "cell_type": "markdown",
   "metadata": {
    "slideshow": {
     "slide_type": "slide"
    }
   },
   "source": [
    "# 정규 표현식 메타 문자\n",
    "- 패턴을 기술하기 위한 문자"
   ]
  },
  {
   "cell_type": "markdown",
   "metadata": {
    "slideshow": {
     "slide_type": "fragment"
    }
   },
   "source": [
    "## 문자 클래스 :  [  ]\n",
    "- `[ ]` 사이의 문자들과 매칭\n",
    "    - `[abc]` : a, b, c 중 **하나의 문자**와 매치\n",
    "- `-`를 이용해 범위로 설정할 수 있다.\n",
    "    - `[a-z]` : 알파벳소문자중 하나의 문자와 매치\n",
    "    - `[a-zA-Z0-9]` : 알파벳대소문자와 숫자 중 하나의 문자와 매치\n",
    "    - `[가-힣ㄱ-ㅎㅏ-ㅣ]`: 한글중 하나와 매치\n",
    "- `[^ 패턴]` : ^ 으로 시작하는 경우 반대의 의미. 와서 안되는 패턴을 의미\n",
    "    - `[^abc]` : a, b, c를 제외한 나머지 문자들 중 하나와 매치.\n",
    "    - `[^a-z]` : 알파벳 소문자를 제외한 나머지 문자들 중 하나와 매치"
   ]
  },
  {
   "cell_type": "markdown",
   "metadata": {
    "slideshow": {
     "slide_type": "subslide"
    }
   },
   "source": [
    "## 미리 정의된 문자 클래스\n",
    "- 자주 사용되는 문자클래스를 미리 정의된 별도 표기법으로 제공한다.\n",
    "- `\\d` : 숫자와 매치. [0-9]와 동일\n",
    "- `\\D` : `\\d`의 반대. 숫자가 아닌 문자와 매치.  [^0-9]와 동일\n",
    "- `\\w` : 문자와 숫자, _(underscore)와 매치. `[a-zA-Z가-힣0-9_]`와 동일  (문자는 특수문자 제외한 일반문자-언어상관없는-들을 말한다.\n",
    "- `\\W` : `\\w`의 반대. 문자와 숫자와 _ 가 아닌 문자와 매치.  `[^a-zA-Z가-힣0-9_]`와 동일\n",
    "- `\\s` : 공백문자와 매치. tab,줄바꿈,공백문자와 일치\n",
    "- `\\S` : `\\s`와 반대. 공백을 제외한 문자열과 매치.\n",
    "- `\\b` : 단어 경계(word boundary) 표시. 단어와 단어를 구분할 수 있는 문자로 보통 공백이 많이 쓰임. 공백이외에도 `,`, `.`, `\\n`, `|` 등 문자들을 표현한다.\n",
    "    - `\\b가족\\b` => 우리 가족 만세(O), 우리가족만세 (X)\n",
    "- `\\B` : `\\b`의 반대. 단어 경계로 구분된 단어가 아닌 경우\n",
    "    - `\\B가족\\B` => 우리 가족 만세(X), 우리가족만세 (O)"
   ]
  },
  {
   "cell_type": "markdown",
   "metadata": {
    "slideshow": {
     "slide_type": "subslide"
    }
   },
   "source": [
    "## 글자수와 관련된 메타문자\n",
    "- `*` : 앞의 문자(패턴)과 일치하는 문자가 0개 이상인 경우. (`a*b`)\n",
    "- `+` : 앞의 문자(패턴)과 일치하는 문자가 1개이상인 경우.  (`a+b`)\n",
    "- `?` :  앞의 문자(패턴)과 일치하는 문자가 한개 있거나 없는 경우. (`a?b`)\n",
    "- `{m}` : 앞의 문자(패턴)가 m개. (`a{3}b`)\n",
    "- `{m,}` : 앞의 문자(패턴)이 m개 이상. (`a{3,}b`)\n",
    "    - , 뒤에 공백이 들어오지 않도록 한다.\n",
    "- `{m,n}` : 앞의 문자(패턴)이 m개이상 n개 이하. (`a{2,5}b`)    \n",
    "- `.`, `*`, `+`, `?` 등 메타문자들을 리터럴로 표현할 경우 `\\`를 붙인다."
   ]
  },
  {
   "cell_type": "markdown",
   "metadata": {
    "ExecuteTime": {
     "end_time": "2019-05-15T10:08:16.413433Z",
     "start_time": "2019-05-15T10:08:16.407394Z"
    },
    "slideshow": {
     "slide_type": "subslide"
    }
   },
   "source": [
    "## 문장의 시작과 끝 표현\n",
    "- `^` 문자열의 시작 (`^abc`)\n",
    "    - 문자 클래스([ ])의 ^와는 의미가 다르다.\n",
    "- `$` : 문자열의 끝 (`abc$`)"
   ]
  },
  {
   "cell_type": "markdown",
   "metadata": {
    "ExecuteTime": {
     "end_time": "2019-05-15T10:08:16.413433Z",
     "start_time": "2019-05-15T10:08:16.407394Z"
    },
    "slideshow": {
     "slide_type": "fragment"
    }
   },
   "source": [
    "## 기타\n",
    "- `.` : 한개의 모든 문자(\\n-줄바꿈 제외) (`a.b`)\n",
    "- `|` : 둘중 하나(OR) (?:010|011|016|019)\n",
    "    - 010|016-111 : 010 또는 016-111 이 된다. \n",
    "- `(  )` : 패턴내 하위그룹을 만들때 사용"
   ]
  },
  {
   "cell_type": "markdown",
   "metadata": {
    "slideshow": {
     "slide_type": "slide"
    }
   },
   "source": [
    "# re 모듈\n",
    "- 파이썬에서 정규 표현식을 지원하기 위한 모듈\n",
    "- 파이썬 기본 라이브러리"
   ]
  },
  {
   "cell_type": "markdown",
   "metadata": {
    "slideshow": {
     "slide_type": "subslide"
    }
   },
   "source": [
    "## 코딩패턴\n",
    "\n",
    "1. 객체지향형\n",
    "    - 패턴 객체를 생성후 메소드를 호출해 원하는 처리를 한다.\n",
    "     ```python\n",
    "        p = re.compile(r'\\d+')\n",
    "        p.search('abc123def')\n",
    "    ```\n",
    "2. 함수형\n",
    "    - `re` 모듈의 원하는 작업을 하는 함수를 호출한다. Argument로 패턴과 처리할 값을 전달한다.\n",
    "    ```python\n",
    "        re.search(r'\\d+', 'abc123def')\n",
    "    ```\n",
    "    \n",
    "> ### raw string\n",
    "> - 패턴문자중 `\\`로 시작하는 것들을 사용할 경우 `escape` 문자와의 구분을 위해 `\\\\` 두개씩 작성해야한다.  그래서 패턴을 지정할 때는 raw string을 사용하는 것이 편리하다.\n",
    ">    - `re.compile('\\b가족\\b')` : `\\b`를 escape 문자 b(백스페이스)로 인식\n",
    ">    - `re.compile(r'\\b가족\\b')` : `\\b`가 일반문자가 되어 컴파일시 정규식 메타문자로 처리된다.\n"
   ]
  },
  {
   "cell_type": "markdown",
   "metadata": {
    "slideshow": {
     "slide_type": "slide"
    }
   },
   "source": [
    "## 검색함수\n",
    "- match(), search() : 패턴과 일치하는 문장이 **있는지 여부**를 확인할 때 사용\n",
    "- findall(), finditer(s) : 패턴과 일치하는 문장을 **찾을 때** 사용"
   ]
  },
  {
   "cell_type": "markdown",
   "metadata": {
    "slideshow": {
     "slide_type": "subslide"
    }
   },
   "source": [
    "### Match class\n",
    "- **검색 결과를** 담는 class\n",
    "    - match(), search() 의 반환타입으로 검색결과를 담는다.\n",
    "- 패턴과 일치한 문자열과 그 문자열의 위치를 가진다.\n",
    "- 주요 메소드\n",
    "    - **group()** : 매치된 문자열들을 튜플로 반환\n",
    "    - **group(subgroup 번호)** : 패턴에 하위그룹이 지정된 경우 특정 그룹의 문자열 반환\n",
    "    - **start(), end()** : 대상 문자열내에서 시작, 끝 index 반환\n",
    "    - **span()** : 대상 문자열 내에서 시작, 끝 index를 tuple로 반환"
   ]
  },
  {
   "cell_type": "markdown",
   "metadata": {
    "slideshow": {
     "slide_type": "subslide"
    }
   },
   "source": [
    "### match(대상문자열 [, pos=0])\n",
    "- 대상 문자열의 시작이 정규식과 일치하는지를 조회.\n",
    "- pos : 시작 index 지정\n",
    "- 반환값\n",
    "    - Match 객체: 일치하는 문자열이 있는 경우\n",
    "    - None: 일치하는 문자열이 없는 경우"
   ]
  },
  {
   "cell_type": "markdown",
   "metadata": {
    "slideshow": {
     "slide_type": "subslide"
    }
   },
   "source": [
    "### search(대상문자열 [, pos=0])\n",
    "- 대상문자열 전체 안에서 정규식과 일치하는 것이 있는지 조회\n",
    "- pos: 찾기 시작하는 index 지정\n",
    "- 반환값\n",
    "    - Match 객체: 일치하는 문자열이 있는 경우\n",
    "    - None: 일치하는 문자열이 없는 경우|"
   ]
  },
  {
   "cell_type": "code",
   "execution_count": 15,
   "metadata": {},
   "outputs": [
    {
     "name": "stdout",
     "output_type": "stream",
     "text": [
      "<re.Match object; span=(17, 19), match='20'>\n",
      "위치: (17, 19)\n",
      "시작 index: 17, 끝 index: 19\n",
      "찾은 문자열: 20\n"
     ]
    }
   ],
   "source": [
    "import re\n",
    "\n",
    "txt = \"안녕하세요. 반갑습니다. 저는 20살 홍길동 입니다.\"\n",
    "### 객체지향 방식. 패턴을 정의하고 그 패턴을 이용해서 **여러 작업**을 처리할 때 유리.\n",
    "# 1. 패턴객체 생성\n",
    "p = re.compile(r\"\\w{2}하세요\")  # `\\w` : 일반문자, 숫자, `_` 중 한글자.  {2} 두글자.  \"하세요\": 리터럴\n",
    "p = re.compile(r\"\\d+\")   # `\\d`: 숫자(0-9), `+`: 1글자 이상.\n",
    "# print(type(p))\n",
    "# 2. 패턴으로 원하는 작업을 메소드를 이용해서 처리\n",
    "## match() -> 패턴으로 시작하는지 여부\n",
    "result = p.match(txt, pos=17)  # 패턴객체.match(대상문자열)\n",
    "# print(type(result))\n",
    "if result: # 조회한 것이 있다면  result is not None, result != None\n",
    "    print(result)\n",
    "    print(\"위치:\", result.span())\n",
    "    print(f\"시작 index: {result.start()}, 끝 index: {result.end()}\")\n",
    "    print(\"찾은 문자열:\", result.group())\n",
    "else:\n",
    "    print(\"찾는 패턴이 없음.\")"
   ]
  },
  {
   "cell_type": "code",
   "execution_count": 20,
   "metadata": {},
   "outputs": [
    {
     "name": "stdout",
     "output_type": "stream",
     "text": [
      "위치: (3, 5)\n",
      "찾은 값: 20\n"
     ]
    }
   ],
   "source": [
    "## search() : 있는지 여부를 확인\n",
    "txt = \"저는 205살 홍길동 입니다. 30, 40, 50\"\n",
    "\n",
    "p = re.compile(r\"\\d{2}\")\n",
    "result = p.search(txt)\n",
    "if result:\n",
    "    print(\"위치:\", result.span())\n",
    "    print(\"찾은 값:\", result.group())\n",
    "else:\n",
    "    print(\"없음.\")"
   ]
  },
  {
   "cell_type": "code",
   "execution_count": null,
   "metadata": {
    "slideshow": {
     "slide_type": "fragment"
    }
   },
   "outputs": [],
   "source": []
  },
  {
   "cell_type": "markdown",
   "metadata": {
    "slideshow": {
     "slide_type": "subslide"
    }
   },
   "source": [
    "### findall(대상문자열)\n",
    "- 대상문자열에서 정규식과 매칭되는 문자열들을 리스트로 반환\n",
    "- 반환값\n",
    "    - 리스트(List) : 일치하는 문자열들을 가진 리스트를 반환\n",
    "    - 일치하는 패턴이 없을 경우 빈 리스트를 반환한다.\n",
    "    \n",
    "### finditer(대상문자열)\n",
    "- 대상문자열에서 정규식과 매칭되는 결과들을 조회할 수있는 Iterator를 반환한다.\n",
    "- 반환값\n",
    "    - callable_iterator\n",
    "    - 일치하는 패턴이 없어도 iterator객체는 반환되는데 next()시 StopIteration Exception발생한다."
   ]
  },
  {
   "cell_type": "code",
   "execution_count": 22,
   "metadata": {},
   "outputs": [
    {
     "name": "stdout",
     "output_type": "stream",
     "text": [
      "['400', '6000', '3000', '10', '5', '53']\n",
      "['400', '6000', '3000', '10', '5', '53']\n"
     ]
    }
   ],
   "source": [
    "txt = \"물건들의 가격은 각각 400원, 6000원, 3000원입니다. 재고는 각각 10, 5, 53개 있습니다.\"\n",
    "\n",
    "## 함수형 - 처리함수를 호출하면서 패턴과 대상 문자열을 전달.\n",
    "result = re.findall(r\"\\d+\", txt)\n",
    "print(result)\n",
    "\n",
    "## 객체지향형\n",
    "p = re.compile(r\"\\d+\")\n",
    "result2 = p.findall(txt)\n",
    "print(result2)"
   ]
  },
  {
   "cell_type": "code",
   "execution_count": 26,
   "metadata": {
    "collapsed": true,
    "jupyter": {
     "outputs_hidden": true
    }
   },
   "outputs": [
    {
     "name": "stdout",
     "output_type": "stream",
     "text": [
      "<class 'callable_iterator'>\n",
      "(12, 15) 400\n",
      "(18, 22) 6000\n",
      "(25, 29) 3000\n",
      "(42, 44) 10\n",
      "(46, 47) 5\n",
      "(49, 51) 53\n"
     ]
    }
   ],
   "source": [
    "result = re.finditer(r'\\d+', txt)\n",
    "print(type(result))\n",
    "for r in result:\n",
    "    print(r.span(), r.group())"
   ]
  },
  {
   "cell_type": "code",
   "execution_count": 28,
   "metadata": {},
   "outputs": [
    {
     "name": "stdout",
     "output_type": "stream",
     "text": [
      "['400', '6000', '3000', '10', '5', '53']\n",
      "[<re.Match object; span=(12, 15), match='400'>, <re.Match object; span=(18, 22), match='6000'>, <re.Match object; span=(25, 29), match='3000'>, <re.Match object; span=(42, 44), match='10'>, <re.Match object; span=(46, 47), match='5'>, <re.Match object; span=(49, 51), match='53'>]\n"
     ]
    }
   ],
   "source": [
    "result1 = p.findall(txt)\n",
    "result2 = p.finditer(txt)\n",
    "print(result1)\n",
    "print(list(result2))"
   ]
  },
  {
   "cell_type": "code",
   "execution_count": null,
   "metadata": {},
   "outputs": [],
   "source": []
  },
  {
   "cell_type": "markdown",
   "metadata": {
    "slideshow": {
     "slide_type": "subslide"
    }
   },
   "source": [
    "# TODO\n",
    "- info 변수는 한줄에 한사람의 data가 있고 구성은 **`이름 이메일주소 주민번호`** 순서로 되어있다."
   ]
  },
  {
   "cell_type": "code",
   "execution_count": 94,
   "metadata": {
    "ExecuteTime": {
     "end_time": "2020-05-17T13:22:23.684099Z",
     "start_time": "2020-05-17T13:22:23.679112Z"
    },
    "slideshow": {
     "slide_type": "skip"
    }
   },
   "outputs": [],
   "source": [
    "info ='''김정수 kjs@gmail.com 801033-1010221\n",
    "박영수 pys.abc@gmail.com 700121-1120212\n",
    "이민영 lmy-abc@naver.com 820301-2020122\n",
    "김순희 ksh@daum.net 781223-2012212\n",
    "오주연 ojy@daum.net 900522-1023218\n",
    "'''"
   ]
  },
  {
   "cell_type": "code",
   "execution_count": 98,
   "metadata": {},
   "outputs": [
    {
     "data": {
      "text/plain": [
       "['kjs@gmail.com',\n",
       " '박영@수',\n",
       " 'abc@gmail.com',\n",
       " 'abc@naver.com',\n",
       " 'ksh@daum.net',\n",
       " 'ojy@daum.net']"
      ]
     },
     "execution_count": 98,
     "metadata": {},
     "output_type": "execute_result"
    }
   ],
   "source": [
    "re.findall(r\"\\b\\w+@[\\w\\.]+\\b\", info)"
   ]
  },
  {
   "cell_type": "code",
   "execution_count": 32,
   "metadata": {
    "slideshow": {
     "slide_type": "skip"
    }
   },
   "outputs": [
    {
     "data": {
      "text/plain": [
       "['kjs@gmail.com',\n",
       " 'pys.abc@gmail.com',\n",
       " 'lmy-abc@naver.com',\n",
       " 'ksh@daum.net',\n",
       " 'ojy@daum.net']"
      ]
     },
     "execution_count": 32,
     "metadata": {},
     "output_type": "execute_result"
    }
   ],
   "source": [
    "# Email 주소만 추출 해서 출력\n",
    "email_pattern = r\"[a-z0-9!#$%&'*+/=?^_`{|}~-]+(?:\\.[a-z0-9!#$%&'*+/=?^_`{|}~-]+)*@(?:[a-z0-9](?:[a-z0-9-]*[a-z0-9])?\\.)+[a-z0-9](?:[a-z0-9-]*[a-z0-9])?\"\n",
    "email_list = re.findall(email_pattern, info)\n",
    "email_list"
   ]
  },
  {
   "cell_type": "code",
   "execution_count": 39,
   "metadata": {
    "slideshow": {
     "slide_type": "skip"
    }
   },
   "outputs": [
    {
     "name": "stdout",
     "output_type": "stream",
     "text": [
      "['700121-1120212', '820301-2020122', '781223-2012212', '900522-1023218']\n"
     ]
    }
   ],
   "source": [
    "# 주민번호들만 조회해서 출력\n",
    "jumin_pattern = r\"\\d{6}-?\\d{7}\"\n",
    "jumin_pattern = r\"\\d{2}(?:0[1-9]|1[0-2])(?:0[1-9]|[12][0-9]|3[01])-[1234]\\d{6}\"       \n",
    "# \\d{2}: 년도 숫자 두자리.\n",
    "# 01 ~ 09, 10, 11, 12 -  (?:0[1-9]|1[0-2])   괄호로 단순히 묶기.  0[1-9]:01~09    |  or ==> 월\n",
    "# 01 ~ 09, 10~19, 20~ 29, 30, 31\n",
    "## 0[1-9]  or  [12][0-9] or 3[01]\n",
    "jumin_list = re.findall(jumin_pattern, info)\n",
    "print(jumin_list)"
   ]
  },
  {
   "cell_type": "markdown",
   "metadata": {
    "slideshow": {
     "slide_type": "slide"
    }
   },
   "source": [
    "## 문자열 변경\n",
    "- sub(): 변경된 문자열 반환\n",
    "- subn(): 변경된 문자열, 변경개수 반환"
   ]
  },
  {
   "cell_type": "markdown",
   "metadata": {
    "slideshow": {
     "slide_type": "subslide"
    }
   },
   "source": [
    "### sub(바꿀문자열, 대상문자열 [, count=양수])\n",
    "- 대상문자열에서 패턴과 일치하는 것을 바꿀문자열로 변경한다.\n",
    "- count: 변경할 개수를 지정. 기본: 매칭되는 문자열은 다 변경\n",
    "- 반환값: 변경된 문자열\n",
    "\n",
    "### subn(바꿀문자열, 대상문자열 [, count=양수])\n",
    "- sub()와 동일한 역할.\n",
    "- 반환값 : (변경된 문자열, 변경된문자열개수) 를 tuple로 반환"
   ]
  },
  {
   "cell_type": "code",
   "execution_count": null,
   "metadata": {},
   "outputs": [],
   "source": [
    "#=> 리스트안에 원소들을 하나의 문자열로 합치기\n",
    "\"-\".join([\"a\", \"b\", \"c\"])"
   ]
  },
  {
   "cell_type": "code",
   "execution_count": 48,
   "metadata": {},
   "outputs": [
    {
     "data": {
      "text/plain": [
       "'오늘은 목요일 입니다.'"
      ]
     },
     "execution_count": 48,
     "metadata": {},
     "output_type": "execute_result"
    }
   ],
   "source": [
    "txt = \"    오늘은       목요일     입니다.   \"\n",
    "print(txt.strip())\n",
    "print(txt.lstrip())\n",
    "print(txt.rstrip())\n",
    "\" \".join(txt.split())"
   ]
  },
  {
   "cell_type": "code",
   "execution_count": 54,
   "metadata": {},
   "outputs": [
    {
     "name": "stdout",
     "output_type": "stream",
     "text": [
      "오늘은 목요일 입니다.\n",
      "('오늘은 목요일 입니다.', 2)\n"
     ]
    }
   ],
   "source": [
    "p = re.compile(\"\\s+\")  #\\s: 공백문자 - \" \", \"\\t\", \"\\n\", +: 1개이상.\n",
    "result1 = p.sub(\" \", txt.strip())\n",
    "print(result1)\n",
    "result2 = p.subn(\" \", txt.strip())\n",
    "print(result2)"
   ]
  },
  {
   "cell_type": "code",
   "execution_count": 56,
   "metadata": {},
   "outputs": [
    {
     "data": {
      "text/plain": [
       "'오늘은 목요일 입니다.'"
      ]
     },
     "execution_count": 56,
     "metadata": {},
     "output_type": "execute_result"
    }
   ],
   "source": [
    "re.sub(r\"\\s+\", \" \", txt.strip())"
   ]
  },
  {
   "cell_type": "code",
   "execution_count": 61,
   "metadata": {},
   "outputs": [
    {
     "name": "stdout",
     "output_type": "stream",
     "text": [
      "김정수 kjs@gmail.com 801033-1010221\n",
      "박영수 pys.abc@gmail.com 700121-1120212\n",
      "이민영 lmy-abc@naver.com 820301-2020122\n",
      "김순희 ksh@daum.net 781223-2012212\n",
      "오주연 ojy@daum.net 900522-1023218\n",
      "\n",
      "김정수 kjs@gmail.com 801033-1010221\n",
      "박영수 pys.abc@gmail.com ******-*******\n",
      "이민영 lmy-abc@naver.com ******-*******\n",
      "김순희 ksh@daum.net ******-*******\n",
      "오주연 ojy@daum.net ******-*******\n",
      "\n"
     ]
    }
   ],
   "source": [
    "print(info)\n",
    "# r = re.sub(jumin_pattern, \"\", info)\n",
    "r = re.sub(jumin_pattern, \"******-*******\", info)\n",
    "print(r)"
   ]
  },
  {
   "cell_type": "markdown",
   "metadata": {
    "slideshow": {
     "slide_type": "slide"
    }
   },
   "source": [
    "# 패턴내 하위패턴 만들기 (Grouping)\n",
    "-  여러 속성값들 구성된 패턴에서 각 속성의 패턴을 묶어서 하위 그룹(하위 패턴)으로 정의한다.\n",
    "- 예를 들어 날짜의 경우 년도/월/일 형식을 가진다. 여기에서 년도, 월, 일 의 패턴을 전체 날짜의 하위 패턴으로 묶어준다.\n",
    "- 구문: 하위 패턴을 소괄호로 묶어준다.\n",
    "    - `(\\d{4})/([01]\\d)/([0123]\\d)`  \n",
    "    - (년도)/(월)/(일)"
   ]
  },
  {
   "cell_type": "markdown",
   "metadata": {
    "ExecuteTime": {
     "end_time": "2019-05-16T00:56:13.966065Z",
     "start_time": "2019-05-16T00:56:13.960644Z"
    },
    "slideshow": {
     "slide_type": "subslide"
    }
   },
   "source": [
    "## 그룹핑 예\n",
    "\n",
    "### 전체 패턴 내에서 일부 패턴을 조회"
   ]
  },
  {
   "cell_type": "code",
   "execution_count": 66,
   "metadata": {},
   "outputs": [
    {
     "name": "stdout",
     "output_type": "stream",
     "text": [
      "<re.Match object; span=(5, 18), match='010-1122-2121'>\n",
      "찾은 전체 문자열: 010-1122-2121 010-1122-2121\n",
      "1번 하위 그룹-지역/통신사번호: 010\n",
      "2번 - 국번: 1122\n",
      "3번 - 번호: 2121\n"
     ]
    }
   ],
   "source": [
    "import re\n",
    "tel = \"Tel: 010-1122-2121\"  # 전화번호:  통신사/지역번호 - 국번 - 번호\n",
    "pattern = r\"(\\d{2,3})-(\\d{3,4})-(\\d{4})\"\n",
    "#    (1번하위그룹) - (2번하위그룹) - (3번하위그룹)\n",
    "p = re.compile(pattern)\n",
    "result = p.search(tel)  # 전체 패턴을 이용해서 찾는다.\n",
    "if result:\n",
    "    print(result)\n",
    "    print(\"찾은 전체 문자열:\", result.group(), result.group(0))\n",
    "    print(\"1번 하위 그룹-지역/통신사번호:\", result.group(1))\n",
    "    print(\"2번 - 국번:\", result.group(2))\n",
    "    print(\"3번 - 번호:\", result.group(3))\n",
    "else:\n",
    "    print(\"없음\")"
   ]
  },
  {
   "cell_type": "code",
   "execution_count": 67,
   "metadata": {},
   "outputs": [
    {
     "name": "stdout",
     "output_type": "stream",
     "text": [
      "<re.Match object; span=(5, 18), match='010-1122-2121'>\n",
      "찾은 전체 문자열: 010-1122-2121 010-1122-2121\n",
      "1번 하위 그룹-지역/통신사번호: 010\n",
      "2번 - 국번: 1122-2121\n",
      "3번 - 번호: 1122\n",
      "3번 - 번호: 2121\n"
     ]
    }
   ],
   "source": [
    "tel = \"Tel: 010-1122-2121\" \n",
    "pattern = r\"(\\d{2,3})-((\\d{3,4})-(\\d{4}))\"\n",
    "#    (1번하위그룹) - (2번하위 (3번하위그룹) - (4번하위그룹))\n",
    "p = re.compile(pattern)\n",
    "result = p.search(tel) \n",
    "if result:\n",
    "    print(result)\n",
    "    print(\"찾은 전체 문자열:\", result.group(), result.group(0))\n",
    "    print(\"1번 하위 그룹-지역/통신사번호:\", result.group(1))\n",
    "    print(\"2번 - 국번+번호:\", result.group(2))\n",
    "    print(\"3번 - 국번:\", result.group(3))\n",
    "    print(\"3번 - 번호:\", result.group(4))\n",
    "else:\n",
    "    print(\"없음\")"
   ]
  },
  {
   "cell_type": "code",
   "execution_count": 74,
   "metadata": {},
   "outputs": [],
   "source": [
    "emails = \"abc@naver.com aaaa@daum.net sdkdkd@gmail.com\"\n",
    "# email주소:   계정@도메인주소  (계정패턴)@(도메인주소패턴)\n",
    "p = re.compile(r\"(\\w+)@(\\w+\\.\\w{2,4})\")\n",
    "e_list1 = p.findall(emails)\n",
    "e_list2 = p.finditer(emails)"
   ]
  },
  {
   "cell_type": "code",
   "execution_count": 72,
   "metadata": {},
   "outputs": [
    {
     "data": {
      "text/plain": [
       "[('abc', '@', 'naver.com'),\n",
       " ('aaaa', '@', 'daum.net'),\n",
       " ('sdkdkd', '@', 'gmail.com')]"
      ]
     },
     "execution_count": 72,
     "metadata": {},
     "output_type": "execute_result"
    }
   ],
   "source": [
    "e_list1\n",
    "# findall()    subgroup의 문자열들을 튜플로 모아준다."
   ]
  },
  {
   "cell_type": "code",
   "execution_count": 73,
   "metadata": {},
   "outputs": [
    {
     "name": "stdout",
     "output_type": "stream",
     "text": [
      "abc@naver.com\n",
      "계정: abc\n",
      "도메인: @\n",
      "==================================================\n",
      "aaaa@daum.net\n",
      "계정: aaaa\n",
      "도메인: @\n",
      "==================================================\n",
      "sdkdkd@gmail.com\n",
      "계정: sdkdkd\n",
      "도메인: @\n",
      "==================================================\n"
     ]
    }
   ],
   "source": [
    "for email in e_list2:\n",
    "    print(email.group())\n",
    "    print(\"계정:\", email.group(1))\n",
    "    print(\"도메인:\", email.group(2))\n",
    "    print(\"=\"*50)"
   ]
  },
  {
   "cell_type": "code",
   "execution_count": null,
   "metadata": {
    "slideshow": {
     "slide_type": "fragment"
    }
   },
   "outputs": [],
   "source": []
  },
  {
   "cell_type": "markdown",
   "metadata": {
    "slideshow": {
     "slide_type": "subslide"
    }
   },
   "source": [
    "### 패턴 내에서 하위그룹 참조\n",
    "- `\\번호`\n",
    "- 지정한 '번호' 번째 패턴으로 매칭된 문자열과 같은 문자열을 의미"
   ]
  },
  {
   "cell_type": "code",
   "execution_count": 79,
   "metadata": {},
   "outputs": [
    {
     "name": "stdout",
     "output_type": "stream",
     "text": [
      "010-3232-3232 3232\n",
      "010-5555-5555 5555\n"
     ]
    }
   ],
   "source": [
    "tels = \"\"\"010-2222-3232\n",
    "010-3232-3232\n",
    "010-5555-5555\n",
    "010-4333-1212\n",
    "\"\"\"\n",
    "# 국번과 번호가 같은 값인 전화번호를 찾기\n",
    "pattern = r\"\\d{2,3}-(\\d{4})-\\1\"\n",
    "#  번호-(1번하위그룹)-1번하위그룹의 문자열과 같은 문자열\n",
    "## \\번호 => 번호의 하위그룹과 같은 문자열\n",
    "result = re.finditer(pattern, tels)\n",
    "for tel in result:\n",
    "    print(tel.group(), tel.group(1))     #, tel.group(2))"
   ]
  },
  {
   "cell_type": "markdown",
   "metadata": {
    "slideshow": {
     "slide_type": "slide"
    }
   },
   "source": [
    "### 패턴내의 특정 부분만 변경"
   ]
  },
  {
   "cell_type": "code",
   "execution_count": 82,
   "metadata": {},
   "outputs": [
    {
     "name": "stdout",
     "output_type": "stream",
     "text": [
      "김정수 kjs@gmail.com 801033-1######\n",
      "박영수 pys.abc@gmail.com 700121-1######\n",
      "이민영 lmy-abc@naver.com 820301-2######\n",
      "김순희 ksh@daum.net 781223-2######\n",
      "오주연 ojy@daum.net 900522-1######\n",
      "\n"
     ]
    }
   ],
   "source": [
    "info ='''김정수 kjs@gmail.com 801033-1010221\n",
    "박영수 pys.abc@gmail.com 700121-1120212\n",
    "이민영 lmy-abc@naver.com 820301-2020122\n",
    "김순희 ksh@daum.net 781223-2012212\n",
    "오주연 ojy@daum.net 900522-1023218\n",
    "'''\n",
    "# 주민번호에서 뒤에 6글자를 감추기. (패턴으로 찾은 대상의 일부만 변경.)\n",
    "pattern = r\"(\\d{6}-[1234])\\d{6}\"  # 변경하지 않을 부분을 subgroup화.\n",
    "result = re.sub(pattern, \"\\g<1>######\", info)  \n",
    "#  \\g<1>  1번 subgroup의 내용을 그대로 나오게 사용. ==> 찾은 문자열의 일부를 변경시 사용.\n",
    "print(result)"
   ]
  },
  {
   "cell_type": "code",
   "execution_count": 87,
   "metadata": {},
   "outputs": [
    {
     "name": "stdout",
     "output_type": "stream",
     "text": [
      "김정수 ####@gmail.com 801033-1010221\n",
      "박영수 ####@gmail.com 700121-1120212\n",
      "이민영 ####@naver.com 820301-2020122\n",
      "김순희 ####@daum.net 781223-2012212\n",
      "오주연 ####@daum.net 900522-1023218\n",
      "\n"
     ]
    }
   ],
   "source": [
    "# info에서 이메일에서 계정을 #### 감추기.\n",
    "p = re.compile(r\"([\\w\\.-]+)@(\\w+\\.\\w{2,4})\")  # (g1)@(g2)\n",
    "result = p.sub(\"####@\\g<2>\", info)\n",
    "print(result)"
   ]
  },
  {
   "cell_type": "code",
   "execution_count": null,
   "metadata": {
    "slideshow": {
     "slide_type": "fragment"
    }
   },
   "outputs": [],
   "source": []
  },
  {
   "cell_type": "markdown",
   "metadata": {
    "slideshow": {
     "slide_type": "fragment"
    }
   },
   "source": [
    "### sub group으로 묶인 것 참조(조회)\n",
    "- **패턴 안에서 참조**\n",
    "    - `\\번호` , `r'(\\d{3}) \\1'` => 중복되는 것을 패턴으로 표현할 때.\n",
    "- **match 조회**\n",
    "    - match객체.group(번호)\n",
    "- **sub() 함수에서 대체 문자로 참조**\n",
    "    - `\\g<번호>`"
   ]
  },
  {
   "cell_type": "markdown",
   "metadata": {
    "slideshow": {
     "slide_type": "slide"
    }
   },
   "source": [
    "# Greedy 와 Non-Greedy\n",
    "- **Greedy(탐욕스러운-최대일치)** 의미\n",
    "    - 주어진 패턴에 만족하는 문자열을 최대한 넓게(길게) 잡아 찾는다.\n",
    "    - 매칭시 기본 방식\n",
    "- **Non-Greedy(최소일치)**\n",
    "    - 주어진 패턴에 만족하는 문자열을 최초의 일치하는 위치까지 찾는다\n",
    "    - 개수를 나타내는 메타문자(수량자)에 **`?`** 붙인다.\n",
    "    - `*?`, `+?`, `{m,n}?`"
   ]
  },
  {
   "cell_type": "code",
   "execution_count": 90,
   "metadata": {},
   "outputs": [
    {
     "data": {
      "text/plain": [
       "['<div>', '<b>', '</b>', '</div>']"
      ]
     },
     "execution_count": 90,
     "metadata": {},
     "output_type": "execute_result"
    }
   ],
   "source": [
    "content = \"<div>파이썬<b>정규표현식</b></div>입니다.\"\n",
    "\n",
    "# 태그들을 조회 <div><b></b></div>\n",
    "# result = re.findall(r\"<.+>\", content)\n",
    "result = re.findall(r\"<.+?>\", content)\n",
    "result"
   ]
  },
  {
   "cell_type": "code",
   "execution_count": null,
   "metadata": {},
   "outputs": [],
   "source": []
  },
  {
   "cell_type": "code",
   "execution_count": null,
   "metadata": {
    "slideshow": {
     "slide_type": "fragment"
    }
   },
   "outputs": [],
   "source": []
  },
  {
   "cell_type": "code",
   "execution_count": null,
   "metadata": {
    "slideshow": {
     "slide_type": "fragment"
    }
   },
   "outputs": [],
   "source": []
  }
 ],
 "metadata": {
  "kernelspec": {
   "display_name": "Python 3 (ipykernel)",
   "language": "python",
   "name": "python3"
  },
  "language_info": {
   "codemirror_mode": {
    "name": "ipython",
    "version": 3
   },
   "file_extension": ".py",
   "mimetype": "text/x-python",
   "name": "python",
   "nbconvert_exporter": "python",
   "pygments_lexer": "ipython3",
   "version": "3.11.8"
  },
  "toc": {
   "base_numbering": 1,
   "nav_menu": {},
   "number_sections": false,
   "sideBar": false,
   "skip_h1_title": false,
   "title_cell": "Table of Contents",
   "title_sidebar": "Contents",
   "toc_cell": false,
   "toc_position": {
    "height": "606.319px",
    "left": "10px",
    "top": "150px",
    "width": "336.889px"
   },
   "toc_section_display": false,
   "toc_window_display": false
  },
  "varInspector": {
   "cols": {
    "lenName": 16,
    "lenType": 16,
    "lenVar": 40
   },
   "kernels_config": {
    "python": {
     "delete_cmd_postfix": "",
     "delete_cmd_prefix": "del ",
     "library": "var_list.py",
     "varRefreshCmd": "print(var_dic_list())"
    },
    "r": {
     "delete_cmd_postfix": ") ",
     "delete_cmd_prefix": "rm(",
     "library": "var_list.r",
     "varRefreshCmd": "cat(var_dic_list()) "
    }
   },
   "types_to_exclude": [
    "module",
    "function",
    "builtin_function_or_method",
    "instance",
    "_Feature"
   ],
   "window_display": false
  }
 },
 "nbformat": 4,
 "nbformat_minor": 4
}
