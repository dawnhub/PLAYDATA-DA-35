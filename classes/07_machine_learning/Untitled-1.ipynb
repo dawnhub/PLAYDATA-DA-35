{
 "cells": [
  {
   "cell_type": "code",
   "execution_count": 50,
   "metadata": {},
   "outputs": [
    {
     "name": "stdout",
     "output_type": "stream",
     "text": [
      "[212, 3, 3]\n",
      "3\n"
     ]
    }
   ],
   "source": [
    "\n",
    "N = input()\n",
    "M = int(input())\n",
    "K = []\n",
    "if M:\n",
    "    K = list(map(int,input().split()))\n",
    "\n",
    "buttons = [ x for x in range(11) if x not in K]\n",
    "\n",
    "def to_channel(target, buttons, up_near=True):\n",
    "    \n",
    "\n",
    "\n",
    "\n",
    "\n",
    "\n",
    "\n",
    "\n",
    "\n",
    "\n",
    "\n",
    "\n",
    "\n"
   ]
  },
  {
   "cell_type": "code",
   "execution_count": null,
   "metadata": {},
   "outputs": [],
   "source": [
    "\n",
    "#print(N, M, K, buttons)\n",
    "\n",
    "reverse_N = N[::-1]\n",
    "now = 100\n",
    "counts = []\n",
    "digits = len(N)\n",
    "target = int(N)\n",
    "\n",
    "#print(digits)\n",
    "#print(target)\n",
    "\n",
    "def find_uplow(target, buttons):\n",
    "    upper = -1\n",
    "    lower = -1\n",
    "    for x in range(10):\n",
    "        lower, upper  = target-x, target+x\n",
    "        if lower not in buttons:\n",
    "            lower = -1\n",
    "        if upper not in buttons:\n",
    "            upper = -1\n",
    "        if lower > 0 or upper > 0:\n",
    "            return lower, upper\n",
    "\n",
    "counts.append(abs(now-target))\n",
    "\n",
    "if len(buttons) == 0:\n",
    "    counts.append(abs(target-now)+digits) #\n",
    "if len(buttons) == 1:\n",
    "    now = sum([buttons[0]*(10**n) for n in range(digits)])\n",
    "    counts.append(abs(target-now)+digits)\n",
    "\n",
    "same_flag = True\n",
    "max_b = max(buttons)\n",
    "min_b = min(buttons)\n",
    "lower_digits = [ -1 for _ in range(digits)]\n",
    "upper_digits = [ -1 for _ in range(digits)]\n",
    "for n in range(digits):\n",
    "    target_num = int(N[n])\n",
    "    if same_flag:\n",
    "        if target_num in buttons:\n",
    "            lower_digits[n] = target_num\n",
    "            upper_digits[n] = target_num\n",
    "        else:\n",
    "            temp_low, temp_up = find_uplow(target_num, buttons)\n",
    "            lower_digits[n]= temp_low\n",
    "            upper_digits[n] = temp_up\n",
    "            same_flag = False\n",
    "    else:\n",
    "        lower_digits[n] = max_b\n",
    "        upper_digits[n] = min_b\n",
    "\n",
    "# print(lower_digits)\n",
    "# print(upper_digits)\n",
    "\n",
    "lower_num = 0\n",
    "upper_num = 0\n",
    "\n",
    "for n in range(digits):\n",
    "    lower_num += lower_digits[n]*(10**(digits-n-1))\n",
    "    upper_num += upper_digits[n]*(10**(digits-n-1))\n",
    "\n",
    "if -1 not in lower_digits:\n",
    "    ld = len(str(lower_num))\n",
    "    counts.append(target-lower_num+ld)\n",
    "if -1 not in upper_digits:\n",
    "    counts.append(upper_num-target+digits)\n",
    "\n",
    "#print(counts)\n",
    "print(min(counts))"
   ]
  },
  {
   "cell_type": "code",
   "execution_count": 89,
   "metadata": {},
   "outputs": [],
   "source": [
    "N = input()\n",
    "M = int(input())\n",
    "K = []\n",
    "if M:\n",
    "    K = list(map(int,input().split()))\n"
   ]
  },
  {
   "cell_type": "code",
   "execution_count": 90,
   "metadata": {},
   "outputs": [],
   "source": [
    "\n",
    "buttons = [ x for x in range(10) if x not in K]\n"
   ]
  },
  {
   "cell_type": "code",
   "execution_count": 91,
   "metadata": {},
   "outputs": [
    {
     "name": "stdout",
     "output_type": "stream",
     "text": [
      "[1, 5]\n"
     ]
    }
   ],
   "source": [
    "print(buttons)"
   ]
  },
  {
   "cell_type": "code",
   "execution_count": 92,
   "metadata": {},
   "outputs": [],
   "source": [
    "\n",
    "now = 100\n",
    "counts = []\n",
    "digits = len(N)\n",
    "target = int(N)\n"
   ]
  },
  {
   "cell_type": "code",
   "execution_count": 97,
   "metadata": {},
   "outputs": [],
   "source": [
    "\n",
    "def find_uplow(target, buttons):\n",
    "    upper = -1\n",
    "    lower = -1\n",
    "    for x in range(10):\n",
    "        lower, upper  = target-x, target+x\n",
    "        if lower not in buttons:\n",
    "            lower = -1\n",
    "        if upper not in buttons:\n",
    "            upper = -1\n",
    "        if lower > 0 or upper > 0:\n",
    "            return lower, upper\n",
    "    return lower, upper\n"
   ]
  },
  {
   "cell_type": "code",
   "execution_count": 98,
   "metadata": {},
   "outputs": [],
   "source": [
    "\n",
    "counts.append(abs(now-target))\n",
    "\n",
    "if len(buttons) == 0:\n",
    "    counts.append(abs(target-now)+digits) #\n",
    "if len(buttons) == 1:\n",
    "    now = sum([buttons[0]*(10**n) for n in range(digits)])\n",
    "    counts.append(abs(target-now)+digits)\n",
    "\n",
    "same_flag = True\n",
    "max_b = max(buttons)\n",
    "min_b = min(buttons)\n",
    "lower_digits = [ -1 for _ in range(digits)]\n",
    "upper_digits = [ -1 for _ in range(digits)]\n",
    "for n in range(digits):\n",
    "    target_num = int(N[n])\n",
    "    if same_flag:\n",
    "        if target_num in buttons:\n",
    "            lower_digits[n] = target_num\n",
    "            upper_digits[n] = target_num\n",
    "        else:\n",
    "            temp_low, temp_up = find_uplow(target_num, buttons)\n",
    "            lower_digits[n]= temp_low\n",
    "            upper_digits[n] = temp_up\n",
    "            same_flag = False\n",
    "    else:\n",
    "        lower_digits[n] = max_b\n",
    "        upper_digits[n] = min_b\n",
    "\n",
    "lower_num = 0\n",
    "upper_num = 0\n"
   ]
  },
  {
   "cell_type": "code",
   "execution_count": 99,
   "metadata": {},
   "outputs": [],
   "source": [
    "\n",
    "for n in range(digits):\n",
    "    lower_num += lower_digits[n]*(10**(digits-n-1))\n",
    "    upper_num += upper_digits[n]*(10**(digits-n-1))\n"
   ]
  },
  {
   "cell_type": "code",
   "execution_count": 100,
   "metadata": {},
   "outputs": [],
   "source": [
    "\n",
    "if -1 not in lower_digits:\n",
    "    ld = len(str(lower_num))\n",
    "    counts.append(target-lower_num+ld)\n",
    "if -1 not in upper_digits:\n",
    "    counts.append(upper_num-target+digits)\n",
    "    \n"
   ]
  },
  {
   "cell_type": "code",
   "execution_count": 101,
   "metadata": {},
   "outputs": [
    {
     "name": "stdout",
     "output_type": "stream",
     "text": [
      "[5, -1, 5, 5, 5, 5]\n",
      "[5, 1, 1, 1, 1, 1]\n"
     ]
    }
   ],
   "source": [
    "print(lower_digits)\n",
    "print(upper_digits)"
   ]
  },
  {
   "cell_type": "code",
   "execution_count": 102,
   "metadata": {},
   "outputs": [
    {
     "name": "stdout",
     "output_type": "stream",
     "text": [
      "11117\n"
     ]
    }
   ],
   "source": [
    "print(min(counts))"
   ]
  },
  {
   "cell_type": "code",
   "execution_count": 103,
   "metadata": {},
   "outputs": [
    {
     "data": {
      "text/plain": [
       "11050"
      ]
     },
     "execution_count": 103,
     "metadata": {},
     "output_type": "execute_result"
    }
   ],
   "source": [
    "99933-88888+5"
   ]
  },
  {
   "cell_type": "code",
   "execution_count": null,
   "metadata": {},
   "outputs": [],
   "source": []
  }
 ],
 "metadata": {
  "kernelspec": {
   "display_name": "Python 3",
   "language": "python",
   "name": "python3"
  },
  "language_info": {
   "codemirror_mode": {
    "name": "ipython",
    "version": 3
   },
   "file_extension": ".py",
   "mimetype": "text/x-python",
   "name": "python",
   "nbconvert_exporter": "python",
   "pygments_lexer": "ipython3",
   "version": "3.11.8"
  }
 },
 "nbformat": 4,
 "nbformat_minor": 2
}
