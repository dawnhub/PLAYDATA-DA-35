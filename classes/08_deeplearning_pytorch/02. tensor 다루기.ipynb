{
 "cells": [
  {
   "cell_type": "markdown",
   "id": "84c0614b",
   "metadata": {},
   "source": [
    "# Tensor 생성\n",
    "- 파이토치에서 데이터를 저장하는 자료구조\n",
    "- ndarray와 성격, 사용법이 유사하다."
   ]
  },
  {
   "cell_type": "markdown",
   "id": "06d118ec",
   "metadata": {},
   "source": [
    "##  원하는 형태(shape) 텐서 생성\n",
    "- **torch.tensor(자료구조 \\[, dtype\\])**\n",
    "    - 지정한 dtype(Data type)에 맞는 Tensor객체를 생성해서 반환한다.\n",
    "      \n",
    "## 특정 타입의 Tensor를 직접 생성\n",
    "- torch.tensor()로 생성하면서 dtype을 지정하면 아래 타입의 Tensor객체가 생성된다.\n",
    "- 원하는 Type의 Tensor클래스를 이용해 직접 생성해도 된다.\n",
    "- **torch.FloatTensor(자료구조)**\n",
    "    - float32 타입 텐서 생성\n",
    "- **torch.LongTensor(자료구조)** \n",
    "    - int64 타입 텐서생성\n",
    "- 그외\n",
    "    - BoolTensor(bool), CharTensor(int8), ShortTensor(int16), IntTensor(int32), DoubleTensor(float64)\n",
    "    \n",
    "## tensor 상태 조회\n",
    "- **tensor.shape, tensor.size(\\[축번호\\])**\n",
    "    -  tensor의 shape조회\n",
    "- **tensor.dtype, tensor.type()**\n",
    "    - tensor 원소들의 데이터타입 조회\n",
    "    - dtype은 **data type**을 type()은 tensor **객체의 클래스 타입**을 반환한다.\n",
    "- **tensor.ndim, tensor.dim()**  : tensor 차원\n",
    "- **tensor.numel()**: 전체 원소 개수\n",
    "\n"
   ]
  },
  {
   "cell_type": "code",
   "execution_count": 1,
   "id": "8f81163c",
   "metadata": {},
   "outputs": [],
   "source": [
    "import torch"
   ]
  },
  {
   "cell_type": "code",
   "execution_count": 5,
   "id": "1a471610-e0d4-477c-bbe7-03f8a8d7202c",
   "metadata": {},
   "outputs": [
    {
     "data": {
      "text/plain": [
       "(torch.int8, torch.int16, torch.int32, torch.int64)"
      ]
     },
     "execution_count": 5,
     "metadata": {},
     "output_type": "execute_result"
    }
   ],
   "source": [
    "torch.float16, torch.float32, torch.float64\n",
    "torch.int8, torch.int16, torch.int32, torch.int64"
   ]
  },
  {
   "cell_type": "code",
   "execution_count": 14,
   "id": "370e0dcd",
   "metadata": {},
   "outputs": [
    {
     "name": "stdout",
     "output_type": "stream",
     "text": [
      "shape: torch.Size([2, 2]) torch.Size([2, 2])\n",
      "0축 크기: 2 2\n",
      "type: torch.FloatTensor torch.float32\n",
      "차원크기: 2 2\n",
      "원소개수: 4\n",
      "device: cpu\n"
     ]
    }
   ],
   "source": [
    "a = torch.tensor([[1,2],[3,4]], dtype=torch.float32)\n",
    "print(\"shape:\", a.shape, a.size())\n",
    "print(\"0축 크기:\", a.shape[0], a.size(0))\n",
    "# print(\"축별 크기:\", a.shape[0], a.size(0))\n",
    "print(\"type:\", a.type(), a.dtype)\n",
    "print('차원크기:', a.dim(), a.ndim)\n",
    "print('원소개수:', a.numel())\n",
    "print(\"device:\", a.device)  # tensor를 다루는 processor(메모리위치) - cpu, cuda(gpu)"
   ]
  },
  {
   "cell_type": "code",
   "execution_count": 17,
   "id": "27f077a1",
   "metadata": {},
   "outputs": [
    {
     "data": {
      "text/plain": [
       "'torch.LongTensor'"
      ]
     },
     "execution_count": 17,
     "metadata": {},
     "output_type": "execute_result"
    }
   ],
   "source": [
    "aa = torch.tensor(range(10))\n",
    "aa.dtype\n",
    "aa.type()"
   ]
  },
  {
   "cell_type": "code",
   "execution_count": 18,
   "id": "e40a7f96",
   "metadata": {},
   "outputs": [
    {
     "name": "stdout",
     "output_type": "stream",
     "text": [
      "torch.float32\n",
      "torch.int32\n",
      "torch.float64\n",
      "torch.int64\n"
     ]
    }
   ],
   "source": [
    "#Float, Double(32, 64bit 실수)/Int, Long(32, 64 bit 정수) type Tensor\n",
    "b = torch.FloatTensor([1,3,7])  #float32\n",
    "print(b.dtype)\n",
    "c = torch.IntTensor([10,20,30]) # int64\n",
    "print(c.dtype)\n",
    "d = torch.DoubleTensor([1, 2, 3])\n",
    "print(d.dtype)\n",
    "e = torch.LongTensor([10, 20, 30, 40])\n",
    "print(e.dtype)"
   ]
  },
  {
   "cell_type": "markdown",
   "id": "b57bc602",
   "metadata": {},
   "source": [
    "## 특정(동일한) 값으로 구성된 Tensor 생성\n",
    "- **torch.zeros(\\*size), zeros_like(텐서)**: 0으로 구성된 tensor 생성\n",
    "- **torch.ones(\\*size), ones_like(텐서)**: 1로 구성된 tensor생성\n",
    "- **torch.full(\\*size, fill_value), full_like(텐서, fill_value)**: 지정한 값으로 구성된 tensor생성\n",
    "    "
   ]
  },
  {
   "cell_type": "code",
   "execution_count": 21,
   "id": "801e4ffc",
   "metadata": {
    "scrolled": true
   },
   "outputs": [
    {
     "data": {
      "text/plain": [
       "tensor([[100, 100],\n",
       "        [100, 100],\n",
       "        [100, 100]])"
      ]
     },
     "execution_count": 21,
     "metadata": {},
     "output_type": "execute_result"
    }
   ],
   "source": [
    "torch.zeros(3,2,3)\n",
    "torch.ones(2,3)\n",
    "torch.full((3,2), fill_value=100)\n"
   ]
  },
  {
   "cell_type": "code",
   "execution_count": 26,
   "id": "1697cfd6",
   "metadata": {},
   "outputs": [
    {
     "name": "stdout",
     "output_type": "stream",
     "text": [
      "torch.Size([2, 2])\n"
     ]
    },
    {
     "data": {
      "text/plain": [
       "tensor([[20, 20],\n",
       "        [20, 20]])"
      ]
     },
     "execution_count": 26,
     "metadata": {},
     "output_type": "execute_result"
    }
   ],
   "source": [
    "a = torch.tensor([[1, 2],[3, 4]]) # 2 x 2\n",
    "print(a.shape)\n",
    "b = torch.zeros_like(a)  # a와 같은 shape으로 생성.\n",
    "b = torch.ones_like(a)\n",
    "b = torch.full_like(a, 20)\n",
    "b.shape\n",
    "# b"
   ]
  },
  {
   "cell_type": "markdown",
   "id": "01301e5c",
   "metadata": {},
   "source": [
    "## 동일한 간격으로 떨어진 값들로 구성된 배열생성\n",
    "- **torch.arange(start=0, end, step=1)** \n",
    "- **torch.linspace(start, end, steps,)** : steps - 원소개수"
   ]
  },
  {
   "cell_type": "code",
   "execution_count": 29,
   "id": "f9b9fd1b",
   "metadata": {},
   "outputs": [
    {
     "data": {
      "text/plain": [
       "tensor([10,  9,  8,  7,  6,  5,  4,  3,  2])"
      ]
     },
     "execution_count": 29,
     "metadata": {},
     "output_type": "execute_result"
    }
   ],
   "source": [
    "torch.arange(10)  # end. 0 ~ 10 1씩 증가\n",
    "torch.arange(0, 1, 0.1) # 0 ~ 1, 0.1 \n",
    "torch.arange(10, 1, -1) # 10 ~ 1, -1 "
   ]
  },
  {
   "cell_type": "code",
   "execution_count": 31,
   "id": "afa883dd",
   "metadata": {},
   "outputs": [
    {
     "data": {
      "text/plain": [
       "tensor([0.0000, 0.1000, 0.2000, 0.3000, 0.4000, 0.5000, 0.6000, 0.7000, 0.8000,\n",
       "        0.9000, 1.0000])"
      ]
     },
     "execution_count": 31,
     "metadata": {},
     "output_type": "execute_result"
    }
   ],
   "source": [
    "torch.linspace(0, 10, 5)\n",
    "torch.linspace(0, 1, 11)\n"
   ]
  },
  {
   "cell_type": "markdown",
   "id": "f2bd2a03",
   "metadata": {},
   "source": [
    "## 빈 tensor 생성\n",
    "- **torch.empty(\\*size)**"
   ]
  },
  {
   "cell_type": "code",
   "execution_count": 33,
   "id": "f9a865f4",
   "metadata": {
    "collapsed": true,
    "jupyter": {
     "outputs_hidden": true
    },
    "scrolled": true
   },
   "outputs": [
    {
     "data": {
      "text/plain": [
       "tensor([[[3.1711e-05, 8.1836e-43, 0.0000e+00, 0.0000e+00, 0.0000e+00,\n",
       "          0.0000e+00, 0.0000e+00],\n",
       "         [0.0000e+00, 0.0000e+00, 0.0000e+00, 0.0000e+00, 0.0000e+00,\n",
       "          0.0000e+00, 0.0000e+00]],\n",
       "\n",
       "        [[0.0000e+00, 0.0000e+00, 0.0000e+00, 0.0000e+00, 0.0000e+00,\n",
       "          0.0000e+00, 0.0000e+00],\n",
       "         [0.0000e+00, 0.0000e+00, 0.0000e+00, 0.0000e+00, 0.0000e+00,\n",
       "          0.0000e+00, 0.0000e+00]],\n",
       "\n",
       "        [[0.0000e+00, 0.0000e+00, 0.0000e+00, 0.0000e+00, 0.0000e+00,\n",
       "          0.0000e+00, 0.0000e+00],\n",
       "         [0.0000e+00, 0.0000e+00, 0.0000e+00, 0.0000e+00, 0.0000e+00,\n",
       "          0.0000e+00, 0.0000e+00]]])"
      ]
     },
     "execution_count": 33,
     "metadata": {},
     "output_type": "execute_result"
    }
   ],
   "source": [
    "torch.empty(3,2,7)"
   ]
  },
  {
   "cell_type": "markdown",
   "id": "6ec59585",
   "metadata": {},
   "source": [
    "## 난수를 이용한 생성\n",
    "\n",
    "- **torch.rand(\\*size)**: 0 ~ 1사이 실수로 구성된 배열을 생성. 각 값은 균등분포를 따른다.\n",
    "- **torch.randn(\\*size)**: 표준정규분포(평균:0, 표준편차:1)를 따르는 실수로 구성된 배열 생성\n",
    "- **torch.randint(low=0, high, size)**: 지정한 범위의 정수로 구성된 배열 생성\n",
    "- **torch.randperm(n)**: 0 ~ n-1 사이의 정수를 랜덤하게 섞은 값을 원소로 가지는 배열 생성"
   ]
  },
  {
   "cell_type": "code",
   "execution_count": 55,
   "id": "def1448b",
   "metadata": {},
   "outputs": [
    {
     "data": {
      "text/plain": [
       "tensor([3, 1, 0, 4, 2])"
      ]
     },
     "execution_count": 55,
     "metadata": {},
     "output_type": "execute_result"
    }
   ],
   "source": [
    "# torch.manual_seed(0)  # seed 설정\n",
    "torch.rand(100, 3, 5) #.shape\n",
    "torch.randn(30,3)\n",
    "torch.randint(1, 100, (3,3))  \n",
    "torch.randperm(5) # 0 ~ 4 를 섞어서 구성"
   ]
  },
  {
   "cell_type": "code",
   "execution_count": 58,
   "id": "8e9b7c88-3511-4c26-8282-5fc9ad857b98",
   "metadata": {},
   "outputs": [
    {
     "data": {
      "text/plain": [
       "tensor([ 3, 17, 98, 35, 81, 95,  7, 93, 27, 67, 77, 78, 24, 43, 18, 45,  1, 59,\n",
       "        26, 61, 22, 10,  8, 74, 62,  4,  0, 60, 89, 90, 92, 38, 73, 41, 99, 37,\n",
       "        20, 68, 29, 83, 53, 85, 14,  2, 55, 80, 70, 52, 16, 76, 11, 49, 12, 94,\n",
       "         5, 58, 86,  6, 25, 28, 33, 48, 50, 19, 97, 82, 72, 47, 96, 23, 75, 57,\n",
       "        39, 30, 87, 31, 71, 44, 40, 88, 34, 15, 63, 46, 65, 64, 21, 13, 56, 91,\n",
       "        84, 54, 66, 42,  9, 36, 69, 51, 79, 32])"
      ]
     },
     "execution_count": 58,
     "metadata": {},
     "output_type": "execute_result"
    }
   ],
   "source": [
    "a = torch.arange(100)\n",
    "# a 섞기\n",
    "idx = torch.randperm(100) # 0 ~ 99 섞어서 반환. -> index\n",
    "a[idx]"
   ]
  },
  {
   "cell_type": "markdown",
   "id": "d8494a6a",
   "metadata": {},
   "source": [
    "## Tensor gpu/cpu 메모리로 옮기기\n",
    "\n",
    "- pytorch는 데이터셋인 tensor를 cpu메모리와 gpu 메모리로 서로 옮길 수 있다.\n",
    "    - 데이터에 대한 연산처리를 어디서 하느냐에 따라 메모리를 선택한다.\n",
    "    - 장치는 문자열로 설정한다.\n",
    "        - CPU 사용: \"cpu\"\n",
    "        - nvida GPU: \"cuda\"\n",
    "        - Apple m1: \"mps\"\n",
    "            - pytorch 1.12 부터 지원\n",
    "- 옮기기\n",
    "    - tensor 생성시 `device` 파라미터를 이용해 설정\n",
    "    - `tensor.to(device)`를 이용해 설정\n",
    "- 현재 실행환경에서 어떤 장비를 사용할 수 있는지 확인\n",
    "    - nvidia gpu 사용가능확인\n",
    "        - `torch.cuda.is_available()` - nvida gpu 사용가능 여부\n",
    "        - `torch.backends.mps.is_available()` - M1 사용가능 여부"
   ]
  },
  {
   "cell_type": "code",
   "execution_count": 61,
   "id": "9bf69bd8",
   "metadata": {},
   "outputs": [
    {
     "data": {
      "text/plain": [
       "'cpu'"
      ]
     },
     "execution_count": 61,
     "metadata": {},
     "output_type": "execute_result"
    }
   ],
   "source": [
    "# device = 'cuda' if torch.cuda.is_available() else 'mps' if torch.backends.mps.is_available() else 'cpu'\n",
    "device = 'cuda' if torch.cuda.is_available() else 'cpu'\n",
    "device"
   ]
  },
  {
   "cell_type": "code",
   "execution_count": 67,
   "id": "92ffadca",
   "metadata": {},
   "outputs": [
    {
     "data": {
      "text/plain": [
       "(tensor([1., 2., 3.]), device(type='cpu'))"
      ]
     },
     "execution_count": 67,
     "metadata": {},
     "output_type": "execute_result"
    }
   ],
   "source": [
    "t = torch.tensor([1, 2, 3], dtype=torch.float32, device=device)\n",
    "t, t.device\n",
    "\n",
    "t2 = t.to(\"cpu\")\n",
    "t2, t2.device"
   ]
  },
  {
   "cell_type": "markdown",
   "id": "eb9df51a",
   "metadata": {},
   "source": [
    "## tensor를 상수로 변환\n",
    "- torch.Tensor객체를 파이썬 상수로 변환.\n",
    "- tensor객체.item()\n",
    "    - Scalar(상수) 또는 원소가 하나인 tensor를 python 상수로 변환"
   ]
  },
  {
   "cell_type": "code",
   "execution_count": 71,
   "id": "9e24dc70",
   "metadata": {
    "collapsed": true,
    "jupyter": {
     "outputs_hidden": true
    },
    "scrolled": true
   },
   "outputs": [
    {
     "name": "stdout",
     "output_type": "stream",
     "text": [
      "tensor(10) 0\n",
      "10\n",
      "<class 'torch.Tensor'> <class 'int'>\n"
     ]
    }
   ],
   "source": [
    "a = torch.tensor(10)  # 상수(scalar) => 0차원\n",
    "print(a, a.ndim)\n",
    "print(a.item())\n",
    "print(type(a), type(a.item()))"
   ]
  },
  {
   "cell_type": "code",
   "execution_count": 72,
   "id": "d62c3168",
   "metadata": {},
   "outputs": [
    {
     "name": "stdout",
     "output_type": "stream",
     "text": [
      "tensor([20]) 1\n",
      "20\n"
     ]
    }
   ],
   "source": [
    "b = torch.tensor([20])\n",
    "print(b, b.dim())\n",
    "print(b.item()) #원소가 하나인 배열(텐서) 변환 가능"
   ]
  },
  {
   "cell_type": "code",
   "execution_count": 75,
   "id": "cefb6f7b",
   "metadata": {
    "scrolled": true
   },
   "outputs": [
    {
     "name": "stdout",
     "output_type": "stream",
     "text": [
      "tensor([  1,  10, 100])\n"
     ]
    }
   ],
   "source": [
    "c = torch.tensor([1, 10, 100])\n",
    "print(c)\n",
    "# print(c.item()) #원소가 여러개일 경우 Exception발생"
   ]
  },
  {
   "cell_type": "code",
   "execution_count": null,
   "id": "06f1ae95",
   "metadata": {},
   "outputs": [],
   "source": [
    "d = torch.tensor([10], device='cuda')\n",
    "print(d)\n",
    "print(d.item())"
   ]
  },
  {
   "cell_type": "markdown",
   "id": "a8709f0b",
   "metadata": {},
   "source": [
    "## ndarray 호환\n",
    "\n",
    "- ndarray를 tensor로 생성\n",
    "    - **torch.tensor(ndarray)**\n",
    "    - **torch.from_numpy(ndarray)**\n",
    "- tensor를 ndarray로 변환\n",
    "    - **tensor.numpy()**\n",
    "    - tensor가 gpu에 있을 경우 cpu로 옮긴 뒤 변환해야 한다."
   ]
  },
  {
   "cell_type": "code",
   "execution_count": 76,
   "id": "ff396b21",
   "metadata": {},
   "outputs": [],
   "source": [
    "import numpy as np\n",
    "import torch"
   ]
  },
  {
   "cell_type": "code",
   "execution_count": 79,
   "id": "2c1d1b90",
   "metadata": {},
   "outputs": [
    {
     "data": {
      "text/plain": [
       "tensor([1, 2, 3, 4, 5, 6, 7, 8, 9], dtype=torch.int32)"
      ]
     },
     "execution_count": 79,
     "metadata": {},
     "output_type": "execute_result"
    }
   ],
   "source": [
    "# ndarray -> tensor\n",
    "arr = np.arange(1,10)\n",
    "\n",
    "torch.tensor(arr, dtype=torch.float32)\n",
    "torch.from_numpy(arr)"
   ]
  },
  {
   "cell_type": "code",
   "execution_count": 82,
   "id": "4a5fa181",
   "metadata": {},
   "outputs": [
    {
     "name": "stdout",
     "output_type": "stream",
     "text": [
      "tensor([[-1.5411,  0.1133,  1.6016],\n",
      "        [ 0.6204,  2.0511, -1.8117],\n",
      "        [-1.3936,  0.5347, -0.9597]])\n"
     ]
    },
    {
     "data": {
      "text/plain": [
       "array([[-1.5410856 ,  0.11329807,  1.601588  ],\n",
       "       [ 0.6203657 ,  2.0511074 , -1.8116586 ],\n",
       "       [-1.3936139 ,  0.53468597, -0.95966667]], dtype=float32)"
      ]
     },
     "execution_count": 82,
     "metadata": {},
     "output_type": "execute_result"
    }
   ],
   "source": [
    "# tensor -> ndarray\n",
    "t = torch.randn(3,3)\n",
    "print(t)\n",
    "t.to(\"cpu\").numpy()"
   ]
  },
  {
   "cell_type": "code",
   "execution_count": null,
   "id": "d85bf50c",
   "metadata": {},
   "outputs": [],
   "source": [
    "t2 = torch.randn(2,2, device=\"cuda\")\n",
    "t2"
   ]
  },
  {
   "cell_type": "code",
   "execution_count": null,
   "id": "28c9d47a",
   "metadata": {
    "scrolled": true
   },
   "outputs": [],
   "source": [
    "t2.numpy() \n",
    "# t2.to(\"cpu\").numpy()"
   ]
  },
  {
   "cell_type": "markdown",
   "id": "f10f4911",
   "metadata": {},
   "source": [
    "# 원소 조회및 변경 - indexing/slicing\n",
    "\n",
    "- 대부분 Numpy 와 동일\n",
    "    - **slicing에서 step을 <u>음수로 지정할 수 없다.</u>**\n"
   ]
  },
  {
   "cell_type": "code",
   "execution_count": 83,
   "id": "2300078c",
   "metadata": {},
   "outputs": [
    {
     "data": {
      "text/plain": [
       "tensor([  8,  -5,  -2,  -4,  -3,   9,  -5,  -7,   8,  -9,  -9,   9,   9,   7,\n",
       "         -3,  -9,   1,  -6,   0,  -2,   4,  -8,   3,  -1,   5,  -7,   9,   5,\n",
       "         -2,   9,  -4,  -5,   3,   4,  -1,   2,   2,  -9,  -4,  -1,   5,  -9,\n",
       "         -1,   2,   8,  -8,   1,  -2,  -9,   2,   4,   7,   4,  -9,   1,   3,\n",
       "          0,  -3, -10,   3,   4,   6,   6,  -2,  -2,   6,   0,   9,   1,   1,\n",
       "         -8,   5,   9,   8,   5,  -9,  -5,  -3,   7,  -1,  -6,  -4,  -6, -10,\n",
       "          2,   2,  -2, -10,   7,   2, -10,   4,  -4,   7, -10,  -4,   0,  -8,\n",
       "         -3, -10])"
      ]
     },
     "execution_count": 83,
     "metadata": {},
     "output_type": "execute_result"
    }
   ],
   "source": [
    "t = torch.randint(-10, 10, (100, ))\n",
    "t"
   ]
  },
  {
   "cell_type": "code",
   "execution_count": 85,
   "id": "a28537ed",
   "metadata": {},
   "outputs": [
    {
     "data": {
      "text/plain": [
       "tensor([ -5,   9, -10])"
      ]
     },
     "execution_count": 85,
     "metadata": {},
     "output_type": "execute_result"
    }
   ],
   "source": [
    "t[0]\n",
    "t[[1, 5, -1]] # 여러개 조회-> fancy indexing"
   ]
  },
  {
   "cell_type": "code",
   "execution_count": 92,
   "id": "73763041",
   "metadata": {},
   "outputs": [
    {
     "data": {
      "text/plain": [
       "tensor([-9, -7,  9, -4, -5])"
      ]
     },
     "execution_count": 92,
     "metadata": {},
     "output_type": "execute_result"
    }
   ],
   "source": [
    "t[:5]\n",
    "t[10:15]\n",
    "t[90:]\n",
    "t[3:30:3]\n",
    "# t[10:1:-2]  #에러\n",
    "t[1:10:2].flip(dims=(0,)) #reverse"
   ]
  },
  {
   "cell_type": "code",
   "execution_count": 94,
   "id": "81965586",
   "metadata": {},
   "outputs": [
    {
     "data": {
      "text/plain": [
       "tensor([8, 9, 8, 9, 9, 7, 1, 4, 3, 5, 9, 5, 9, 3, 4, 2, 2, 5, 2, 8, 1, 2, 4, 7,\n",
       "        4, 1, 3, 3, 4, 6, 6, 6, 9, 1, 1, 5, 9, 8, 5, 7, 2, 2, 7, 2, 4, 7])"
      ]
     },
     "execution_count": 94,
     "metadata": {},
     "output_type": "execute_result"
    }
   ],
   "source": [
    "# boolean index\n",
    "t[t > 0]"
   ]
  },
  {
   "cell_type": "code",
   "execution_count": 95,
   "id": "deece31d-4efe-491c-9301-278981ecf208",
   "metadata": {},
   "outputs": [
    {
     "data": {
      "text/plain": [
       "tensor([  8,  -5,  -2,  -4,  -3,   9,  -5,  -7,   8,  -9,  -9,   9,   9,   7,\n",
       "         -3,  -9,   1,  -6,   0,  -2,   4,  -8,   3,  -1,   5,  -7,   9,   5,\n",
       "         -2,   9,  -4,  -5,   3,   4,  -1,   2,   2,  -9,  -4,  -1,   5,  -9,\n",
       "         -1,   2,   8,  -8,   1,  -2,  -9,   2,   4,   7,   4,  -9,   1,   3,\n",
       "          0,  -3, -10,   3,   4,   6,   6,  -2,  -2,   6,   0,   9,   1,   1,\n",
       "         -8,   5,   9,   8,   5,  -9,  -5,  -3,   7,  -1,  -6,  -4,  -6, -10,\n",
       "          2,   2,  -2, -10,   7,   2, -10,   4,  -4,   7, -10,  -4,   0,  -8,\n",
       "         -3, -10])"
      ]
     },
     "execution_count": 95,
     "metadata": {},
     "output_type": "execute_result"
    }
   ],
   "source": [
    "t"
   ]
  },
  {
   "cell_type": "code",
   "execution_count": 96,
   "id": "03a01027",
   "metadata": {
    "collapsed": true,
    "jupyter": {
     "outputs_hidden": true
    },
    "scrolled": true
   },
   "outputs": [
    {
     "data": {
      "text/plain": [
       "tensor([100,  -5,  -2,  -4,  -3,   9,  -5,  -7,   8,  -9,  -9,   9,   9,   7,\n",
       "         -3,  -9,   1,  -6,   0,  -2,   4,  -8,   3,  -1,   5,  -7,   9,   5,\n",
       "         -2,   9,  -4,  -5,   3,   4,  -1,   2,   2,  -9,  -4,  -1,   5,  -9,\n",
       "         -1,   2,   8,  -8,   1,  -2,  -9,   2,   4,   7,   4,  -9,   1,   3,\n",
       "          0,  -3, -10,   3,   4,   6,   6,  -2,  -2,   6,   0,   9,   1,   1,\n",
       "         -8,   5,   9,   8,   5,  -9,  -5,  -3,   7,  -1,  -6,  -4,  -6, -10,\n",
       "          2,   2,  -2, -10,   7,   2, -10,   4,  -4,   7, -10,  -4,   0,  -8,\n",
       "         -3, -10])"
      ]
     },
     "execution_count": 96,
     "metadata": {},
     "output_type": "execute_result"
    }
   ],
   "source": [
    "# 변경\n",
    "t[0] = 100\n",
    "t"
   ]
  },
  {
   "cell_type": "code",
   "execution_count": 97,
   "id": "49419f63",
   "metadata": {},
   "outputs": [
    {
     "data": {
      "text/plain": [
       "tensor([[1, 2, 3],\n",
       "        [4, 5, 6],\n",
       "        [7, 8, 9]])"
      ]
     },
     "execution_count": 97,
     "metadata": {},
     "output_type": "execute_result"
    }
   ],
   "source": [
    "t = torch.arange(1, 10).reshape(3,3)\n",
    "t"
   ]
  },
  {
   "cell_type": "code",
   "execution_count": 102,
   "id": "67affa22",
   "metadata": {},
   "outputs": [
    {
     "data": {
      "text/plain": [
       "3"
      ]
     },
     "execution_count": 102,
     "metadata": {},
     "output_type": "execute_result"
    }
   ],
   "source": [
    "# t[ 0축, 1축 ]\n",
    "t[1, 2].item()\n",
    "t[0, 2].item()"
   ]
  },
  {
   "cell_type": "code",
   "execution_count": 103,
   "id": "15855bcf",
   "metadata": {},
   "outputs": [
    {
     "data": {
      "text/plain": [
       "tensor([6, 3])"
      ]
     },
     "execution_count": 103,
     "metadata": {},
     "output_type": "execute_result"
    }
   ],
   "source": [
    "t[[1,0], [2,2]]  #(1,2), (0,2)\n",
    "# t[[첫번째값, 두번째값]-0축, [첫번째값, 두번째값]-1축]"
   ]
  },
  {
   "cell_type": "markdown",
   "id": "a02f14d8",
   "metadata": {},
   "source": [
    "# Reshape"
   ]
  },
  {
   "cell_type": "markdown",
   "id": "221e70f8",
   "metadata": {},
   "source": [
    "## shape 변경\n",
    "- tensor객체.reshape(\\*shape) / view(\\*shape) 이용\n",
    "    - 변환 후 값을 변경하면 원본 배열의 값도 같이 바뀐다.\n",
    " > tensor.clone(): tensor를 복제한다."
   ]
  },
  {
   "cell_type": "code",
   "execution_count": 104,
   "id": "71f88268",
   "metadata": {},
   "outputs": [
    {
     "name": "stdout",
     "output_type": "stream",
     "text": [
      "torch.Size([12]) torch.Size([3, 4]) torch.Size([3, 2, 2]) torch.Size([3, 2, 2])\n"
     ]
    }
   ],
   "source": [
    "a=torch.rand(12)\n",
    "a2 = a.reshape(3,4)\n",
    "a3 = a.reshape((3,2,2))\n",
    "a4 = a.reshape((3,2,-1))  #한 개 axis는 -1로 설정가능하고 그럼 계산해서 알아서 설정해 준다.\n",
    "print(a.shape, a2.size(), a3.shape, a4.shape)\n",
    "               "
   ]
  },
  {
   "cell_type": "code",
   "execution_count": 105,
   "id": "18d307e4-65be-43cd-928a-f7b3cd0f340a",
   "metadata": {},
   "outputs": [
    {
     "data": {
      "text/plain": [
       "tensor([0.9282, 0.5047, 0.9981, 0.7799, 0.4581, 0.8077, 0.8010, 0.4165, 0.2189,\n",
       "        0.2476, 0.9483, 0.9787])"
      ]
     },
     "execution_count": 105,
     "metadata": {},
     "output_type": "execute_result"
    }
   ],
   "source": [
    "a"
   ]
  },
  {
   "cell_type": "code",
   "execution_count": 106,
   "id": "d4efda5a-a5bd-4196-a103-52df9201e825",
   "metadata": {},
   "outputs": [
    {
     "data": {
      "text/plain": [
       "tensor([[0.9282, 0.5047, 0.9981, 0.7799],\n",
       "        [0.4581, 0.8077, 0.8010, 0.4165],\n",
       "        [0.2189, 0.2476, 0.9483, 0.9787]])"
      ]
     },
     "execution_count": 106,
     "metadata": {},
     "output_type": "execute_result"
    }
   ],
   "source": [
    "a2"
   ]
  },
  {
   "cell_type": "code",
   "execution_count": 107,
   "id": "6744974f",
   "metadata": {},
   "outputs": [
    {
     "name": "stdout",
     "output_type": "stream",
     "text": [
      "torch.Size([12]) torch.Size([3, 4]) torch.Size([3, 2, 2]) torch.Size([3, 2, 2])\n"
     ]
    }
   ],
   "source": [
    "a5 = a.view(3,4)\n",
    "a6 = a.view((3,2,2))\n",
    "a7 = a.view((3,2,-1))  #한개 axis는 -1로 설정가능\n",
    "print(a.shape, a5.size(), a6.shape, a7.shape)"
   ]
  },
  {
   "cell_type": "code",
   "execution_count": 108,
   "id": "7ec11d87-49fc-41e4-8c61-03b71e96d089",
   "metadata": {},
   "outputs": [
    {
     "data": {
      "text/plain": [
       "tensor([0.9282, 0.5047, 0.9981, 0.7799, 0.4581, 0.8077, 0.8010, 0.4165, 0.2189,\n",
       "        0.2476, 0.9483, 0.9787])"
      ]
     },
     "execution_count": 108,
     "metadata": {},
     "output_type": "execute_result"
    }
   ],
   "source": [
    "a"
   ]
  },
  {
   "cell_type": "code",
   "execution_count": 109,
   "id": "1a0e3191-7e8a-4a83-8568-76ae632e476a",
   "metadata": {},
   "outputs": [
    {
     "data": {
      "text/plain": [
       "tensor([[0.9282, 0.5047, 0.9981, 0.7799],\n",
       "        [0.4581, 0.8077, 0.8010, 0.4165],\n",
       "        [0.2189, 0.2476, 0.9483, 0.9787]])"
      ]
     },
     "execution_count": 109,
     "metadata": {},
     "output_type": "execute_result"
    }
   ],
   "source": [
    "a5  # a.view(3, 4)"
   ]
  },
  {
   "cell_type": "code",
   "execution_count": 111,
   "id": "c8e0e53a-4698-410d-825a-f89e8f3e2383",
   "metadata": {},
   "outputs": [
    {
     "data": {
      "text/plain": [
       "tensor([[12.1000,  0.5047,  0.9981,  0.7799],\n",
       "        [ 0.4581,  0.8077,  0.8010,  0.4165],\n",
       "        [ 0.2189,  0.2476,  0.9483,  0.9787]])"
      ]
     },
     "execution_count": 111,
     "metadata": {},
     "output_type": "execute_result"
    }
   ],
   "source": [
    "a2  # a.reshape(3,4)"
   ]
  },
  {
   "cell_type": "code",
   "execution_count": 112,
   "id": "8ace33cf",
   "metadata": {},
   "outputs": [
    {
     "name": "stdout",
     "output_type": "stream",
     "text": [
      "tensor([12.1000, 15.1000,  0.9981,  0.7799,  0.4581,  0.8077,  0.8010,  0.4165,\n",
      "         0.2189,  0.2476,  0.9483,  0.9787])\n"
     ]
    }
   ],
   "source": [
    "# a5[0, 0] = 12.1\n",
    "a2[0, 1] = 15.1\n",
    "\n",
    "print(a)"
   ]
  },
  {
   "cell_type": "code",
   "execution_count": 114,
   "id": "0bee46bb-ef79-4a4c-b990-f3de08ab58af",
   "metadata": {},
   "outputs": [
    {
     "data": {
      "text/plain": [
       "tensor([[[12.1000, 15.1000],\n",
       "         [ 0.9981,  0.7799]],\n",
       "\n",
       "        [[ 0.4581,  0.8077],\n",
       "         [ 0.8010,  0.4165]],\n",
       "\n",
       "        [[ 0.2189,  0.2476],\n",
       "         [ 0.9483,  0.9787]]])"
      ]
     },
     "execution_count": 114,
     "metadata": {},
     "output_type": "execute_result"
    }
   ],
   "source": [
    "a4"
   ]
  },
  {
   "cell_type": "code",
   "execution_count": 115,
   "id": "88561ee6",
   "metadata": {},
   "outputs": [
    {
     "name": "stdout",
     "output_type": "stream",
     "text": [
      "tensor([12.1000, 15.1000,  0.9981,  0.7799,  0.4581,  0.8077,  0.8010,  0.4165,\n",
      "         0.2189,  0.2476,  0.9483,  0.9787])\n"
     ]
    }
   ],
   "source": [
    "# tensor복사: clone() 메소드\n",
    "r = a.clone().reshape(3,4)\n",
    "r[0,0] = 100.1\n",
    "print(a)"
   ]
  },
  {
   "cell_type": "markdown",
   "id": "fa8c2fa4",
   "metadata": {},
   "source": [
    "## dummy 축 늘리기\n",
    "\n",
    "- None을 이용 (numpy의 newaxis 대신 None을 사용한다.)\n",
    "- unsqueeze(dim=축번호)"
   ]
  },
  {
   "cell_type": "code",
   "execution_count": 119,
   "id": "356a078c",
   "metadata": {},
   "outputs": [
    {
     "name": "stdout",
     "output_type": "stream",
     "text": [
      "torch.Size([2, 2])\n",
      "torch.Size([1, 2, 2]) torch.Size([1, 2, 2])\n",
      "torch.Size([2, 2, 1]) torch.Size([2, 2, 1])\n",
      "torch.Size([2, 1, 2, 1]) torch.Size([2, 1, 2, 1])\n"
     ]
    }
   ],
   "source": [
    "import torch\n",
    "a = torch.tensor([[10,20],[10,20]])\n",
    "print(a.shape)\n",
    "\n",
    "a1, a2 = a[None, :], a.unsqueeze(dim=0)\n",
    "print(a1.shape, a2.shape)\n",
    "\n",
    "a3, a4 = a[:, :, None], a.unsqueeze(dim=-1) \n",
    "print(a3.shape, a4.shape)\n",
    "\n",
    "a5, a6 = a3[:,None,:,:], a3.unsqueeze(dim=1)\n",
    "print(a5.shape, a6.shape)"
   ]
  },
  {
   "cell_type": "markdown",
   "id": "9947b6ac",
   "metadata": {},
   "source": [
    "## dummy 축 제거\n",
    "- squeeze(\\[dim=축번호\\]) 이용"
   ]
  },
  {
   "cell_type": "code",
   "execution_count": 125,
   "id": "4e40b9cf",
   "metadata": {},
   "outputs": [
    {
     "name": "stdout",
     "output_type": "stream",
     "text": [
      "torch.Size([3, 1, 4, 1, 5, 1])\n",
      "torch.Size([3, 4, 5])\n",
      "torch.Size([3, 4, 1, 5, 1])\n",
      "torch.Size([3, 4, 5, 1])\n"
     ]
    }
   ],
   "source": [
    "t = torch.rand(3, 1, 4, 1, 5, 1)\n",
    "print(t.shape)\n",
    "\n",
    "r1 = t.squeeze()  #축을 명시 하지 않으면 모두 제거\n",
    "print(r1.shape)\n",
    "\n",
    "r2 = t.squeeze(dim=1) # 특정 axis 제거\n",
    "print(r2.shape)\n",
    "\n",
    "r3 = t.squeeze(dim=[1,3]) # 여러 axis의 dummy 축 제거\n",
    "print(r3.shape)"
   ]
  },
  {
   "cell_type": "markdown",
   "id": "b3018717",
   "metadata": {},
   "source": [
    "## tensor 합치기\n",
    "torch.cat([tensorA, tensorB, ...], dim=0) : 기준축 default 는 0"
   ]
  },
  {
   "cell_type": "code",
   "execution_count": 126,
   "id": "7564c2b5",
   "metadata": {},
   "outputs": [
    {
     "name": "stdout",
     "output_type": "stream",
     "text": [
      "tensor([[0, 1, 2, 3, 4],\n",
      "        [5, 6, 7, 8, 9]])\n",
      "tensor([[10, 11, 12, 13, 14],\n",
      "        [15, 16, 17, 18, 19]])\n",
      "tensor([[20, 21, 22, 23, 24],\n",
      "        [25, 26, 27, 28, 29]])\n",
      "tensor([[10, 11, 12],\n",
      "        [13, 14, 15],\n",
      "        [16, 17, 18]])\n"
     ]
    }
   ],
   "source": [
    "a = torch.arange(10).reshape(2,5)\n",
    "b = torch.arange(10,20).reshape(2,5)\n",
    "c = torch.arange(20,30).reshape(2,5)\n",
    "d = torch.arange(10,19).reshape(3,3)\n",
    "print(a)\n",
    "print(b)\n",
    "print(c)\n",
    "print(d)"
   ]
  },
  {
   "cell_type": "code",
   "execution_count": 128,
   "id": "a633d695",
   "metadata": {},
   "outputs": [
    {
     "data": {
      "text/plain": [
       "tensor([[ 0,  1,  2,  3,  4],\n",
       "        [ 5,  6,  7,  8,  9],\n",
       "        [10, 11, 12, 13, 14],\n",
       "        [15, 16, 17, 18, 19]])"
      ]
     },
     "execution_count": 128,
     "metadata": {},
     "output_type": "execute_result"
    }
   ],
   "source": [
    "torch.cat([a, b], dim=0)"
   ]
  },
  {
   "cell_type": "code",
   "execution_count": 129,
   "id": "6ee08217",
   "metadata": {},
   "outputs": [
    {
     "data": {
      "text/plain": [
       "tensor([[ 0,  1,  2,  3,  4],\n",
       "        [ 5,  6,  7,  8,  9],\n",
       "        [10, 11, 12, 13, 14],\n",
       "        [15, 16, 17, 18, 19],\n",
       "        [20, 21, 22, 23, 24],\n",
       "        [25, 26, 27, 28, 29]])"
      ]
     },
     "execution_count": 129,
     "metadata": {},
     "output_type": "execute_result"
    }
   ],
   "source": [
    "torch.cat([a, b, c], dim=0)"
   ]
  },
  {
   "cell_type": "code",
   "execution_count": 130,
   "id": "edb2f33a",
   "metadata": {},
   "outputs": [
    {
     "data": {
      "text/plain": [
       "tensor([[ 0,  1,  2,  3,  4, 10, 11, 12, 13, 14],\n",
       "        [ 5,  6,  7,  8,  9, 15, 16, 17, 18, 19]])"
      ]
     },
     "execution_count": 130,
     "metadata": {},
     "output_type": "execute_result"
    }
   ],
   "source": [
    "torch.cat([a, b], axis=1) # dim 대신 axis사용가능"
   ]
  },
  {
   "cell_type": "code",
   "execution_count": 131,
   "id": "25f7277a",
   "metadata": {},
   "outputs": [
    {
     "data": {
      "text/plain": [
       "tensor([[ 0,  1,  2,  3,  4, 10, 11, 12, 13, 14, 20, 21, 22, 23, 24],\n",
       "        [ 5,  6,  7,  8,  9, 15, 16, 17, 18, 19, 25, 26, 27, 28, 29]])"
      ]
     },
     "execution_count": 131,
     "metadata": {},
     "output_type": "execute_result"
    }
   ],
   "source": [
    "torch.cat([a, b, c], axis=1)"
   ]
  },
  {
   "cell_type": "code",
   "execution_count": 133,
   "id": "82477d9e",
   "metadata": {},
   "outputs": [
    {
     "data": {
      "text/plain": [
       "tensor([[ 0,  1,  2,  3,  4, 10, 11, 12, 13, 14],\n",
       "        [ 5,  6,  7,  8,  9, 15, 16, 17, 18, 19]])"
      ]
     },
     "execution_count": 133,
     "metadata": {},
     "output_type": "execute_result"
    }
   ],
   "source": [
    "torch.cat([a, b], axis=-1)  # -1: 마지막 axis"
   ]
  },
  {
   "cell_type": "code",
   "execution_count": 136,
   "id": "f441999c",
   "metadata": {},
   "outputs": [
    {
     "data": {
      "text/plain": [
       "(torch.Size([2, 5]), torch.Size([3, 3]))"
      ]
     },
     "execution_count": 136,
     "metadata": {},
     "output_type": "execute_result"
    }
   ],
   "source": [
    "a.shape, d.shape\n",
    "# 합치는 기준축 이외의 축 size는 같아야 한다.\n",
    "# torch.cat([a, d])  #dim=0, Error  1축 size가 달라서 Error"
   ]
  },
  {
   "cell_type": "markdown",
   "id": "c1aaa81f",
   "metadata": {},
   "source": [
    "## 값의 위치(index) 변경\n",
    "- tensor 원소의 축별 index의 위치를 바꾼다.\n",
    "- `tensor.transpose(axis1, axis2)` \n",
    "    - 두 축의 자리만 변경 할 수 있다.\n",
    "- `tensor.permute(axis1, axis2, axis3, ..)`\n",
    "    - 두 개 이상의 축 자리를 변경한다."
   ]
  },
  {
   "cell_type": "code",
   "execution_count": 142,
   "id": "c621ab2d",
   "metadata": {},
   "outputs": [
    {
     "name": "stdout",
     "output_type": "stream",
     "text": [
      "torch.Size([2, 3, 4])\n",
      "torch.Size([2, 4, 3])\n",
      "torch.Size([4, 2, 3])\n"
     ]
    }
   ],
   "source": [
    "X = torch.arange(24).reshape(2, 3, 4)\n",
    "print(X.shape)\n",
    "# X\n",
    "y = X.transpose(1, 2)\n",
    "print(y.shape)\n",
    "\n",
    "z = X.permute(2, 0, 1)\n",
    "print(z.shape)"
   ]
  },
  {
   "cell_type": "markdown",
   "id": "2bfe8a88",
   "metadata": {},
   "source": [
    "# tensor 연산 및 주요 함수\n",
    "\n",
    "## element-wise 연산\n",
    "- tensor와 상수 연산시, tensor와 tensor간 연산시 원소별로 처리한다.\n",
    "- 행렬곱 연산을 제외하고 tensor간 연산시 피연산지 tensor간에 shape이 같아야 한다.\n",
    "    - shape이 다를 경우 조건이 맞으면 broadcasting을 한 뒤에 연산한다. (size가 다른 축의 경우 한개의 피연산자 size가 1일 경우 복사하여 shape을 맞춘다.)\n",
    "    "
   ]
  },
  {
   "cell_type": "code",
   "execution_count": 143,
   "id": "85d3d7a3",
   "metadata": {},
   "outputs": [
    {
     "name": "stdout",
     "output_type": "stream",
     "text": [
      "tensor([[0, 1, 2, 3, 4],\n",
      "        [5, 6, 7, 8, 9]])\n",
      "tensor([[10, 11, 12, 13, 14],\n",
      "        [15, 16, 17, 18, 19]])\n",
      "tensor([50, 51, 52, 53, 54])\n"
     ]
    }
   ],
   "source": [
    "import torch\n",
    "\n",
    "a = torch.arange(10).reshape(2,5)\n",
    "b = torch.arange(10,20).reshape(2,5)\n",
    "c = torch.arange(50, 55)\n",
    "\n",
    "print(a)\n",
    "print(b)\n",
    "print(c)"
   ]
  },
  {
   "cell_type": "code",
   "execution_count": 146,
   "id": "24f4f435",
   "metadata": {},
   "outputs": [
    {
     "name": "stdout",
     "output_type": "stream",
     "text": [
      "tensor([[100, 101, 102, 103, 104],\n",
      "        [105, 106, 107, 108, 109]])\n",
      "tensor([[-100,  -99,  -98,  -97,  -96],\n",
      "        [ -95,  -94,  -93,  -92,  -91]])\n",
      "tensor([[ True,  True,  True,  True,  True],\n",
      "        [False, False, False, False, False]])\n"
     ]
    }
   ],
   "source": [
    "print(a + 100)\n",
    "print(a - 100)\n",
    "print(a < 5)"
   ]
  },
  {
   "cell_type": "code",
   "execution_count": 148,
   "id": "1a5ed369",
   "metadata": {},
   "outputs": [
    {
     "name": "stdout",
     "output_type": "stream",
     "text": [
      "tensor([[10, 12, 14, 16, 18],\n",
      "        [20, 22, 24, 26, 28]])\n",
      "tensor([[False, False, False, False, False],\n",
      "        [False, False, False, False, False]])\n"
     ]
    }
   ],
   "source": [
    "print(a + b)\n",
    "print(a == b)"
   ]
  },
  {
   "cell_type": "code",
   "execution_count": 149,
   "id": "46ceb3e6-ecd2-41b0-b3c8-c2e87e05171f",
   "metadata": {},
   "outputs": [
    {
     "data": {
      "text/plain": [
       "(torch.Size([2, 5]), torch.Size([5]))"
      ]
     },
     "execution_count": 149,
     "metadata": {},
     "output_type": "execute_result"
    }
   ],
   "source": [
    "a.size(), c.size()"
   ]
  },
  {
   "cell_type": "code",
   "execution_count": 150,
   "id": "15256a5e",
   "metadata": {},
   "outputs": [
    {
     "name": "stdout",
     "output_type": "stream",
     "text": [
      "tensor([[50, 52, 54, 56, 58],\n",
      "        [55, 57, 59, 61, 63]])\n"
     ]
    }
   ],
   "source": [
    "# broadcasting\n",
    "print(a + c)"
   ]
  },
  {
   "cell_type": "markdown",
   "id": "729874b2",
   "metadata": {},
   "source": [
    "## 주요 연산함수"
   ]
  },
  {
   "cell_type": "code",
   "execution_count": 158,
   "id": "25e8b00a-e442-4058-8672-8bc3889ba146",
   "metadata": {},
   "outputs": [
    {
     "data": {
      "text/plain": [
       "(2.718281828459045, 2.718281828459045)"
      ]
     },
     "execution_count": 158,
     "metadata": {},
     "output_type": "execute_result"
    }
   ],
   "source": [
    "torch.e, np.e"
   ]
  },
  {
   "cell_type": "code",
   "execution_count": 162,
   "id": "6fc6ac19",
   "metadata": {},
   "outputs": [
    {
     "name": "stdout",
     "output_type": "stream",
     "text": [
      "tensor([[-4, -3, -2],\n",
      "        [-1,  0,  1],\n",
      "        [ 2,  3,  4]])\n",
      "tensor([[4, 3, 2],\n",
      "        [1, 0, 1],\n",
      "        [2, 3, 4]])\n",
      "tensor([[2.0000, 1.7321, 1.4142],\n",
      "        [1.0000, 0.0000, 1.0000],\n",
      "        [1.4142, 1.7321, 2.0000]])\n",
      "tensor([[1.8316e-02, 4.9787e-02, 1.3534e-01],\n",
      "        [3.6788e-01, 1.0000e+00, 2.7183e+00],\n",
      "        [7.3891e+00, 2.0086e+01, 5.4598e+01]])\n",
      "tensor([[1.3863, 1.0986, 0.6931],\n",
      "        [0.0000,   -inf, 0.0000],\n",
      "        [0.6931, 1.0986, 1.3863]])\n",
      "tensor(1.)\n",
      "tensor(1.)\n",
      "tensor(1.)\n"
     ]
    }
   ],
   "source": [
    "x=torch.arange(-4, 5).reshape(3,3)\n",
    "print(x)\n",
    "print(torch.abs(x)) # 절대값 \n",
    "print(torch.sqrt(torch.abs(x))) #  제곱근\n",
    "print(torch.exp(x))  # torch.e**x\n",
    "print(torch.log(torch.abs(x)))\n",
    "print(torch.log(torch.exp(torch.tensor(1))))  # torch.log() 밑이 e인 로그계산\n",
    "print(torch.log10(torch.tensor(10)))         # torch.log10() 밑이 10인 로그계산\n",
    "print(torch.log2(torch.tensor(2)))           # torch.log2() 밑이 2인 로그계산\n",
    "# print(\"=====================\")"
   ]
  },
  {
   "cell_type": "code",
   "execution_count": 166,
   "id": "026192bd",
   "metadata": {
    "collapsed": true,
    "jupyter": {
     "outputs_hidden": true
    },
    "scrolled": true
   },
   "outputs": [
    {
     "name": "stdout",
     "output_type": "stream",
     "text": [
      "tensor([[-2.9531, -3.1256, -2.4183],\n",
      "        [-2.1837,  1.5501,  0.1452],\n",
      "        [ 1.9784,  2.5237,  4.6883]])\n",
      "tensor([[-3., -3., -2.],\n",
      "        [-2.,  2.,  0.],\n",
      "        [ 2.,  3.,  5.]])\n",
      "tensor([[-2.9500, -3.1300, -2.4200],\n",
      "        [-2.1800,  1.5500,  0.1500],\n",
      "        [ 1.9800,  2.5200,  4.6900]])\n",
      "tensor([[-3., -4., -3.],\n",
      "        [-3.,  1.,  0.],\n",
      "        [ 1.,  2.,  4.]])\n",
      "tensor([[-2., -3., -2.],\n",
      "        [-2.,  2.,  1.],\n",
      "        [ 2.,  3.,  5.]])\n"
     ]
    }
   ],
   "source": [
    "y = x + torch.randn((3,3))\n",
    "print(y)\n",
    "print(torch.round(y)) # 반올림\n",
    "print(torch.round(y, decimals=2)) # 소수점 둘째자리 이하에서 반올림\n",
    "print(torch.floor(y)) # 내림\n",
    "print(torch.ceil(y)) # 올림"
   ]
  },
  {
   "cell_type": "markdown",
   "id": "358832d4",
   "metadata": {},
   "source": [
    "### 행렬곱\n",
    "- `@` 연산자 또는 `torch.matmul(tensor1, tensor2)` 함수 이용"
   ]
  },
  {
   "cell_type": "code",
   "execution_count": null,
   "id": "ac6cfff6",
   "metadata": {},
   "outputs": [],
   "source": [
    "import torch"
   ]
  },
  {
   "cell_type": "code",
   "execution_count": 167,
   "id": "eb349ca8",
   "metadata": {},
   "outputs": [
    {
     "data": {
      "text/plain": [
       "(torch.Size([3, 2]), torch.Size([2, 2]))"
      ]
     },
     "execution_count": 167,
     "metadata": {},
     "output_type": "execute_result"
    }
   ],
   "source": [
    "x = torch.FloatTensor([[1, 2],[3, 4],[5, 6]])\n",
    "\n",
    "y = torch.FloatTensor([[1, 2],[1, 2],])\n",
    "x.size(), y.shape"
   ]
  },
  {
   "cell_type": "code",
   "execution_count": 168,
   "id": "4283adae",
   "metadata": {},
   "outputs": [
    {
     "name": "stdout",
     "output_type": "stream",
     "text": [
      "torch.Size([3, 2]) torch.Size([3, 2])\n",
      "tensor([[ 3.,  6.],\n",
      "        [ 7., 14.],\n",
      "        [11., 22.]])\n",
      "tensor([[ 3.,  6.],\n",
      "        [ 7., 14.],\n",
      "        [11., 22.]])\n"
     ]
    }
   ],
   "source": [
    "z1 = x @ y\n",
    "z2 = torch.matmul(x, y)\n",
    "print(z1.shape, z2.shape)\n",
    "print(z1)\n",
    "print(z2)"
   ]
  },
  {
   "cell_type": "code",
   "execution_count": 169,
   "id": "004d5f21",
   "metadata": {},
   "outputs": [
    {
     "data": {
      "text/plain": [
       "torch.Size([3, 4, 5])"
      ]
     },
     "execution_count": 169,
     "metadata": {},
     "output_type": "execute_result"
    }
   ],
   "source": [
    "# Batch 행렬곱(Batch matrix muliplication) - bmm()\n",
    "# x, y가 가지는 3개의 2차원 배열 간에 행렬곱을 처리한다.\n",
    "import torch\n",
    "x = torch.FloatTensor(3,4,2)\n",
    "y = torch.FloatTensor(3,2,5)\n",
    "z = torch.bmm(x, y)\n",
    "z.shape\n"
   ]
  },
  {
   "cell_type": "markdown",
   "id": "1c85a8b6",
   "metadata": {},
   "source": [
    "## torch.nan, torch.inf\n",
    "- nan: Not a Number, 주로 결측치를 표현한다.\n",
    "- inf: infinit 무한. \n",
    "    - torch.inf: 양의 무한\n",
    "    - -torch.inf: 음의 무한\n",
    "- torch.isnan(tensor)\n",
    "    - 원소별 결측치 확인\n",
    "- torch.isinf(tensor)    \n",
    "    - 원소별 inf 확인"
   ]
  },
  {
   "cell_type": "code",
   "execution_count": 174,
   "id": "7a051744",
   "metadata": {},
   "outputs": [
    {
     "name": "stdout",
     "output_type": "stream",
     "text": [
      "True False\n",
      "True False\n"
     ]
    }
   ],
   "source": [
    "print(torch.inf > 100000000, torch.inf < 10)\n",
    "print(-torch.inf < 10, -torch.inf > 10)"
   ]
  },
  {
   "cell_type": "code",
   "execution_count": 177,
   "id": "d722e6c4",
   "metadata": {},
   "outputs": [
    {
     "name": "stdout",
     "output_type": "stream",
     "text": [
      "tensor(nan)\n",
      "tensor([False, False,  True, False, False])\n",
      "tensor([False, False, False, False,  True])\n"
     ]
    }
   ],
   "source": [
    "print(torch.log(torch.tensor(-1))) # nan (계산결과가 없으므로-없는값-nan 반환)\n",
    "print(torch.isnan(torch.tensor([1,2,torch.nan,3,4])))  # nan 여부 확인\n",
    "print(torch.isinf(torch.tensor([1,2,3,4,torch.inf])))  # inf 여부 확인"
   ]
  },
  {
   "cell_type": "markdown",
   "id": "2214bd73",
   "metadata": {},
   "source": [
    "## 기술통계함수"
   ]
  },
  {
   "cell_type": "code",
   "execution_count": 178,
   "id": "11a0d448",
   "metadata": {},
   "outputs": [
    {
     "name": "stdout",
     "output_type": "stream",
     "text": [
      "tensor([[ 0.1696,  0.6549,  0.3477,  0.1323],\n",
      "        [ 0.0721, -0.8358, -0.9632,  0.2658],\n",
      "        [-0.1939,  1.0105,  0.8049,  0.7527]])\n"
     ]
    }
   ],
   "source": [
    "X=torch.randn(3,4)\n",
    "print(X)"
   ]
  },
  {
   "cell_type": "code",
   "execution_count": 181,
   "id": "7b696371",
   "metadata": {},
   "outputs": [
    {
     "name": "stdout",
     "output_type": "stream",
     "text": [
      "tensor(2.2173)\n",
      "tensor([ 1.3044, -1.4613,  2.3742])\n",
      "tensor([[ 1.3044],\n",
      "        [-1.4613],\n",
      "        [ 2.3742]])\n"
     ]
    }
   ],
   "source": [
    "print(torch.sum(X))  # default: 전체기준으로 계산. dim=None\n",
    "print(torch.sum(X, dim=1)) #dim/axis 지정: 지정한 axis의 index가 다른 값끼리 계산.\n",
    "print(torch.sum(X, dim=1, keepdims=True))"
   ]
  },
  {
   "cell_type": "code",
   "execution_count": 187,
   "id": "99c06f26",
   "metadata": {},
   "outputs": [
    {
     "name": "stdout",
     "output_type": "stream",
     "text": [
      "tensor(0.1848)\n",
      "tensor([ 0.3261, -0.3653,  0.5935])\n",
      "tensor([[ 0.3261],\n",
      "        [-0.3653],\n",
      "        [ 0.5935]])\n"
     ]
    }
   ],
   "source": [
    "print(torch.mean(X))\n",
    "print(torch.mean(X, dim=1))\n",
    "print(torch.mean(X, dim=1, keepdims=True))"
   ]
  },
  {
   "cell_type": "code",
   "execution_count": 190,
   "id": "db8d8f1e",
   "metadata": {},
   "outputs": [
    {
     "name": "stdout",
     "output_type": "stream",
     "text": [
      "tensor(0.6151)\n",
      "tensor(0.3783)\n",
      "tensor([0.0354, 0.9596, 0.8423, 0.1067])\n"
     ]
    }
   ],
   "source": [
    "print(torch.std(X)) # standard deviation 표준 편차\n",
    "print(torch.var(X)) # variance\n",
    "print(torch.var(X, dim=0))"
   ]
  },
  {
   "cell_type": "code",
   "execution_count": 191,
   "id": "51ecc064",
   "metadata": {
    "collapsed": true,
    "jupyter": {
     "outputs_hidden": true
    }
   },
   "outputs": [
    {
     "name": "stdout",
     "output_type": "stream",
     "text": [
      "tensor([[ 1.3044],\n",
      "        [-1.4613],\n",
      "        [ 2.3742]])\n",
      "tensor([[ 0.3261],\n",
      "        [-0.3653],\n",
      "        [ 0.5935]])\n",
      "tensor(0.6151)\n"
     ]
    }
   ],
   "source": [
    "# tensor.메소드() \n",
    "print(X.sum(dim=1, keepdims=True))\n",
    "print(X.mean(dim=1, keepdims=True))\n",
    "print(X.std())"
   ]
  },
  {
   "cell_type": "code",
   "execution_count": 193,
   "id": "f72865f1-80e6-4433-a366-02449bc493df",
   "metadata": {},
   "outputs": [
    {
     "data": {
      "text/plain": [
       "tensor([[ 0.1696,  0.6549,  0.3477,  0.1323],\n",
       "        [ 0.0721, -0.8358, -0.9632,  0.2658],\n",
       "        [-0.1939,  1.0105,  0.8049,  0.7527]])"
      ]
     },
     "execution_count": 193,
     "metadata": {},
     "output_type": "execute_result"
    }
   ],
   "source": [
    "X"
   ]
  },
  {
   "cell_type": "code",
   "execution_count": 199,
   "id": "afe123ff",
   "metadata": {},
   "outputs": [
    {
     "name": "stdout",
     "output_type": "stream",
     "text": [
      "torch.return_types.max(\n",
      "values=tensor([[0.6549],\n",
      "        [0.2658],\n",
      "        [1.0105]]),\n",
      "indices=tensor([[1],\n",
      "        [3],\n",
      "        [1]]))\n"
     ]
    }
   ],
   "source": [
    "# print(torch.max(X))\n",
    "# print(torch.max(X, dim=0))  # return_types.max 타입객체로 반환. max값과 max값의 index를 묶어서 반환\n",
    "# print(torch.max(X, dim=1))\n",
    "# print(torch.max(X, dim=1).values, torch.max(X, dim=1).indices, sep=\" || \")\n",
    "# print(torch.max(X, dim=0, keepdims=True))  #keepdims=True : 차원(rank)를 유지\n",
    "print(torch.max(X, dim=1, keepdims=True))"
   ]
  },
  {
   "cell_type": "code",
   "execution_count": 205,
   "id": "234df8b9",
   "metadata": {},
   "outputs": [
    {
     "name": "stdout",
     "output_type": "stream",
     "text": [
      "tensor([0, 2, 2, 2])\n"
     ]
    }
   ],
   "source": [
    "# print(torch.min(X))\n",
    "# print(torch.min(X, dim=0))\n",
    "# print(torch.min(X, dim=1))\n",
    "\n",
    "# print(torch.argmax(X))\n",
    "print(torch.argmax(X, dim=0)) # 각 열에서 가장 큰 애가 존재하는 인덱스\n",
    "# print(torch.argmax(X, dim=1)) # 각 행에서 가장 큰 애가 존재하는 인덱스"
   ]
  },
  {
   "cell_type": "code",
   "execution_count": 208,
   "id": "642696a3-bfe3-41f5-a4fc-397075454e2d",
   "metadata": {},
   "outputs": [
    {
     "name": "stdout",
     "output_type": "stream",
     "text": [
      "tensor([0.1696, 1.0105, 0.8049, 0.7527])\n",
      "tensor([0, 2, 2, 2])\n"
     ]
    }
   ],
   "source": [
    "a = torch.max(X, dim=0)\n",
    "print(a.values)\n",
    "print(a.indices)"
   ]
  },
  {
   "cell_type": "code",
   "execution_count": 209,
   "id": "1e04eb95-f386-4f10-b4ab-90d4e70efcff",
   "metadata": {},
   "outputs": [
    {
     "data": {
      "text/plain": [
       "tensor([2, 1, 1, 0])"
      ]
     },
     "execution_count": 209,
     "metadata": {},
     "output_type": "execute_result"
    }
   ],
   "source": [
    "torch.argmin(X, dim=0)"
   ]
  },
  {
   "cell_type": "markdown",
   "id": "a02bf59a",
   "metadata": {},
   "source": [
    "# autograd(자동미분)\n",
    "- 자동 미분을 이용해 gradient(미분계수)를 계산하는 pytorch system.\n",
    "- 딥러닝 모델에서 weight와 bias tensor들(Parameter)은 backpropagation(역전파)를 이용해 gradient를 구해서 loss가 줄어드는 방향으로 update를 하게된다.\n",
    "- pytorch는 이런 미분 수행을 자동으로 처리해 준다.\n",
    "    - gradient(기울기)를 구한다는 것은 미분을 한다는 것을 말한다.\n",
    "- tensor가 미분 가능하려면(gradient 계산 대상 변수) `requires_grad=True` 로 설정되 있어야 한다. (default: False)\n",
    "    "
   ]
  },
  {
   "cell_type": "code",
   "execution_count": 1,
   "id": "d9c09e66-3843-40b1-9f7e-bd55e4ee4a44",
   "metadata": {},
   "outputs": [],
   "source": [
    "import torch"
   ]
  },
  {
   "cell_type": "code",
   "execution_count": 2,
   "id": "3a42c224-2e1b-4d8b-a519-e400ddd365a4",
   "metadata": {},
   "outputs": [
    {
     "name": "stdout",
     "output_type": "stream",
     "text": [
      "True\n",
      "None\n"
     ]
    }
   ],
   "source": [
    "# requires_grad 속성은 생성시 지정, 생성후 지정(변경)할 수있다.\n",
    "x = torch.tensor([1.0], requires_grad=True)  # gradient구할 대상.(딥러닝모델-파라미터들)\n",
    "\n",
    "# x.requires_grad = True\n",
    "print(x.requires_grad)\n",
    "print(x.grad)   # tensor.grad: 계산된 gradient를 저장하는 속성.\n",
    "# print(x.data)   # tensor.data: Tensor의 배열(값들)을 저장하는 속성."
   ]
  },
  {
   "cell_type": "code",
   "execution_count": 3,
   "id": "804b160f-d58c-4fb9-b777-ee6c0cbc15e5",
   "metadata": {},
   "outputs": [
    {
     "name": "stdout",
     "output_type": "stream",
     "text": [
      "결과: tensor([1.], grad_fn=<PowBackward0>) tensor([1.])\n",
      "<PowBackward0 object at 0x00000159F8BD0F70>\n"
     ]
    }
   ],
   "source": [
    "y = x**2\n",
    "print(\"결과:\", y, y.data)\n",
    "# y는 requires_grad=True인 값을 이용해 연산한 함수. -> grad_fn 속성: 함수 y의 도함수\n",
    "print(y.grad_fn)"
   ]
  },
  {
   "cell_type": "code",
   "execution_count": 35,
   "id": "04689523-f572-4645-bfdd-9d19d13b44c3",
   "metadata": {},
   "outputs": [],
   "source": [
    "# x의 gradient를 계산. grad_fn은 y에 있다. \n",
    "y.backward()   # gradient 계산하고 그 결과를  x(requires_grad=True)의 grad 속성에  저장\n",
    "# dy/dx"
   ]
  },
  {
   "cell_type": "code",
   "execution_count": 36,
   "id": "404bbfa9-6940-465f-880b-c36960a7e137",
   "metadata": {},
   "outputs": [
    {
     "data": {
      "text/plain": [
       "tensor([2.])"
      ]
     },
     "execution_count": 36,
     "metadata": {},
     "output_type": "execute_result"
    }
   ],
   "source": [
    "x.grad"
   ]
  },
  {
   "cell_type": "code",
   "execution_count": 47,
   "id": "5c9c0f9e-8812-4b84-9c13-c3f02697ec7e",
   "metadata": {
    "scrolled": true
   },
   "outputs": [
    {
     "data": {
      "text/plain": [
       "tensor(14., grad_fn=<SumBackward0>)"
      ]
     },
     "execution_count": 47,
     "metadata": {},
     "output_type": "execute_result"
    }
   ],
   "source": [
    "##### vector(여러개값들)에 대한 미분.\n",
    "x = torch.tensor([1.0, 2.0, 3.0], requires_grad=True)\n",
    "y = torch.sum(x**2)    # [1.0**2 + 2.0**2 + 3.0**2]\n",
    "y"
   ]
  },
  {
   "cell_type": "code",
   "execution_count": 48,
   "id": "dbc49a95-dc0d-4db9-af56-106b38478a59",
   "metadata": {},
   "outputs": [
    {
     "data": {
      "text/plain": [
       "tensor([1., 4., 9.], grad_fn=<PowBackward0>)"
      ]
     },
     "execution_count": 48,
     "metadata": {},
     "output_type": "execute_result"
    }
   ],
   "source": [
    "x**2"
   ]
  },
  {
   "cell_type": "code",
   "execution_count": 44,
   "id": "b9039219-1018-4ba4-905c-b7105d037f93",
   "metadata": {},
   "outputs": [],
   "source": [
    "y.backward()"
   ]
  },
  {
   "cell_type": "code",
   "execution_count": 45,
   "id": "4d62adf3-56bd-425c-849d-fc07eb3182c4",
   "metadata": {},
   "outputs": [
    {
     "data": {
      "text/plain": [
       "tensor([2., 4., 6.])"
      ]
     },
     "execution_count": 45,
     "metadata": {},
     "output_type": "execute_result"
    }
   ],
   "source": [
    "x.grad"
   ]
  },
  {
   "cell_type": "code",
   "execution_count": 57,
   "id": "cb909813-6ee7-41f6-bd42-21714f553578",
   "metadata": {
    "scrolled": true
   },
   "outputs": [
    {
     "name": "stdout",
     "output_type": "stream",
     "text": [
      "1.0 2.0\n",
      "<PowBackward0 object at 0x0000016304DFF6A0>\n",
      "<MulBackward0 object at 0x0000016304DFF1C0>\n"
     ]
    }
   ],
   "source": [
    "#### 합성 함수 미분.   f(g(x))   \n",
    "###### 함수에 미분가능한 변수가 여러개 일 경우 편미분 -> 각각 따로 gradient를 계산.\n",
    "a = torch.tensor([1.], requires_grad=True)\n",
    "b = torch.tensor([2.], requires_grad=True)\n",
    "y = a**2\n",
    "z = y * b   # (a**2) * b\n",
    "print(y.item(), z.item())\n",
    "print(y.grad_fn)\n",
    "print(z.grad_fn)"
   ]
  },
  {
   "cell_type": "code",
   "execution_count": 58,
   "id": "553e52f0-69fc-41fb-a272-1de4514cf99f",
   "metadata": {},
   "outputs": [
    {
     "data": {
      "text/plain": [
       "True"
      ]
     },
     "execution_count": 58,
     "metadata": {},
     "output_type": "execute_result"
    }
   ],
   "source": [
    "y.requires_grad"
   ]
  },
  {
   "cell_type": "code",
   "execution_count": 53,
   "id": "15d12b71-ebd2-48f7-a908-421a4bc2e6a3",
   "metadata": {},
   "outputs": [],
   "source": [
    "z.backward()"
   ]
  },
  {
   "cell_type": "code",
   "execution_count": 56,
   "id": "681c9e12-b407-4698-b6d9-2357520e860d",
   "metadata": {},
   "outputs": [
    {
     "name": "stdout",
     "output_type": "stream",
     "text": [
      "변수 b의 grad값: tensor([1.])\n",
      "변수 a의 grad값: tensor([4.])\n"
     ]
    }
   ],
   "source": [
    "print(\"변수 b의 grad값:\", b.grad)  # dz / db\n",
    "print(\"변수 a의 grad값:\", a.grad)  # dz / da"
   ]
  },
  {
   "cell_type": "markdown",
   "id": "a304c280",
   "metadata": {},
   "source": [
    "## torch.no_grad() \n",
    "- no_grad() 구문에서 연산을 할 경우 requires_grad=True로 설정되었다 하더라도 gradient를 update하지 않는다.\n",
    "- 딥러닝 모델 학습이 끝나고 평가할 때는 gradient를 계산할 필요가 없기 때문에 no_grad 구문을 사용한다.\n"
   ]
  },
  {
   "cell_type": "code",
   "execution_count": 83,
   "id": "b39e1232-7b37-4822-8d5b-058690974bf7",
   "metadata": {},
   "outputs": [
    {
     "name": "stdout",
     "output_type": "stream",
     "text": [
      "True\n",
      "tensor(1., grad_fn=<PowBackward0>) True\n",
      "None\n",
      "tensor(2.)\n"
     ]
    }
   ],
   "source": [
    "x = torch.tensor(1.0, requires_grad=True)\n",
    "print(x.requires_grad)\n",
    "\n",
    "y = x ** 2  # y.grad_fn : 도함수\n",
    "print(y, y.requires_grad)\n",
    "print(x.grad)\n",
    "y.backward()\n",
    "print(x.grad)"
   ]
  },
  {
   "cell_type": "code",
   "execution_count": 5,
   "id": "7baf4f09-010a-44fd-a439-64395fe63124",
   "metadata": {},
   "outputs": [
    {
     "name": "stdout",
     "output_type": "stream",
     "text": [
      "True\n",
      "<PowBackward0 object at 0x000001599D50CD90>\n",
      "True\n",
      "False\n",
      "None\n"
     ]
    }
   ],
   "source": [
    "# with문 안에서 requires_grad=True인 변수를 이용해 연산하더라도 \n",
    "#                                                                         gradient는 구하지 안는다.\n",
    "print(x.requires_grad)\n",
    "y2 = x ** 2\n",
    "print(y2.grad_fn)\n",
    "with torch.no_grad():  ### 모델 평가/검증/추론 코드.\n",
    "    y2 = x ** 2  # x: requires_grad=True -> gradient를 계산 안할 것.-> y2.grad_fn 생성안한다.\n",
    "\n",
    "print(x.requires_grad)\n",
    "print(y2.requires_grad)\n",
    "print(y2.grad_fn)\n",
    "# y2.backward()    "
   ]
  },
  {
   "cell_type": "markdown",
   "id": "b3811c4b",
   "metadata": {},
   "source": [
    "## gradient 값 초기화"
   ]
  },
  {
   "cell_type": "code",
   "execution_count": 80,
   "id": "7cff24e5-a333-4e47-b1a5-987cab437bb1",
   "metadata": {},
   "outputs": [
    {
     "name": "stdout",
     "output_type": "stream",
     "text": [
      "x의 gradient값:  tensor(2.)\n"
     ]
    }
   ],
   "source": [
    "x = torch.tensor(1.0, requires_grad=True)\n",
    "y = x ** 2    # grad_fn: 2 * X\n",
    "y.backward()\n",
    "print(\"x의 gradient값: \", x.grad)"
   ]
  },
  {
   "cell_type": "code",
   "execution_count": null,
   "id": "01c1d0e3-a616-4f1e-ad76-3d6a9bb600c3",
   "metadata": {},
   "outputs": [],
   "source": [
    "### 변수 x를 이용해서 새로운 계산."
   ]
  },
  {
   "cell_type": "code",
   "execution_count": 81,
   "id": "d7fc9c28-a50b-4c83-809f-c34d0d673221",
   "metadata": {},
   "outputs": [
    {
     "name": "stdout",
     "output_type": "stream",
     "text": [
      "tensor(1.)\n",
      "z에대한 x의 gradient값: tensor(3.)\n"
     ]
    }
   ],
   "source": [
    "# requires_grad=True인 변수로 새로운 연산을 할 경우 grad값을 초기화.( None)\n",
    "### 초기화 하지 않으면 gradient값이 계속 더해진다.\n",
    "x.grad = None  # 초기화\n",
    "print(x.data)\n",
    "z = x ** 3   # grad_fn: 3 * X**2\n",
    "z.backward()\n",
    "print(\"z에대한 x의 gradient값:\", x.grad)"
   ]
  },
  {
   "cell_type": "code",
   "execution_count": 82,
   "id": "3dd5a371-f9a1-4c7e-ae37-a8874a05666e",
   "metadata": {},
   "outputs": [
    {
     "name": "stdout",
     "output_type": "stream",
     "text": [
      "tensor(1.)\n",
      "r에대한 x의 gradient값: tensor(2.)\n"
     ]
    }
   ],
   "source": [
    "x.grad = None\n",
    "print(x.data)\n",
    "r = x ** 2  # grad_fn: 2 * x\n",
    "r.backward()\n",
    "print(\"r에대한 x의 gradient값:\", x.grad) "
   ]
  },
  {
   "cell_type": "code",
   "execution_count": null,
   "id": "5a77422c-3a59-4ed4-890b-5a6afc957d78",
   "metadata": {},
   "outputs": [],
   "source": []
  },
  {
   "cell_type": "code",
   "execution_count": null,
   "id": "ba648ffa",
   "metadata": {},
   "outputs": [],
   "source": []
  }
 ],
 "metadata": {
  "kernelspec": {
   "display_name": "Python 3 (ipykernel)",
   "language": "python",
   "name": "python3"
  },
  "language_info": {
   "codemirror_mode": {
    "name": "ipython",
    "version": 3
   },
   "file_extension": ".py",
   "mimetype": "text/x-python",
   "name": "python",
   "nbconvert_exporter": "python",
   "pygments_lexer": "ipython3",
   "version": "3.11.8"
  },
  "toc": {
   "base_numbering": 1,
   "nav_menu": {},
   "number_sections": true,
   "sideBar": true,
   "skip_h1_title": false,
   "title_cell": "Table of Contents",
   "title_sidebar": "Contents",
   "toc_cell": false,
   "toc_position": {},
   "toc_section_display": true,
   "toc_window_display": false
  },
  "varInspector": {
   "cols": {
    "lenName": 16,
    "lenType": 16,
    "lenVar": 40
   },
   "kernels_config": {
    "python": {
     "delete_cmd_postfix": "",
     "delete_cmd_prefix": "del ",
     "library": "var_list.py",
     "varRefreshCmd": "print(var_dic_list())"
    },
    "r": {
     "delete_cmd_postfix": ") ",
     "delete_cmd_prefix": "rm(",
     "library": "var_list.r",
     "varRefreshCmd": "cat(var_dic_list()) "
    }
   },
   "types_to_exclude": [
    "module",
    "function",
    "builtin_function_or_method",
    "instance",
    "_Feature"
   ],
   "window_display": false
  }
 },
 "nbformat": 4,
 "nbformat_minor": 5
}
