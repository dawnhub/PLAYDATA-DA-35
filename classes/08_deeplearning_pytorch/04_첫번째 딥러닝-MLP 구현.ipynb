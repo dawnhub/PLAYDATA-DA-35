{
 "cells": [
  {
   "cell_type": "markdown",
   "metadata": {
    "slideshow": {
     "slide_type": "slide"
    }
   },
   "source": [
    "# Pytorch 개발 Process"
   ]
  },
  {
   "cell_type": "markdown",
   "metadata": {
    "slideshow": {
     "slide_type": "fragment"
    }
   },
   "source": [
    "1. **데이터 준비**\n",
    "    - Dataset 준비\n",
    "    - Dataloader 생성"
   ]
  },
  {
   "cell_type": "markdown",
   "metadata": {
    "slideshow": {
     "slide_type": "fragment"
    }
   },
   "source": [
    "2. **입력과 출력을 연결하는 Layer(층)으로 이뤄진 네트워크(모델)을 정의**\n",
    "    - **Sequential 방식**: 순서대로 쌓아올린 네트워크로 이뤄진 모델을 생성하는 방식\n",
    "        - layer를 순서대로 쌓은 모델을 구현할때 간단히 모델을 정의할 수 있다.\n",
    "        - layer block을 정의하는데 사용할 수 있다.\n",
    "    - **Subclass 방식**: 네트워크를 정의하는 클래스를 구현.\n",
    "        - 다양한 구조의 모델을 정의할 수 있다.\n",
    "        - inializer에서 필요한 layer들을 생성한다.\n",
    "        - forward(self, X) 메소드에 forward propagation 계산을 구현한다.\n",
    "    "
   ]
  },
  {
   "cell_type": "markdown",
   "metadata": {
    "slideshow": {
     "slide_type": "fragment"
    }
   },
   "source": [
    "3. **train**\n",
    "    - train 함수, test 함수 정의"
   ]
  },
  {
   "cell_type": "markdown",
   "metadata": {
    "slideshow": {
     "slide_type": "fragment"
    }
   },
   "source": [
    "4. test set 최종평가"
   ]
  },
  {
   "cell_type": "markdown",
   "metadata": {
    "slideshow": {
     "slide_type": "slide"
    }
   },
   "source": [
    "# MNIST 이미지 분류 \n",
    "- **[MNIST](https://ko.wikipedia.org/wiki/MNIST_%EB%8D%B0%EC%9D%B4%ED%84%B0%EB%B2%A0%EC%9D%B4%EC%8A%A4) (Modified National Institute of Standards and Technology) database**\n",
    "- 흑백 손글씨 숫자 0-9까지 10개의 범주로 구분해놓은 데이터셋\n",
    "- 하나의 이미지는 28 * 28 pixel 의 크기\n",
    "- 6만개의 Train 이미지와 1만개의 Test 이미지로 구성됨."
   ]
  },
  {
   "cell_type": "markdown",
   "metadata": {},
   "source": [
    "## import"
   ]
  },
  {
   "cell_type": "code",
   "execution_count": 4,
   "metadata": {},
   "outputs": [
    {
     "name": "stdout",
     "output_type": "stream",
     "text": [
      "파이토치버전: 2.3.0+cpu\n"
     ]
    }
   ],
   "source": [
    "import torch\n",
    "import torch.nn as nn # Model을 구성하는 연산(Layer)\n",
    "from torch.utils.data import DataLoader # DataLoader 클래스. \n",
    "from torchvision import datasets, transforms\n",
    "# torchvision: 파이토치에서 영상데이터 처리를 위한 기능들을 제공하는 패키지(Lib).\n",
    "import matplotlib.pyplot as plt\n",
    "\n",
    "print(\"파이토치버전:\",  torch.__version__)"
   ]
  },
  {
   "cell_type": "markdown",
   "metadata": {},
   "source": [
    "### device 설정"
   ]
  },
  {
   "cell_type": "code",
   "execution_count": 5,
   "metadata": {},
   "outputs": [
    {
     "data": {
      "text/plain": [
       "'cpu'"
      ]
     },
     "execution_count": 5,
     "metadata": {},
     "output_type": "execute_result"
    }
   ],
   "source": [
    "device = \"cuda\" if torch.cuda.is_available() else \"cpu\"\n",
    "#mac, m1, m2\n",
    "# device = \"mps\" if torch.backends.mps.is_available() else \"cpu\"\n",
    "device"
   ]
  },
  {
   "cell_type": "markdown",
   "metadata": {},
   "source": [
    "### 하이퍼파라미터, 변수 설정"
   ]
  },
  {
   "cell_type": "code",
   "execution_count": 6,
   "metadata": {},
   "outputs": [],
   "source": [
    "# 학습률 - 파라미터 update시 gradient의 어느정도 비율을 적용할지 곱해줄 값.\n",
    "#             optimizer에 적용.\n",
    "lr = 0.001  \n",
    "batch_size = 256 \n",
    "# 한번 학습할 때(step-파라미터 업데이트 단위.) 몇개의 데이터를 모델에 주입(feed)할지 개수.\n",
    "epochs = 20\n",
    "# 학습 데이터 셋을 전체를 한번 학습하는 것을 epoch이라고 한다."
   ]
  },
  {
   "cell_type": "code",
   "execution_count": 7,
   "metadata": {},
   "outputs": [],
   "source": [
    "# 변수\n",
    "import os\n",
    "dataset_path = r\"c:\\classes\\deeplearning\\datasets\" # 데이터셋 저장할 디렉토리.\n",
    "os.makedirs(dataset_path, exist_ok=True)\n",
    "model_path =  r\"c:\\classes\\deeplearning\\saved_models\\mnist\" # 모델 저장할 디렉토리 \n",
    "os.makedirs(model_path, exist_ok=True)"
   ]
  },
  {
   "cell_type": "markdown",
   "metadata": {
    "ExecuteTime": {
     "end_time": "2021-08-30T05:02:52.852140Z",
     "start_time": "2021-08-30T05:02:52.563117Z"
    },
    "slideshow": {
     "slide_type": "slide"
    }
   },
   "source": [
    "### MNIST dataset Loading\n",
    "#### Dataset"
   ]
  },
  {
   "cell_type": "code",
   "execution_count": 9,
   "metadata": {},
   "outputs": [],
   "source": [
    "# torchvision에서 제공하는 mnist dataset을 다운 및 loading\n",
    "trainset = datasets.MNIST(\n",
    "    root=dataset_path, # 다운 받은 데이터셋을 저장할 디렉토리.(있으면 다운 안받음.)\n",
    "    download=True,    # root에 다운받은 파일이 없으면 download 할지 여부.\n",
    "    transform=transforms.ToTensor(), # 데이터 전처리 함수를 가진 객체.\n",
    ")\n",
    "testset = datasets.MNIST(\n",
    "    root=dataset_path, \n",
    "    train=False,  # train과 test set중 어떤 것을 사용할 지 여부: True(default)-trainset, False-testset\n",
    "    download=True, \n",
    "    transform=transforms.ToTensor()\n",
    ")\n",
    "# ToTensor() - 원본 이미지(raw)가 ndarray거나 PIL.Image 타입인 것을 torch.Tensor로\n",
    "##                변환. (height, width, channel) -> (channel, height, width)\n",
    "##                 픽셀(화소)값들을 0 ~ 1 정규화 한다."
   ]
  },
  {
   "cell_type": "markdown",
   "metadata": {},
   "source": [
    "#### DataLoader"
   ]
  },
  {
   "cell_type": "code",
   "execution_count": 55,
   "metadata": {},
   "outputs": [
    {
     "data": {
      "text/plain": [
       "tensor([8, 0, 2, 3, 7, 6, 4, 5, 1, 9])"
      ]
     },
     "execution_count": 55,
     "metadata": {},
     "output_type": "execute_result"
    }
   ],
   "source": [
    "torch.randperm(10) "
   ]
  },
  {
   "cell_type": "code",
   "execution_count": 56,
   "metadata": {},
   "outputs": [],
   "source": [
    "# Dataset을 넣어서 DataLoader를 생성 \n",
    "## Dataset은 데이터를 하나씩 loading 역할.\n",
    "## DataLoader는 데이터를 batch단위로 모델에 제공하는 역할.\n",
    "train_loader = DataLoader(\n",
    "    trainset, # Dataset\n",
    "    batch_size=batch_size,\n",
    "    shuffle=True, # 데이터 제공 epoch이 시작할 때 섞을지(shuffle)여부(default: False)\n",
    "    drop_last=True, # 마지막 batch의 개수가 batch_size보다 적으면 학습하지 않게한다.\n",
    "    generator=torch.Generator(device=device)\n",
    ")\n",
    "test_loader = DataLoader(\n",
    "    testset, # Dataset\n",
    "    batch_size=batch_size,\n",
    "    generator=torch.Generator(device=device)\n",
    ")\n",
    "# 검증/최종 평가 데이터세의 dataloader -> shuffle, drop_last는 설정안함.\n",
    "###  batch_size가 train_loader와 달라도 상관없다.\n"
   ]
  },
  {
   "cell_type": "code",
   "execution_count": 57,
   "metadata": {},
   "outputs": [
    {
     "name": "stdout",
     "output_type": "stream",
     "text": [
      "Trainset의 1 epoch당 step수: 234\n",
      "Testset의 1 epoch당 step수: 40\n"
     ]
    }
   ],
   "source": [
    "print(\"Trainset의 1 epoch당 step수:\", len(train_loader))\n",
    "print(\"Testset의 1 epoch당 step수:\", len(test_loader))\n",
    "\n",
    "# 1 epoch당 step수: Dataset 전체를 한번 학습할 때 몇번 파라미터들을 update하는지."
   ]
  },
  {
   "cell_type": "code",
   "execution_count": 58,
   "metadata": {},
   "outputs": [
    {
     "data": {
      "text/plain": [
       "(60000, 10000)"
      ]
     },
     "execution_count": 58,
     "metadata": {},
     "output_type": "execute_result"
    }
   ],
   "source": [
    "# 총 데이터 개수\n",
    "len(trainset), len(testset)"
   ]
  },
  {
   "cell_type": "markdown",
   "metadata": {
    "slideshow": {
     "slide_type": "slide"
    }
   },
   "source": [
    "### 모델 정의"
   ]
  },
  {
   "cell_type": "code",
   "execution_count": 62,
   "metadata": {},
   "outputs": [],
   "source": [
    "# 28 * 28  (mnist 이미지 size) => feature: 개별 화소(pixcel)"
   ]
  },
  {
   "cell_type": "code",
   "execution_count": 70,
   "metadata": {},
   "outputs": [],
   "source": [
    "class MNISTModel(nn.Module):\n",
    "    def __init__(self):\n",
    "        \"\"\"모델이 추론하는데 필요한 자원(Layer등등)들을 생성 및 초기화한다.\n",
    "        \"\"\"\n",
    "        # 1. super class(nn.Module)의 __init__()을 호출해서 초기화.\n",
    "        super().__init__() \n",
    "        # 2. 이 모델에서 필요한 자원들 초기화.\n",
    "        self.lr1 = nn.Linear(784, 128) # (입력: 784-이미지화소수, 출력: 128)\n",
    "        self.lr2 = nn.Linear(128, 64)   # (입력: 128-lr1의 출력개수, 출력: 64)\n",
    "        self.lr3 = nn.Linear(64, 10)    # (입력: 64-lr2의 출력개수, 출력-10: target(y)의 class개수.)\n",
    "        # 784: 입력 feature수, 10: 출력 class의 개수\n",
    "        # 128, 64 -> hyper parameter(우리가 정한 값.)\n",
    "\n",
    "    def forward(self, X):\n",
    "        \"\"\"X를 입력받아서 y를 추정하는 계산을 정의.\n",
    "        X를 입력받아서 그 결과를 최종 출력 할 때 까지의 계산 흐름을 구현한다.\n",
    "        Paramter\n",
    "            X: tensor - 추론할 MNIST 이미지를 batch단위로 받는다.\n",
    "                           shape: (batch_size, 1, 28, 28)  (batch, channel, height, width)\n",
    "        \"\"\"\n",
    "        #입력받은 X를 (batch_size, 784) flatten 처리 (batch는 유지.)\n",
    "        ## flatten하는 이유: Linear 에 입력에 맞춰주기 위해. (선형함수->1차원과 1차원 내적)\n",
    "        X = torch.flatten(X, start_dim=1) # batch축은 놔두고 나머지 축을 flatten\n",
    "        \n",
    "        hidden = self.lr1(X)  #lr1(X) = WX + b   -> 결과: (batch_size, 128)\n",
    "        hidden = nn.ReLU()(hidden) # activation(활성) 함수 => 비선형성을 부여함수.\n",
    "        # relu(x) = max(x, 0)\n",
    "        hidden = self.lr2(hidden) # (batch, 128) -> 출력결과(batch, 64)\n",
    "        hidden = nn.ReLU()(hidden)\n",
    "        \n",
    "        out = self.lr3(hidden)   #(batch, 64) -> 출력결과(batch, 10)\n",
    "        return out"
   ]
  },
  {
   "cell_type": "code",
   "execution_count": 64,
   "metadata": {},
   "outputs": [
    {
     "name": "stdout",
     "output_type": "stream",
     "text": [
      "t shape:  torch.Size([2, 3, 4])\n",
      "torch.Size([24])\n",
      "torch.Size([2, 12])\n",
      "torch.Size([6, 4])\n"
     ]
    }
   ],
   "source": [
    "## flatten()함수 -> 다차원 텐서(배열) 을 1차원을 변환.\n",
    "# t = torch.arange(24).reshape(2, 3, 4)  # 3 x 4  데이터가 2개 .\n",
    "# r1 = torch.flatten(t)\n",
    "# print(\"t shape: \", t.shape)\n",
    "# print(r1.shape)\n",
    "# # dim 포함 그 이후 차원들을 flatten 시킴. start_dim=1. 0축은 놔두고 1축이후부터 flatten\n",
    "# r2 = torch.flatten(t, start_dim=1)  \n",
    "# print(r2.shape)\n",
    "# r3 = torch.flatten(t, end_dim=1) # end_dim=1. 0축, 1축을 flatten, 1축 이후는 나둔다.\n",
    "# print(r3.shape)"
   ]
  },
  {
   "cell_type": "code",
   "execution_count": 65,
   "metadata": {},
   "outputs": [
    {
     "name": "stdout",
     "output_type": "stream",
     "text": [
      "Test.method\n"
     ]
    }
   ],
   "source": [
    "# class Test:\n",
    "#     def method(self):\n",
    "#         print(\"Test.method\")\n",
    "# t = Test()\n",
    "# t.method()"
   ]
  },
  {
   "cell_type": "code",
   "execution_count": 66,
   "metadata": {},
   "outputs": [
    {
     "name": "stdout",
     "output_type": "stream",
     "text": [
      "Test2.__call__()\n",
      "Test2.method()\n",
      "Test2.__call__()\n",
      "Test2.method()\n"
     ]
    }
   ],
   "source": [
    "# class Test2:\n",
    "#     def method(self):\n",
    "#         print(\"Test2.method()\")\n",
    "#     def __call__(self):\n",
    "#         print(\"Test2.__call__()\")\n",
    "#         self.method()\n",
    "        \n",
    "# t2 = Test2()\n",
    "t2()  # 객체를 함수처럼 호출 -> 객체.__call__() 호출.\n",
    "Test2()()"
   ]
  },
  {
   "cell_type": "markdown",
   "metadata": {},
   "source": [
    "### Train"
   ]
  },
  {
   "cell_type": "markdown",
   "metadata": {},
   "source": [
    "#### 모델, loss function, optimizer 생성"
   ]
  },
  {
   "cell_type": "code",
   "execution_count": 71,
   "metadata": {},
   "outputs": [
    {
     "name": "stdout",
     "output_type": "stream",
     "text": [
      "MNISTModel(\n",
      "  (lr1): Linear(in_features=784, out_features=128, bias=True)\n",
      "  (lr2): Linear(in_features=128, out_features=64, bias=True)\n",
      "  (lr3): Linear(in_features=64, out_features=10, bias=True)\n",
      ")\n"
     ]
    }
   ],
   "source": [
    "# 모델 instance 생성\n",
    "model = MNISTModel().to(device) # 이 모델을 연산할 device로 이동.(파라미터들을 이동시킴.)\n",
    "# 모델의 구조 확인\n",
    "print(model)"
   ]
  },
  {
   "cell_type": "code",
   "execution_count": 72,
   "metadata": {},
   "outputs": [],
   "source": [
    "## loss 함수 instance 정의\n",
    "#### 다중 분류 loss함수.\n",
    "loss_fn = nn.CrossEntropyLoss()  #함수: nn.functional.cross_entropy()"
   ]
  },
  {
   "cell_type": "code",
   "execution_count": 73,
   "metadata": {},
   "outputs": [],
   "source": [
    "## optimizer -> model의 parameter를 넣어서 생성.\n",
    "#### new_parameter = param - 학습률 * param.grad\n",
    "optim = torch.optim.Adam(model.parameters(), lr=lr)  #(파라미터-최적화대상, 학습률)"
   ]
  },
  {
   "cell_type": "code",
   "execution_count": 76,
   "metadata": {},
   "outputs": [
    {
     "name": "stdout",
     "output_type": "stream",
     "text": [
      "torch.Size([256, 1, 28, 28]) torch.Size([256])\n"
     ]
    }
   ],
   "source": [
    "# 학습 전 추론\n",
    "X_batch, y_batch  = next(iter(train_loader))   # iterable\n",
    "\n",
    "print(X_batch.shape, y_batch.shape)"
   ]
  },
  {
   "cell_type": "code",
   "execution_count": 77,
   "metadata": {},
   "outputs": [],
   "source": [
    "# 모델, X, y 값이 같은 device에 위치해야 한다.\n",
    "X_batch = X_batch.to(device)\n",
    "y_batch = y_batch.to(device)"
   ]
  },
  {
   "cell_type": "code",
   "execution_count": 78,
   "metadata": {},
   "outputs": [],
   "source": [
    "y_pred = model(X_batch)  # model.forward(X_batch) => 모델이 y를 추정하는 연산처리."
   ]
  },
  {
   "cell_type": "code",
   "execution_count": 79,
   "metadata": {},
   "outputs": [
    {
     "data": {
      "text/plain": [
       "torch.Size([256, 10])"
      ]
     },
     "execution_count": 79,
     "metadata": {},
     "output_type": "execute_result"
    }
   ],
   "source": [
    "y_pred.shape"
   ]
  },
  {
   "cell_type": "code",
   "execution_count": 49,
   "metadata": {},
   "outputs": [
    {
     "data": {
      "text/plain": [
       "(tensor(0), tensor(2))"
      ]
     },
     "execution_count": 49,
     "metadata": {},
     "output_type": "execute_result"
    }
   ],
   "source": [
    "# 정답 label을 출력\n",
    "torch.argmax(y_pred[0]), y_batch[0]"
   ]
  },
  {
   "cell_type": "code",
   "execution_count": 81,
   "metadata": {},
   "outputs": [],
   "source": [
    "# 파라미터 업데이트 \n",
    "## loss 계산\n",
    "loss = loss_fn(y_pred, y_batch)\n",
    "loss.backward()  # 도함수 이용해 gradient값들 계산. "
   ]
  },
  {
   "cell_type": "code",
   "execution_count": 82,
   "metadata": {},
   "outputs": [],
   "source": [
    "# 파라미터 업데이트 \n",
    "optim.step()\n",
    "# 파라미터의 gradient값 초기\n",
    "optim.zero_grad()\n",
    "########################## -> 1 step"
   ]
  },
  {
   "cell_type": "code",
   "execution_count": 83,
   "metadata": {},
   "outputs": [
    {
     "data": {
      "text/plain": [
       "tensor(2.2761, grad_fn=<NllLossBackward0>)"
      ]
     },
     "execution_count": 83,
     "metadata": {},
     "output_type": "execute_result"
    }
   ],
   "source": [
    "pred2 = model(X_batch)\n",
    "loss_fn(pred2, y_batch)"
   ]
  },
  {
   "cell_type": "code",
   "execution_count": 84,
   "metadata": {},
   "outputs": [],
   "source": [
    "################ 모델 학습 \n",
    "# 모델, loss 함수, optimizer 정의\n",
    "model = MNISTModel().to(device)\n",
    "loss_fn = nn.CrossEntropyLoss()\n",
    "optim = torch.optim.Adam(model.parameters(), lr=lr)"
   ]
  },
  {
   "cell_type": "code",
   "execution_count": 86,
   "metadata": {
    "scrolled": true
   },
   "outputs": [
    {
     "name": "stdout",
     "output_type": "stream",
     "text": [
      "[01/20] train loss: 0.5471189963894013, val loss: 0.24800832569599152, val acc: 0.9281\n",
      "[02/20] train loss: 0.21794292725558972, val loss: 0.1710786074399948, val acc: 0.95\n",
      "[03/20] train loss: 0.15756647900128976, val loss: 0.1397096812725067, val acc: 0.9576\n",
      "[04/20] train loss: 0.12208558114356974, val loss: 0.11451219022274017, val acc: 0.9655\n",
      "[05/20] train loss: 0.09994190555607152, val loss: 0.09985323995351791, val acc: 0.969\n",
      "[06/20] train loss: 0.0826897397159766, val loss: 0.09076622873544693, val acc: 0.9717\n",
      "[07/20] train loss: 0.06991422817142856, val loss: 0.08930730819702148, val acc: 0.9708\n",
      "[08/20] train loss: 0.060283061363694504, val loss: 0.08093379437923431, val acc: 0.9726\n",
      "[09/20] train loss: 0.05275489666905159, val loss: 0.08048529177904129, val acc: 0.974\n",
      "[10/20] train loss: 0.044851400252654515, val loss: 0.07480750977993011, val acc: 0.9764\n",
      "[11/20] train loss: 0.037646539306315854, val loss: 0.07596321403980255, val acc: 0.9757\n",
      "[12/20] train loss: 0.033481683442767106, val loss: 0.07111267745494843, val acc: 0.9763\n",
      "[13/20] train loss: 0.028938248648077376, val loss: 0.07615313678979874, val acc: 0.9762\n",
      "[14/20] train loss: 0.02460143644299008, val loss: 0.07600747048854828, val acc: 0.9761\n",
      "[15/20] train loss: 0.02138402256179346, val loss: 0.08161424845457077, val acc: 0.9742\n",
      "[16/20] train loss: 0.017941137105146915, val loss: 0.07820694148540497, val acc: 0.9774\n",
      "[17/20] train loss: 0.014578110072761774, val loss: 0.0737537369132042, val acc: 0.9772\n",
      "[18/20] train loss: 0.014012724609894311, val loss: 0.08237828314304352, val acc: 0.9771\n",
      "[19/20] train loss: 0.013809787367199922, val loss: 0.0848911851644516, val acc: 0.9774\n",
      "[20/20] train loss: 0.010051425173281668, val loss: 0.08226010948419571, val acc: 0.9779\n",
      "걸린시간: 205.45733952522278초\n"
     ]
    }
   ],
   "source": [
    "# 학습\n",
    "### 중첩 반복 - outer: epoch 반복, inner: step 반복\n",
    "import time\n",
    "## epoch별 학습 결과를 저장할 리스트들. \n",
    "train_loss_list = []\n",
    "val_loss_list = []\n",
    "val_acc_list = []\n",
    "s = time.time()\n",
    "for epoch in range(epochs):\n",
    "    ################################\n",
    "    # 모델 학습(train-fit)\n",
    "    ################################\n",
    "    model.train() # 모델을 학습 모드(train mode)로 변경.\n",
    "    train_loss = 0 # 현재 epoch의 train loss를 저장할 변수.\n",
    "    #### step 반복 - batch단위로 학습. -> train_loader(DataLoader)를 반복 조회\n",
    "    for X_train, y_train in train_loader:\n",
    "        # 1. X, y를 device로 이동.\n",
    "        X_train, y_train = X_train.to(device), y_train.to(device)\n",
    "        # 2. 모델을 이용해 추론(추정, 예측)\n",
    "        pred = model(X_train)\n",
    "        # 3. loss 계산\n",
    "        loss = loss_fn(pred, y_train)  # args 순서: (모델추정값,  정답)\n",
    "        # 4. gradient 계산.\n",
    "        loss.backward()\n",
    "        # 5. 파라미터(weight들, bias들) 업데이트\n",
    "        optim.step()\n",
    "        # 6. gradient값 초기화. \n",
    "        optim.zero_grad()\n",
    "        # -----------  1 step 학습.\n",
    "        ### 로그를 위해서 train loss를 저장.\n",
    "        train_loss = train_loss + loss.item()  # tensor.item() -> Tensor의 값을 python값으로 추출(변환)\n",
    "\n",
    "    train_loss = train_loss / len(train_loader)  # epoch의 train loss. Train loss 평균\n",
    "    train_loss_list.append(train_loss)\n",
    "    ################################\n",
    "    # 학습 결과 검증 - test set으로 검증.\n",
    "    ################################\n",
    "    model.eval()  # 모델을 검증/추정 모드(evaluation mode)로 변환.\n",
    "    # 현재 epoch의 모델 성능을 검증\n",
    "    val_loss = 0.0  # loss\n",
    "    val_acc = 0.0  # 정확도(accuracy)\n",
    "    with torch.no_grad():  # gradient function(도함수)를 정의하지 말아라.\n",
    "        # 단순 검증 -> gradient 계산이 필요 없다. torch.no_grad() context manager를 이용해서 처리.\n",
    "        for X_val, y_val in test_loader:\n",
    "            # 1. device 이동\n",
    "            X_val, y_val = X_val.to(device), y_val.to(device)\n",
    "            # 2. 모델 추정\n",
    "            pred_val = model(X_val)  # class별 정답일 확률(10개)\n",
    "            ## 검증 - loss\n",
    "            val_loss = val_loss + loss_fn(pred_val, y_val)\n",
    "            ## 검증 - accuracy(정확도)\n",
    "            pred_class = pred_val.argmax(dim=-1) \n",
    "            # pred_val.shape: (batch, 10)  -> class 별 확률에서 가장 큰값.->(batch, )\n",
    "            val_acc = val_acc + torch.sum(pred_class == y_val).item()\n",
    "        \n",
    "        # val_acc, val_loss 평균계산\n",
    "        val_loss = val_loss / len(test_loader)  # step 수로 나눠서 평균 계산.\n",
    "        val_acc = val_acc / len(test_loader.dataset) # 총 데이터 개수 로 나눠서 평균 계산\n",
    "        val_loss_list.append(val_loss)\n",
    "        val_acc_list.append(val_acc)\n",
    "        ## 검증 결과 출력 \n",
    "        print(f\"[{epoch+1:02d}/{epochs}] train loss: {train_loss}, val loss: {val_loss}, val acc: {val_acc}\")\n",
    "\n",
    "e = time.time()\n",
    "print(f\"걸린시간: {e-s}초\")"
   ]
  },
  {
   "cell_type": "markdown",
   "metadata": {},
   "source": [
    "#### 학습 로그 시각화"
   ]
  },
  {
   "cell_type": "code",
   "execution_count": 94,
   "metadata": {},
   "outputs": [
    {
     "data": {
      "image/png": "[encoded data removed]",
      "text/plain": [
       "<Figure size 1200x500 with 2 Axes>"
      ]
     },
     "metadata": {},
     "output_type": "display_data"
    }
   ],
   "source": [
    "# epoch 별 loss/accuracy 변화를 시각화.\n",
    "import matplotlib.pyplot as plt\n",
    "plt.rcParams['font.family'] = 'malgun gothic'\n",
    "plt.rcParams['axes.unicode_minus'] = False\n",
    "\n",
    "plt.figure(figsize=(12, 5))\n",
    "plt.subplot(1, 2, 1)\n",
    "plt.plot(range(epochs), train_loss_list, label=\"train loss\")\n",
    "plt.plot(range(epochs), val_loss_list, label=\"valid loss\")\n",
    "plt.title(\"Loss\")\n",
    "plt.legend()\n",
    "plt.grid(True)\n",
    "\n",
    "plt.subplot(1, 2, 2)\n",
    "plt.plot(range(epochs), val_acc_list)\n",
    "plt.title(\"Validation Accuracy\")\n",
    "plt.grid(True)\n",
    "plt.show()"
   ]
  },
  {
   "cell_type": "markdown",
   "metadata": {},
   "source": [
    "### 학습된 모델 저장 및 불러오기"
   ]
  },
  {
   "cell_type": "code",
   "execution_count": 100,
   "metadata": {},
   "outputs": [],
   "source": [
    "# pytorch 모델 저장 파일 확장자: pt, pth\n",
    "saved_model_file_path = os.path.join(model_path, \"mnist_mlp.pt\")"
   ]
  },
  {
   "cell_type": "code",
   "execution_count": 102,
   "metadata": {},
   "outputs": [],
   "source": [
    "#  model.state_dict()  # 모델을 구성하는 parameter 들을 조회 -> 저장\n",
    "torch.save(model.state_dict(), saved_model_file_path)"
   ]
  },
  {
   "cell_type": "code",
   "execution_count": 103,
   "metadata": {},
   "outputs": [
    {
     "data": {
      "text/plain": [
       "<All keys matched successfully>"
      ]
     },
     "execution_count": 103,
     "metadata": {},
     "output_type": "execute_result"
    }
   ],
   "source": [
    "##### 모델 불러오기 \n",
    "# 모델 생성\n",
    "load_model = MNISTModel()\n",
    "# 생성한 모델의 파라미터를 저장할 파라미터로 변경.\n",
    "load_parameter = torch.load(saved_model_file_path)\n",
    "load_model.load_state_dict(load_parameter)"
   ]
  },
  {
   "cell_type": "markdown",
   "metadata": {},
   "source": [
    "## 모델 성능 최종 평가"
   ]
  },
  {
   "cell_type": "code",
   "execution_count": 105,
   "metadata": {},
   "outputs": [],
   "source": [
    "load_model = load_model.to(device)\n",
    "load_model.eval() #평가 모드로 변경.\n",
    "test_loss, test_acc = 0.0, 0.0\n",
    "\n",
    "with torch.no_grad():\n",
    "    for X_test, y_test in test_loader:\n",
    "        # 1. device 이동\n",
    "        X_test, y_test = X_test.to(device), y_test.to(device)\n",
    "        # 2. 모델 추정\n",
    "        pred_test = load_model(X_test)\n",
    "        # 3. 검증 - loss, acc\n",
    "        test_loss += loss_fn(pred_test, y_test).item()\n",
    "        ## class별 확률 -> class\n",
    "        pred_test_class = pred_test.argmax(dim=-1)\n",
    "        test_acc += torch.sum(pred_test_class == y_test).item()\n",
    "    # test_loss, test_acc 평균\n",
    "    test_loss /= len(test_loader) # step수로 나눠서 평균계산\n",
    "    test_acc /= len(test_loader.dataset) # 총 데이터 개수로 나눠서 평균계산"
   ]
  },
  {
   "cell_type": "code",
   "execution_count": 106,
   "metadata": {},
   "outputs": [
    {
     "name": "stdout",
     "output_type": "stream",
     "text": [
      "0.08226011931838002\n",
      "0.9779\n"
     ]
    }
   ],
   "source": [
    "print(test_loss)\n",
    "print(test_acc)"
   ]
  },
  {
   "cell_type": "markdown",
   "metadata": {
    "slideshow": {
     "slide_type": "slide"
    }
   },
   "source": [
    "## 새로운 데이터 추론"
   ]
  },
  {
   "cell_type": "code",
   "execution_count": 107,
   "metadata": {
    "collapsed": true,
    "jupyter": {
     "outputs_hidden": true
    },
    "scrolled": true
   },
   "outputs": [
    {
     "name": "stdout",
     "output_type": "stream",
     "text": [
      "Collecting opencv-contrib-python\n",
      "  Using cached opencv_contrib_python-4.9.0.80-cp37-abi3-win_amd64.whl.metadata (20 kB)\n",
      "Requirement already satisfied: numpy>=1.21.2 in c:\\classes\\da-35\\08_deeplearning_pytorch\\env\\lib\\site-packages (from opencv-contrib-python) (1.26.4)\n",
      "Using cached opencv_contrib_python-4.9.0.80-cp37-abi3-win_amd64.whl (45.3 MB)\n",
      "Installing collected packages: opencv-contrib-python\n",
      "Successfully installed opencv-contrib-python-4.9.0.80\n"
     ]
    }
   ],
   "source": [
    "!pip install opencv-contrib-python"
   ]
  },
  {
   "cell_type": "code",
   "execution_count": 108,
   "metadata": {},
   "outputs": [],
   "source": [
    "import cv2"
   ]
  },
  {
   "cell_type": "code",
   "execution_count": 129,
   "metadata": {},
   "outputs": [],
   "source": [
    "def pred(model, device=\"cpu\", *path):\n",
    "    \"\"\"model을 이용해서 *path의 이미지를 추론\"\"\"\n",
    "    # 이미지 로딩\n",
    "    ## 로딩된 이미지들을 저장할 tensor\n",
    "    input_tensor = torch.zeros(len(path), 1, 28, 28)\n",
    "    for i in range(len(path)):\n",
    "        img = cv2.imread(path[i], cv2.IMREAD_GRAYSCALE)\n",
    "        img = cv2.resize(img, (28, 28))\n",
    "        input_tensor[i] = transforms.ToTensor()(img)\n",
    "    # print(\"input data shape:\", input_tensor.shape)\n",
    "    # 추론\n",
    "    model = model.to(device)\n",
    "    model.eval()  #evaluation 모드 변환.\n",
    "    input_tensor = input_tensor.to(device)\n",
    "    with torch.no_grad():\n",
    "        y_hat = model(input_tensor)\n",
    "        y_hat_label = y_hat.argmax(dim=-1)\n",
    "    return y_hat_label"
   ]
  },
  {
   "cell_type": "code",
   "execution_count": 136,
   "metadata": {},
   "outputs": [
    {
     "data": {
      "text/plain": [
       "tensor([6, 3, 5, 4, 0, 7, 3, 3, 3, 2, 2])"
      ]
     },
     "execution_count": 136,
     "metadata": {},
     "output_type": "execute_result"
    }
   ],
   "source": [
    "from glob import glob\n",
    "\n",
    "test_img_list = glob(\"test_img/num/*.png\")\n",
    "pred_result = pred(load_model, device, *test_img_list)\n",
    "pred_result"
   ]
  },
  {
   "cell_type": "code",
   "execution_count": 138,
   "metadata": {},
   "outputs": [
    {
     "data": {
      "image/png": "[encoded data removed]",
      "text/plain": [
       "<Figure size 1500x700 with 11 Axes>"
      ]
     },
     "metadata": {},
     "output_type": "display_data"
    }
   ],
   "source": [
    "# 이미지 - 출력 결과 시각화\n",
    "plt.figure(figsize=(15, 7))\n",
    "for  idx, (path, label) in enumerate(zip(test_img_list, pred_result)):\n",
    "    # print(idx, path, label.item())\n",
    "    img = cv2.imread(path, cv2.IMREAD_GRAYSCALE)\n",
    "    plt.subplot(2, 6, idx+1)\n",
    "    plt.imshow(img, cmap='gray')\n",
    "    plt.title(str(label.item()), fontsize=20)\n",
    "\n",
    "plt.tight_layout()\n",
    "plt.show()"
   ]
  },
  {
   "cell_type": "code",
   "execution_count": null,
   "metadata": {},
   "outputs": [],
   "source": []
  },
  {
   "cell_type": "code",
   "execution_count": null,
   "metadata": {},
   "outputs": [],
   "source": []
  },
  {
   "cell_type": "code",
   "execution_count": null,
   "metadata": {},
   "outputs": [],
   "source": []
  },
  {
   "cell_type": "code",
   "execution_count": null,
   "metadata": {},
   "outputs": [],
   "source": []
  },
  {
   "cell_type": "code",
   "execution_count": null,
   "metadata": {},
   "outputs": [],
   "source": []
  }
 ],
 "metadata": {
  "kernelspec": {
   "display_name": "Python 3 (ipykernel)",
   "language": "python",
   "name": "python3"
  },
  "language_info": {
   "codemirror_mode": {
    "name": "ipython",
    "version": 3
   },
   "file_extension": ".py",
   "mimetype": "text/x-python",
   "name": "python",
   "nbconvert_exporter": "python",
   "pygments_lexer": "ipython3",
   "version": "3.11.8"
  },
  "toc": {
   "base_numbering": 1,
   "nav_menu": {},
   "number_sections": false,
   "sideBar": true,
   "skip_h1_title": false,
   "title_cell": "Table of Contents",
   "title_sidebar": "Contents",
   "toc_cell": false,
   "toc_position": {},
   "toc_section_display": true,
   "toc_window_display": false
  },
  "varInspector": {
   "cols": {
    "lenName": 16,
    "lenType": 16,
    "lenVar": 40
   },
   "kernels_config": {
    "python": {
     "delete_cmd_postfix": "",
     "delete_cmd_prefix": "del ",
     "library": "var_list.py",
     "varRefreshCmd": "print(var_dic_list())"
    },
    "r": {
     "delete_cmd_postfix": ") ",
     "delete_cmd_prefix": "rm(",
     "library": "var_list.r",
     "varRefreshCmd": "cat(var_dic_list()) "
    }
   },
   "position": {
    "height": "347.844px",
    "left": "1891px",
    "right": "20px",
    "top": "361px",
    "width": "486px"
   },
   "types_to_exclude": [
    "module",
    "function",
    "builtin_function_or_method",
    "instance",
    "_Feature"
   ],
   "window_display": false
  }
 },
 "nbformat": 4,
 "nbformat_minor": 4
}
