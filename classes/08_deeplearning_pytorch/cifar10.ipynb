{
 "cells": [
  {
   "cell_type": "markdown",
   "id": "474bdd1d-7d4f-4f13-ac00-c038f9e2818a",
   "metadata": {},
   "source": [
    "# Cifar10 Dataset 모델링.\n",
    "\n",
    "- cifar10 오픈 데이터셋 모델링.\n",
    "    - Bulit-in dataset\n",
    "    - train: 60000, test: 10000\n",
    "    - color 이미지, 32x32, 10개 클래스 분류\n",
    "\n",
    "1. Dataset, DataLoader\n",
    "    - augmentation 적용.\n",
    "2. modeling\n",
    "    - vgg19 이외의 모델들도 사용. 본인이 만든 모델.\n",
    "    - transfer learning, fine tuning"
   ]
  },
  {
   "cell_type": "code",
   "execution_count": null,
   "id": "998d673f-3299-49d7-aec0-0a9a560fabfb",
   "metadata": {},
   "outputs": [],
   "source": []
  }
 ],
 "metadata": {
  "kernelspec": {
   "display_name": "Python 3 (ipykernel)",
   "language": "python",
   "name": "python3"
  },
  "language_info": {
   "codemirror_mode": {
    "name": "ipython",
    "version": 3
   },
   "file_extension": ".py",
   "mimetype": "text/x-python",
   "name": "python",
   "nbconvert_exporter": "python",
   "pygments_lexer": "ipython3",
   "version": "3.11.8"
  }
 },
 "nbformat": 4,
 "nbformat_minor": 5
}
